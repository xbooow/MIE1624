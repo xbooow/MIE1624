{
 "cells": [
  {
   "cell_type": "markdown",
   "metadata": {
    "colab_type": "text",
    "id": "Az6sifTgFJQY"
   },
   "source": [
    "# Import All Libraries"
   ]
  },
  {
   "cell_type": "code",
   "execution_count": 1,
   "metadata": {
    "colab": {},
    "colab_type": "code",
    "id": "0afciudtFJQb"
   },
   "outputs": [],
   "source": [
    "%matplotlib inline\n",
    "import numpy as np\n",
    "import pandas as pd\n",
    "import matplotlib.pyplot as plt\n",
    "import seaborn as sns\n",
    "from sklearn.preprocessing import StandardScaler\n",
    "from sklearn.feature_selection import chi2\n",
    "from sklearn.metrics import accuracy_score\n",
    "from sklearn.linear_model import LogisticRegression\n",
    "from sklearn.model_selection import KFold\n",
    "from sklearn.preprocessing import LabelEncoder,LabelBinarizer\n",
    "from sklearn.metrics import log_loss, confusion_matrix\n",
    "from sklearn.model_selection import GridSearchCV\n",
    "import warnings\n",
    "sns.set_palette(sns.color_palette(\"hls\", 20))\n",
    "warnings.filterwarnings('ignore')\n",
    "pd.set_option('display.max_rows', 500)"
   ]
  },
  {
   "cell_type": "markdown",
   "metadata": {
    "colab_type": "text",
    "id": "7EQBqUm9FJQf"
   },
   "source": [
    "# Load Dataset"
   ]
  },
  {
   "cell_type": "code",
   "execution_count": 2,
   "metadata": {
    "colab": {},
    "colab_type": "code",
    "id": "EesdxY1EFJQg"
   },
   "outputs": [],
   "source": [
    "# prepare dataframe with questions\n",
    "df_q = pd.read_csv('multiple_choice_responses.csv',low_memory=False)"
   ]
  },
  {
   "cell_type": "code",
   "execution_count": 3,
   "metadata": {
    "colab": {
     "base_uri": "https://localhost:8080/",
     "height": 729
    },
    "colab_type": "code",
    "executionInfo": {
     "elapsed": 4037,
     "status": "ok",
     "timestamp": 1582328278783,
     "user": {
      "displayName": "Barry Xu",
      "photoUrl": "https://lh3.googleusercontent.com/a-/AAuE7mCv_JJ8qVD2k4nC_2blPyboV_YF9xsN7_IF90zs=s64",
      "userId": "17926533693346679715"
     },
     "user_tz": 300
    },
    "id": "VULOaUADFJQj",
    "outputId": "00334c33-16b3-4636-ca80-34538c85ad7c"
   },
   "outputs": [
    {
     "data": {
      "text/html": [
       "<div>\n",
       "<style scoped>\n",
       "    .dataframe tbody tr th:only-of-type {\n",
       "        vertical-align: middle;\n",
       "    }\n",
       "\n",
       "    .dataframe tbody tr th {\n",
       "        vertical-align: top;\n",
       "    }\n",
       "\n",
       "    .dataframe thead th {\n",
       "        text-align: right;\n",
       "    }\n",
       "</style>\n",
       "<table border=\"1\" class=\"dataframe\">\n",
       "  <thead>\n",
       "    <tr style=\"text-align: right;\">\n",
       "      <th></th>\n",
       "      <th>Time from Start to Finish (seconds)</th>\n",
       "      <th>Q1</th>\n",
       "      <th>Q2</th>\n",
       "      <th>Q2_OTHER_TEXT</th>\n",
       "      <th>Q3</th>\n",
       "      <th>Q4</th>\n",
       "      <th>Q5</th>\n",
       "      <th>Q5_OTHER_TEXT</th>\n",
       "      <th>Q6</th>\n",
       "      <th>Q7</th>\n",
       "      <th>...</th>\n",
       "      <th>Q34_Part_6</th>\n",
       "      <th>Q34_Part_7</th>\n",
       "      <th>Q34_Part_8</th>\n",
       "      <th>Q34_Part_9</th>\n",
       "      <th>Q34_Part_10</th>\n",
       "      <th>Q34_Part_11</th>\n",
       "      <th>Q34_Part_12</th>\n",
       "      <th>Q34_OTHER_TEXT</th>\n",
       "      <th>Q10_Encoded</th>\n",
       "      <th>Q10_buckets</th>\n",
       "    </tr>\n",
       "  </thead>\n",
       "  <tbody>\n",
       "    <tr>\n",
       "      <td>0</td>\n",
       "      <td>510</td>\n",
       "      <td>22-24</td>\n",
       "      <td>Male</td>\n",
       "      <td>-1</td>\n",
       "      <td>France</td>\n",
       "      <td>Master’s degree</td>\n",
       "      <td>Software Engineer</td>\n",
       "      <td>-1</td>\n",
       "      <td>1000-9,999 employees</td>\n",
       "      <td>0</td>\n",
       "      <td>...</td>\n",
       "      <td>NaN</td>\n",
       "      <td>NaN</td>\n",
       "      <td>NaN</td>\n",
       "      <td>NaN</td>\n",
       "      <td>NaN</td>\n",
       "      <td>NaN</td>\n",
       "      <td>NaN</td>\n",
       "      <td>-1</td>\n",
       "      <td>3</td>\n",
       "      <td>30,000-39,999</td>\n",
       "    </tr>\n",
       "    <tr>\n",
       "      <td>1</td>\n",
       "      <td>423</td>\n",
       "      <td>40-44</td>\n",
       "      <td>Male</td>\n",
       "      <td>-1</td>\n",
       "      <td>India</td>\n",
       "      <td>Professional degree</td>\n",
       "      <td>Software Engineer</td>\n",
       "      <td>-1</td>\n",
       "      <td>&gt; 10,000 employees</td>\n",
       "      <td>20+</td>\n",
       "      <td>...</td>\n",
       "      <td>NaN</td>\n",
       "      <td>NaN</td>\n",
       "      <td>NaN</td>\n",
       "      <td>NaN</td>\n",
       "      <td>NaN</td>\n",
       "      <td>NaN</td>\n",
       "      <td>NaN</td>\n",
       "      <td>-1</td>\n",
       "      <td>0</td>\n",
       "      <td>0-9,999</td>\n",
       "    </tr>\n",
       "    <tr>\n",
       "      <td>2</td>\n",
       "      <td>391</td>\n",
       "      <td>40-44</td>\n",
       "      <td>Male</td>\n",
       "      <td>-1</td>\n",
       "      <td>Australia</td>\n",
       "      <td>Master’s degree</td>\n",
       "      <td>Other</td>\n",
       "      <td>0</td>\n",
       "      <td>&gt; 10,000 employees</td>\n",
       "      <td>20+</td>\n",
       "      <td>...</td>\n",
       "      <td>NaN</td>\n",
       "      <td>NaN</td>\n",
       "      <td>NaN</td>\n",
       "      <td>Azure SQL Database</td>\n",
       "      <td>NaN</td>\n",
       "      <td>NaN</td>\n",
       "      <td>NaN</td>\n",
       "      <td>-1</td>\n",
       "      <td>14</td>\n",
       "      <td>&gt;250,000</td>\n",
       "    </tr>\n",
       "    <tr>\n",
       "      <td>3</td>\n",
       "      <td>392</td>\n",
       "      <td>22-24</td>\n",
       "      <td>Male</td>\n",
       "      <td>-1</td>\n",
       "      <td>India</td>\n",
       "      <td>Bachelor’s degree</td>\n",
       "      <td>Other</td>\n",
       "      <td>1</td>\n",
       "      <td>0-49 employees</td>\n",
       "      <td>0</td>\n",
       "      <td>...</td>\n",
       "      <td>NaN</td>\n",
       "      <td>NaN</td>\n",
       "      <td>NaN</td>\n",
       "      <td>NaN</td>\n",
       "      <td>NaN</td>\n",
       "      <td>NaN</td>\n",
       "      <td>NaN</td>\n",
       "      <td>-1</td>\n",
       "      <td>0</td>\n",
       "      <td>0-9,999</td>\n",
       "    </tr>\n",
       "    <tr>\n",
       "      <td>4</td>\n",
       "      <td>470</td>\n",
       "      <td>50-54</td>\n",
       "      <td>Male</td>\n",
       "      <td>-1</td>\n",
       "      <td>France</td>\n",
       "      <td>Master’s degree</td>\n",
       "      <td>Data Scientist</td>\n",
       "      <td>-1</td>\n",
       "      <td>0-49 employees</td>\n",
       "      <td>3-4</td>\n",
       "      <td>...</td>\n",
       "      <td>NaN</td>\n",
       "      <td>AWS Relational Database Service</td>\n",
       "      <td>NaN</td>\n",
       "      <td>NaN</td>\n",
       "      <td>NaN</td>\n",
       "      <td>NaN</td>\n",
       "      <td>NaN</td>\n",
       "      <td>-1</td>\n",
       "      <td>6</td>\n",
       "      <td>60,000-69,999</td>\n",
       "    </tr>\n",
       "  </tbody>\n",
       "</table>\n",
       "<p>5 rows × 248 columns</p>\n",
       "</div>"
      ],
      "text/plain": [
       "   Time from Start to Finish (seconds)     Q1    Q2  Q2_OTHER_TEXT         Q3  \\\n",
       "0                                  510  22-24  Male             -1     France   \n",
       "1                                  423  40-44  Male             -1      India   \n",
       "2                                  391  40-44  Male             -1  Australia   \n",
       "3                                  392  22-24  Male             -1      India   \n",
       "4                                  470  50-54  Male             -1     France   \n",
       "\n",
       "                    Q4                 Q5  Q5_OTHER_TEXT  \\\n",
       "0      Master’s degree  Software Engineer             -1   \n",
       "1  Professional degree  Software Engineer             -1   \n",
       "2      Master’s degree              Other              0   \n",
       "3    Bachelor’s degree              Other              1   \n",
       "4      Master’s degree     Data Scientist             -1   \n",
       "\n",
       "                     Q6   Q7  ... Q34_Part_6                       Q34_Part_7  \\\n",
       "0  1000-9,999 employees    0  ...        NaN                              NaN   \n",
       "1    > 10,000 employees  20+  ...        NaN                              NaN   \n",
       "2    > 10,000 employees  20+  ...        NaN                              NaN   \n",
       "3        0-49 employees    0  ...        NaN                              NaN   \n",
       "4        0-49 employees  3-4  ...        NaN  AWS Relational Database Service   \n",
       "\n",
       "  Q34_Part_8          Q34_Part_9 Q34_Part_10 Q34_Part_11 Q34_Part_12  \\\n",
       "0        NaN                 NaN         NaN         NaN         NaN   \n",
       "1        NaN                 NaN         NaN         NaN         NaN   \n",
       "2        NaN  Azure SQL Database         NaN         NaN         NaN   \n",
       "3        NaN                 NaN         NaN         NaN         NaN   \n",
       "4        NaN                 NaN         NaN         NaN         NaN   \n",
       "\n",
       "  Q34_OTHER_TEXT Q10_Encoded    Q10_buckets  \n",
       "0             -1           3  30,000-39,999  \n",
       "1             -1           0        0-9,999  \n",
       "2             -1          14       >250,000  \n",
       "3             -1           0        0-9,999  \n",
       "4             -1           6  60,000-69,999  \n",
       "\n",
       "[5 rows x 248 columns]"
      ]
     },
     "execution_count": 3,
     "metadata": {},
     "output_type": "execute_result"
    }
   ],
   "source": [
    "df = pd.read_csv('Kaggle_Salary.csv', low_memory=False)\n",
    "df.head()"
   ]
  },
  {
   "cell_type": "code",
   "execution_count": 4,
   "metadata": {
    "colab": {},
    "colab_type": "code",
    "id": "ye86tn_4FJQn"
   },
   "outputs": [],
   "source": [
    "# get labels\n",
    "target = df['Q10_Encoded']"
   ]
  },
  {
   "cell_type": "markdown",
   "metadata": {},
   "source": [
    "# 1. Data Cleaning"
   ]
  },
  {
   "cell_type": "markdown",
   "metadata": {
    "colab_type": "text",
    "id": "PJcHGUgNFJQq"
   },
   "source": [
    "    * Drop columns with \"OTHER_TEXT\" due to very high Null Rates\n",
    "    * Dealing with MCQ questions\n",
    "    * Insights into Columns Left\n",
    "    * Dealing With Features With Missing Values:\n",
    "            1. Categorical Data Without Orders: 'Q14', 'Q19'\n",
    "            2. Categorical Data With Orders: 'Q11', 'Q15','Q22','Q23'\n",
    "    * Dealing With Features Without Missing Values\n",
    "            1. Features Without Missing Values but With Orders: 'Q6', 'Q7'\n",
    "            2. Features Without Missing Values and Orders: 'Q1','Q2','Q3','Q4','Q5','Q8'\n",
    "    * Adding Column Names for Features for Better Understanding"
   ]
  },
  {
   "cell_type": "markdown",
   "metadata": {},
   "source": [
    "### Drop Columns with other_text"
   ]
  },
  {
   "cell_type": "markdown",
   "metadata": {
    "colab_type": "text",
    "id": "UMAy3WcdFJQs"
   },
   "source": [
    "        'Other Text' questions always include the questions with text answers but without many responses, many cells in this kind of features have value -1 which means the person who answered the survey did not give any text answers, therefore, these columns will not give us too much information. A proof of low response rates is shown below. Doing so could reduce the work of filling missing values by mode since filling these columns with a very high null rate may be very meaningless."
   ]
  },
  {
   "cell_type": "code",
   "execution_count": 5,
   "metadata": {
    "colab": {},
    "colab_type": "code",
    "id": "0hsmNUHTFJQt"
   },
   "outputs": [],
   "source": [
    "other_text_cols = ['Q2_OTHER_TEXT','Q5_OTHER_TEXT','Q9_OTHER_TEXT','Q12_OTHER_TEXT','Q13_OTHER_TEXT','Q14_OTHER_TEXT',\n",
    "                   'Q16_OTHER_TEXT','Q17_OTHER_TEXT','Q18_OTHER_TEXT','Q19_OTHER_TEXT','Q20_OTHER_TEXT','Q21_OTHER_TEXT',\n",
    "                   'Q24_OTHER_TEXT','Q25_OTHER_TEXT','Q26_OTHER_TEXT','Q27_OTHER_TEXT','Q28_OTHER_TEXT','Q29_OTHER_TEXT',\n",
    "                   'Q30_OTHER_TEXT','Q31_OTHER_TEXT','Q32_OTHER_TEXT','Q33_OTHER_TEXT','Q34_OTHER_TEXT']"
   ]
  },
  {
   "cell_type": "markdown",
   "metadata": {},
   "source": [
    "**Check Response Rate**"
   ]
  },
  {
   "cell_type": "code",
   "execution_count": 6,
   "metadata": {
    "colab": {
     "base_uri": "https://localhost:8080/",
     "height": 425
    },
    "colab_type": "code",
    "executionInfo": {
     "elapsed": 4011,
     "status": "ok",
     "timestamp": 1582328278784,
     "user": {
      "displayName": "Barry Xu",
      "photoUrl": "https://lh3.googleusercontent.com/a-/AAuE7mCv_JJ8qVD2k4nC_2blPyboV_YF9xsN7_IF90zs=s64",
      "userId": "17926533693346679715"
     },
     "user_tz": 300
    },
    "id": "tfwGKppkFJQw",
    "outputId": "8e028f46-4cc7-45f1-bec4-015a057ae435"
   },
   "outputs": [
    {
     "data": {
      "text/plain": [
       "Q2_OTHER_TEXT     0.002401\n",
       "Q5_OTHER_TEXT     0.095303\n",
       "Q9_OTHER_TEXT     0.010883\n",
       "Q12_OTHER_TEXT    0.050332\n",
       "Q13_OTHER_TEXT    0.069617\n",
       "Q14_OTHER_TEXT    0.069057\n",
       "Q16_OTHER_TEXT    0.041370\n",
       "Q17_OTHER_TEXT    0.021205\n",
       "Q18_OTHER_TEXT    0.078179\n",
       "Q19_OTHER_TEXT    0.008722\n",
       "Q20_OTHER_TEXT    0.027367\n",
       "Q21_OTHER_TEXT    0.004401\n",
       "Q24_OTHER_TEXT    0.022405\n",
       "Q25_OTHER_TEXT    0.009842\n",
       "Q26_OTHER_TEXT    0.002401\n",
       "Q27_OTHER_TEXT    0.002481\n",
       "Q28_OTHER_TEXT    0.020165\n",
       "Q29_OTHER_TEXT    0.010643\n",
       "Q30_OTHER_TEXT    0.014644\n",
       "Q31_OTHER_TEXT    0.015044\n",
       "Q32_OTHER_TEXT    0.013763\n",
       "Q33_OTHER_TEXT    0.007122\n",
       "Q34_OTHER_TEXT    0.020405\n",
       "dtype: float64"
      ]
     },
     "execution_count": 6,
     "metadata": {},
     "output_type": "execute_result"
    }
   ],
   "source": [
    "df_other_text = df[other_text_cols]\n",
    "df_other_text[df_other_text != -1].count()/len(df_other_text)"
   ]
  },
  {
   "cell_type": "markdown",
   "metadata": {},
   "source": [
    "**Drop All 'OTHER_TEXT' Columns**"
   ]
  },
  {
   "cell_type": "code",
   "execution_count": 7,
   "metadata": {
    "colab": {},
    "colab_type": "code",
    "id": "GXibkN8xFJQz"
   },
   "outputs": [],
   "source": [
    "df.drop(other_text_cols,axis=1,inplace=True)"
   ]
  },
  {
   "cell_type": "markdown",
   "metadata": {},
   "source": [
    "### Multiple Choice Questions"
   ]
  },
  {
   "cell_type": "markdown",
   "metadata": {},
   "source": [
    "        Basically all questions listed in 'Kaggle_Salary.csv' are Multiple Choice questions, and each column represents an answer to that question, we can not just drop the columns  with many missing values since people who answered the question may not select that choice but select other choices. If we simply drop the column, the choice selected will be useless and meaningless to describe the person itself, therefore, I combined the MCQ questions into one single column by firslt doing binary encoding to every column (1 for selected ad 0 for not selected) and then add the values in the same type of question together. For example, for question 18 'What programming languages do you use on a regular basis? (Select all that apply)', the person may select Python and R as his choices, therefore, the value for Q18 will be 1+1=2. Basically, by doing so, I assume people select more choices score more in this question since these questions all represent the aibility of a person, the more ability a person has, the more chance he/she will get a higher salary."
   ]
  },
  {
   "cell_type": "code",
   "execution_count": 8,
   "metadata": {},
   "outputs": [],
   "source": [
    "MCQ =['Q9_Part_1','Q9_Part_2','Q9_Part_3','Q9_Part_4','Q9_Part_5','Q9_Part_6','Q9_Part_7','Q9_Part_8',\n",
    "      \n",
    "      'Q12_Part_1','Q12_Part_2','Q12_Part_3','Q12_Part_4','Q12_Part_5','Q12_Part_6','Q12_Part_7','Q12_Part_8','Q12_Part_9','Q12_Part_10','Q12_Part_11','Q12_Part_12',\n",
    "      \n",
    "      'Q13_Part_1','Q13_Part_2','Q13_Part_3','Q13_Part_4','Q13_Part_5','Q13_Part_6','Q13_Part_7','Q13_Part_8','Q13_Part_9','Q13_Part_10','Q13_Part_11','Q13_Part_12',\n",
    "      \n",
    "      'Q16_Part_1','Q16_Part_2','Q16_Part_3','Q16_Part_4','Q16_Part_5','Q16_Part_6','Q16_Part_7','Q16_Part_8','Q16_Part_9','Q16_Part_10','Q16_Part_11','Q16_Part_12',\n",
    "      \n",
    "      'Q17_Part_1','Q17_Part_2','Q17_Part_3','Q17_Part_4','Q17_Part_5','Q17_Part_6','Q17_Part_7','Q17_Part_8','Q17_Part_9','Q17_Part_10','Q17_Part_11','Q17_Part_12',\n",
    "      \n",
    "      'Q18_Part_1','Q18_Part_2','Q18_Part_3','Q18_Part_4','Q18_Part_5','Q18_Part_6','Q18_Part_7','Q18_Part_8','Q18_Part_9','Q18_Part_10','Q18_Part_11','Q18_Part_12',\n",
    "      \n",
    "      'Q20_Part_1','Q20_Part_2','Q20_Part_3','Q20_Part_4','Q20_Part_5','Q20_Part_6','Q20_Part_7','Q20_Part_8','Q20_Part_9','Q20_Part_10','Q20_Part_11','Q20_Part_12',\n",
    "      \n",
    "      'Q21_Part_1','Q21_Part_2','Q21_Part_3','Q21_Part_4','Q21_Part_5',\n",
    "      \n",
    "      'Q24_Part_1','Q24_Part_2','Q24_Part_3','Q24_Part_4','Q24_Part_5','Q24_Part_6','Q24_Part_7','Q24_Part_8','Q24_Part_9','Q24_Part_10','Q24_Part_11','Q24_Part_12',\n",
    "      \n",
    "      'Q25_Part_1','Q25_Part_2','Q25_Part_3','Q25_Part_4','Q25_Part_5','Q25_Part_6','Q25_Part_7','Q25_Part_8',\n",
    "      \n",
    "      'Q26_Part_1','Q26_Part_2','Q26_Part_3','Q26_Part_4','Q26_Part_5','Q26_Part_6','Q26_Part_7',\n",
    "      \n",
    "      'Q27_Part_1','Q27_Part_2','Q27_Part_3','Q27_Part_4','Q27_Part_5','Q27_Part_6',\n",
    "      \n",
    "      'Q28_Part_1','Q28_Part_2','Q28_Part_3','Q28_Part_4','Q28_Part_5','Q28_Part_6','Q28_Part_7','Q28_Part_8','Q28_Part_9','Q28_Part_10','Q28_Part_11','Q28_Part_12',\n",
    "      \n",
    "      'Q29_Part_1','Q29_Part_2','Q29_Part_3','Q29_Part_4','Q29_Part_5','Q29_Part_6','Q29_Part_7','Q29_Part_8','Q29_Part_9','Q29_Part_10','Q29_Part_11','Q29_Part_12',\n",
    "      \n",
    "      'Q30_Part_1','Q30_Part_2','Q30_Part_3','Q30_Part_4','Q30_Part_5','Q30_Part_6','Q30_Part_7','Q30_Part_8','Q30_Part_9','Q30_Part_10','Q30_Part_11','Q30_Part_12',\n",
    "      \n",
    "      'Q31_Part_1','Q31_Part_2','Q31_Part_3','Q31_Part_4','Q31_Part_5','Q31_Part_6','Q31_Part_7','Q31_Part_8','Q31_Part_9','Q31_Part_10','Q31_Part_11','Q31_Part_12',\n",
    "      \n",
    "      'Q32_Part_1','Q32_Part_2','Q32_Part_3','Q32_Part_4','Q32_Part_5','Q32_Part_6','Q32_Part_7','Q32_Part_8','Q32_Part_9','Q32_Part_10','Q32_Part_11','Q32_Part_12',\n",
    "      \n",
    "      'Q33_Part_1','Q33_Part_2','Q33_Part_3','Q33_Part_4','Q33_Part_5','Q33_Part_6','Q33_Part_7','Q33_Part_8','Q33_Part_9','Q33_Part_10','Q33_Part_11','Q33_Part_12',\n",
    "      \n",
    "      'Q34_Part_1','Q34_Part_2','Q34_Part_3','Q34_Part_4','Q34_Part_5','Q34_Part_6','Q34_Part_7','Q34_Part_8','Q34_Part_9','Q34_Part_10','Q34_Part_11','Q34_Part_12']"
   ]
  },
  {
   "cell_type": "markdown",
   "metadata": {},
   "source": [
    "**Setting NaN to 0 for Binary Encoding**"
   ]
  },
  {
   "cell_type": "code",
   "execution_count": 9,
   "metadata": {},
   "outputs": [],
   "source": [
    "df_m = df[MCQ]\n",
    "df_m = df_m.fillna(0)"
   ]
  },
  {
   "cell_type": "code",
   "execution_count": 10,
   "metadata": {
    "scrolled": true
   },
   "outputs": [
    {
     "data": {
      "text/html": [
       "<div>\n",
       "<style scoped>\n",
       "    .dataframe tbody tr th:only-of-type {\n",
       "        vertical-align: middle;\n",
       "    }\n",
       "\n",
       "    .dataframe tbody tr th {\n",
       "        vertical-align: top;\n",
       "    }\n",
       "\n",
       "    .dataframe thead th {\n",
       "        text-align: right;\n",
       "    }\n",
       "</style>\n",
       "<table border=\"1\" class=\"dataframe\">\n",
       "  <thead>\n",
       "    <tr style=\"text-align: right;\">\n",
       "      <th></th>\n",
       "      <th>Q9_Part_1</th>\n",
       "      <th>Q9_Part_2</th>\n",
       "      <th>Q9_Part_3</th>\n",
       "      <th>Q9_Part_4</th>\n",
       "      <th>Q9_Part_5</th>\n",
       "      <th>Q9_Part_6</th>\n",
       "      <th>Q9_Part_7</th>\n",
       "      <th>Q9_Part_8</th>\n",
       "      <th>Q12_Part_1</th>\n",
       "      <th>Q12_Part_2</th>\n",
       "      <th>...</th>\n",
       "      <th>Q34_Part_3</th>\n",
       "      <th>Q34_Part_4</th>\n",
       "      <th>Q34_Part_5</th>\n",
       "      <th>Q34_Part_6</th>\n",
       "      <th>Q34_Part_7</th>\n",
       "      <th>Q34_Part_8</th>\n",
       "      <th>Q34_Part_9</th>\n",
       "      <th>Q34_Part_10</th>\n",
       "      <th>Q34_Part_11</th>\n",
       "      <th>Q34_Part_12</th>\n",
       "    </tr>\n",
       "  </thead>\n",
       "  <tbody>\n",
       "    <tr>\n",
       "      <td>0</td>\n",
       "      <td>0</td>\n",
       "      <td>0</td>\n",
       "      <td>0</td>\n",
       "      <td>0</td>\n",
       "      <td>0</td>\n",
       "      <td>0</td>\n",
       "      <td>0</td>\n",
       "      <td>0</td>\n",
       "      <td>Twitter (data science influencers)</td>\n",
       "      <td>0</td>\n",
       "      <td>...</td>\n",
       "      <td>0</td>\n",
       "      <td>0</td>\n",
       "      <td>0</td>\n",
       "      <td>0</td>\n",
       "      <td>0</td>\n",
       "      <td>0</td>\n",
       "      <td>0</td>\n",
       "      <td>0</td>\n",
       "      <td>0</td>\n",
       "      <td>0</td>\n",
       "    </tr>\n",
       "    <tr>\n",
       "      <td>1</td>\n",
       "      <td>Analyze and understand data to influence produ...</td>\n",
       "      <td>Build and/or run the data infrastructure that ...</td>\n",
       "      <td>Build prototypes to explore applying machine l...</td>\n",
       "      <td>Build and/or run a machine learning service th...</td>\n",
       "      <td>0</td>\n",
       "      <td>0</td>\n",
       "      <td>0</td>\n",
       "      <td>0</td>\n",
       "      <td>0</td>\n",
       "      <td>0</td>\n",
       "      <td>...</td>\n",
       "      <td>0</td>\n",
       "      <td>0</td>\n",
       "      <td>0</td>\n",
       "      <td>0</td>\n",
       "      <td>0</td>\n",
       "      <td>0</td>\n",
       "      <td>0</td>\n",
       "      <td>0</td>\n",
       "      <td>0</td>\n",
       "      <td>0</td>\n",
       "    </tr>\n",
       "    <tr>\n",
       "      <td>2</td>\n",
       "      <td>0</td>\n",
       "      <td>0</td>\n",
       "      <td>0</td>\n",
       "      <td>0</td>\n",
       "      <td>0</td>\n",
       "      <td>0</td>\n",
       "      <td>0</td>\n",
       "      <td>0</td>\n",
       "      <td>0</td>\n",
       "      <td>0</td>\n",
       "      <td>...</td>\n",
       "      <td>0</td>\n",
       "      <td>0</td>\n",
       "      <td>0</td>\n",
       "      <td>0</td>\n",
       "      <td>0</td>\n",
       "      <td>0</td>\n",
       "      <td>Azure SQL Database</td>\n",
       "      <td>0</td>\n",
       "      <td>0</td>\n",
       "      <td>0</td>\n",
       "    </tr>\n",
       "    <tr>\n",
       "      <td>3</td>\n",
       "      <td>0</td>\n",
       "      <td>0</td>\n",
       "      <td>0</td>\n",
       "      <td>0</td>\n",
       "      <td>0</td>\n",
       "      <td>0</td>\n",
       "      <td>0</td>\n",
       "      <td>0</td>\n",
       "      <td>0</td>\n",
       "      <td>0</td>\n",
       "      <td>...</td>\n",
       "      <td>0</td>\n",
       "      <td>0</td>\n",
       "      <td>0</td>\n",
       "      <td>0</td>\n",
       "      <td>0</td>\n",
       "      <td>0</td>\n",
       "      <td>0</td>\n",
       "      <td>0</td>\n",
       "      <td>0</td>\n",
       "      <td>0</td>\n",
       "    </tr>\n",
       "    <tr>\n",
       "      <td>4</td>\n",
       "      <td>0</td>\n",
       "      <td>0</td>\n",
       "      <td>Build prototypes to explore applying machine l...</td>\n",
       "      <td>0</td>\n",
       "      <td>0</td>\n",
       "      <td>Do research that advances the state of the art...</td>\n",
       "      <td>0</td>\n",
       "      <td>0</td>\n",
       "      <td>0</td>\n",
       "      <td>0</td>\n",
       "      <td>...</td>\n",
       "      <td>0</td>\n",
       "      <td>0</td>\n",
       "      <td>0</td>\n",
       "      <td>0</td>\n",
       "      <td>AWS Relational Database Service</td>\n",
       "      <td>0</td>\n",
       "      <td>0</td>\n",
       "      <td>0</td>\n",
       "      <td>0</td>\n",
       "      <td>0</td>\n",
       "    </tr>\n",
       "  </tbody>\n",
       "</table>\n",
       "<p>5 rows × 202 columns</p>\n",
       "</div>"
      ],
      "text/plain": [
       "                                           Q9_Part_1  \\\n",
       "0                                                  0   \n",
       "1  Analyze and understand data to influence produ...   \n",
       "2                                                  0   \n",
       "3                                                  0   \n",
       "4                                                  0   \n",
       "\n",
       "                                           Q9_Part_2  \\\n",
       "0                                                  0   \n",
       "1  Build and/or run the data infrastructure that ...   \n",
       "2                                                  0   \n",
       "3                                                  0   \n",
       "4                                                  0   \n",
       "\n",
       "                                           Q9_Part_3  \\\n",
       "0                                                  0   \n",
       "1  Build prototypes to explore applying machine l...   \n",
       "2                                                  0   \n",
       "3                                                  0   \n",
       "4  Build prototypes to explore applying machine l...   \n",
       "\n",
       "                                           Q9_Part_4 Q9_Part_5  \\\n",
       "0                                                  0         0   \n",
       "1  Build and/or run a machine learning service th...         0   \n",
       "2                                                  0         0   \n",
       "3                                                  0         0   \n",
       "4                                                  0         0   \n",
       "\n",
       "                                           Q9_Part_6 Q9_Part_7 Q9_Part_8  \\\n",
       "0                                                  0         0         0   \n",
       "1                                                  0         0         0   \n",
       "2                                                  0         0         0   \n",
       "3                                                  0         0         0   \n",
       "4  Do research that advances the state of the art...         0         0   \n",
       "\n",
       "                           Q12_Part_1 Q12_Part_2  ... Q34_Part_3 Q34_Part_4  \\\n",
       "0  Twitter (data science influencers)          0  ...          0          0   \n",
       "1                                   0          0  ...          0          0   \n",
       "2                                   0          0  ...          0          0   \n",
       "3                                   0          0  ...          0          0   \n",
       "4                                   0          0  ...          0          0   \n",
       "\n",
       "  Q34_Part_5 Q34_Part_6                       Q34_Part_7 Q34_Part_8  \\\n",
       "0          0          0                                0          0   \n",
       "1          0          0                                0          0   \n",
       "2          0          0                                0          0   \n",
       "3          0          0                                0          0   \n",
       "4          0          0  AWS Relational Database Service          0   \n",
       "\n",
       "           Q34_Part_9 Q34_Part_10 Q34_Part_11 Q34_Part_12  \n",
       "0                   0           0           0           0  \n",
       "1                   0           0           0           0  \n",
       "2  Azure SQL Database           0           0           0  \n",
       "3                   0           0           0           0  \n",
       "4                   0           0           0           0  \n",
       "\n",
       "[5 rows x 202 columns]"
      ]
     },
     "execution_count": 10,
     "metadata": {},
     "output_type": "execute_result"
    }
   ],
   "source": [
    "# see colummns before binary encoding\n",
    "df_m.head()"
   ]
  },
  {
   "cell_type": "markdown",
   "metadata": {},
   "source": [
    "**Assign 1 to Cells with Response**"
   ]
  },
  {
   "cell_type": "markdown",
   "metadata": {},
   "source": [
    "        I did not use LabelEncoding() to encode these columns since doing so may result in a reverse version of 0 and 1, i.e cells with responses are 0 and without response are 1 which is undesireble in this situation, therefore, I manually encode the cells with response to 1."
   ]
  },
  {
   "cell_type": "code",
   "execution_count": 11,
   "metadata": {},
   "outputs": [
    {
     "data": {
      "text/html": [
       "<div>\n",
       "<style scoped>\n",
       "    .dataframe tbody tr th:only-of-type {\n",
       "        vertical-align: middle;\n",
       "    }\n",
       "\n",
       "    .dataframe tbody tr th {\n",
       "        vertical-align: top;\n",
       "    }\n",
       "\n",
       "    .dataframe thead th {\n",
       "        text-align: right;\n",
       "    }\n",
       "</style>\n",
       "<table border=\"1\" class=\"dataframe\">\n",
       "  <thead>\n",
       "    <tr style=\"text-align: right;\">\n",
       "      <th></th>\n",
       "      <th>Q9_Part_1</th>\n",
       "      <th>Q9_Part_2</th>\n",
       "      <th>Q9_Part_3</th>\n",
       "      <th>Q9_Part_4</th>\n",
       "      <th>Q9_Part_5</th>\n",
       "      <th>Q9_Part_6</th>\n",
       "      <th>Q9_Part_7</th>\n",
       "      <th>Q9_Part_8</th>\n",
       "      <th>Q12_Part_1</th>\n",
       "      <th>Q12_Part_2</th>\n",
       "      <th>...</th>\n",
       "      <th>Q34_Part_3</th>\n",
       "      <th>Q34_Part_4</th>\n",
       "      <th>Q34_Part_5</th>\n",
       "      <th>Q34_Part_6</th>\n",
       "      <th>Q34_Part_7</th>\n",
       "      <th>Q34_Part_8</th>\n",
       "      <th>Q34_Part_9</th>\n",
       "      <th>Q34_Part_10</th>\n",
       "      <th>Q34_Part_11</th>\n",
       "      <th>Q34_Part_12</th>\n",
       "    </tr>\n",
       "  </thead>\n",
       "  <tbody>\n",
       "    <tr>\n",
       "      <td>0</td>\n",
       "      <td>0</td>\n",
       "      <td>0</td>\n",
       "      <td>0</td>\n",
       "      <td>0</td>\n",
       "      <td>0</td>\n",
       "      <td>0</td>\n",
       "      <td>0</td>\n",
       "      <td>0</td>\n",
       "      <td>1</td>\n",
       "      <td>0</td>\n",
       "      <td>...</td>\n",
       "      <td>0</td>\n",
       "      <td>0</td>\n",
       "      <td>0</td>\n",
       "      <td>0</td>\n",
       "      <td>0</td>\n",
       "      <td>0</td>\n",
       "      <td>0</td>\n",
       "      <td>0</td>\n",
       "      <td>0</td>\n",
       "      <td>0</td>\n",
       "    </tr>\n",
       "    <tr>\n",
       "      <td>1</td>\n",
       "      <td>1</td>\n",
       "      <td>1</td>\n",
       "      <td>1</td>\n",
       "      <td>1</td>\n",
       "      <td>0</td>\n",
       "      <td>0</td>\n",
       "      <td>0</td>\n",
       "      <td>0</td>\n",
       "      <td>0</td>\n",
       "      <td>0</td>\n",
       "      <td>...</td>\n",
       "      <td>0</td>\n",
       "      <td>0</td>\n",
       "      <td>0</td>\n",
       "      <td>0</td>\n",
       "      <td>0</td>\n",
       "      <td>0</td>\n",
       "      <td>0</td>\n",
       "      <td>0</td>\n",
       "      <td>0</td>\n",
       "      <td>0</td>\n",
       "    </tr>\n",
       "    <tr>\n",
       "      <td>2</td>\n",
       "      <td>0</td>\n",
       "      <td>0</td>\n",
       "      <td>0</td>\n",
       "      <td>0</td>\n",
       "      <td>0</td>\n",
       "      <td>0</td>\n",
       "      <td>0</td>\n",
       "      <td>0</td>\n",
       "      <td>0</td>\n",
       "      <td>0</td>\n",
       "      <td>...</td>\n",
       "      <td>0</td>\n",
       "      <td>0</td>\n",
       "      <td>0</td>\n",
       "      <td>0</td>\n",
       "      <td>0</td>\n",
       "      <td>0</td>\n",
       "      <td>1</td>\n",
       "      <td>0</td>\n",
       "      <td>0</td>\n",
       "      <td>0</td>\n",
       "    </tr>\n",
       "    <tr>\n",
       "      <td>3</td>\n",
       "      <td>0</td>\n",
       "      <td>0</td>\n",
       "      <td>0</td>\n",
       "      <td>0</td>\n",
       "      <td>0</td>\n",
       "      <td>0</td>\n",
       "      <td>0</td>\n",
       "      <td>0</td>\n",
       "      <td>0</td>\n",
       "      <td>0</td>\n",
       "      <td>...</td>\n",
       "      <td>0</td>\n",
       "      <td>0</td>\n",
       "      <td>0</td>\n",
       "      <td>0</td>\n",
       "      <td>0</td>\n",
       "      <td>0</td>\n",
       "      <td>0</td>\n",
       "      <td>0</td>\n",
       "      <td>0</td>\n",
       "      <td>0</td>\n",
       "    </tr>\n",
       "    <tr>\n",
       "      <td>4</td>\n",
       "      <td>0</td>\n",
       "      <td>0</td>\n",
       "      <td>1</td>\n",
       "      <td>0</td>\n",
       "      <td>0</td>\n",
       "      <td>1</td>\n",
       "      <td>0</td>\n",
       "      <td>0</td>\n",
       "      <td>0</td>\n",
       "      <td>0</td>\n",
       "      <td>...</td>\n",
       "      <td>0</td>\n",
       "      <td>0</td>\n",
       "      <td>0</td>\n",
       "      <td>0</td>\n",
       "      <td>1</td>\n",
       "      <td>0</td>\n",
       "      <td>0</td>\n",
       "      <td>0</td>\n",
       "      <td>0</td>\n",
       "      <td>0</td>\n",
       "    </tr>\n",
       "  </tbody>\n",
       "</table>\n",
       "<p>5 rows × 202 columns</p>\n",
       "</div>"
      ],
      "text/plain": [
       "  Q9_Part_1 Q9_Part_2 Q9_Part_3 Q9_Part_4 Q9_Part_5 Q9_Part_6 Q9_Part_7  \\\n",
       "0         0         0         0         0         0         0         0   \n",
       "1         1         1         1         1         0         0         0   \n",
       "2         0         0         0         0         0         0         0   \n",
       "3         0         0         0         0         0         0         0   \n",
       "4         0         0         1         0         0         1         0   \n",
       "\n",
       "  Q9_Part_8 Q12_Part_1 Q12_Part_2  ... Q34_Part_3 Q34_Part_4 Q34_Part_5  \\\n",
       "0         0          1          0  ...          0          0          0   \n",
       "1         0          0          0  ...          0          0          0   \n",
       "2         0          0          0  ...          0          0          0   \n",
       "3         0          0          0  ...          0          0          0   \n",
       "4         0          0          0  ...          0          0          0   \n",
       "\n",
       "  Q34_Part_6 Q34_Part_7 Q34_Part_8 Q34_Part_9 Q34_Part_10 Q34_Part_11  \\\n",
       "0          0          0          0          0           0           0   \n",
       "1          0          0          0          0           0           0   \n",
       "2          0          0          0          1           0           0   \n",
       "3          0          0          0          0           0           0   \n",
       "4          0          1          0          0           0           0   \n",
       "\n",
       "  Q34_Part_12  \n",
       "0           0  \n",
       "1           0  \n",
       "2           0  \n",
       "3           0  \n",
       "4           0  \n",
       "\n",
       "[5 rows x 202 columns]"
      ]
     },
     "execution_count": 11,
     "metadata": {},
     "output_type": "execute_result"
    }
   ],
   "source": [
    "# assign 1 to cells with responses\n",
    "df_m[df_m !=0] = 1\n",
    "df[MCQ] = df_m\n",
    "df[MCQ].head()"
   ]
  },
  {
   "cell_type": "markdown",
   "metadata": {},
   "source": [
    "**Combine Multiple Columns into Single Column**"
   ]
  },
  {
   "cell_type": "markdown",
   "metadata": {},
   "source": [
    "        Questions with many choices are summed along the y axis to form a single column for that quesiton, as discussed above, people with more selections in one question result score more and will lead to a higher salary."
   ]
  },
  {
   "cell_type": "code",
   "execution_count": 12,
   "metadata": {},
   "outputs": [],
   "source": [
    "Q_9 = ['Q9_Part_1', 'Q9_Part_2', 'Q9_Part_3', 'Q9_Part_4', 'Q9_Part_5', 'Q9_Part_6', 'Q9_Part_7', 'Q9_Part_8']\n",
    "df['Q9'] = df[Q_9].sum(axis=1).astype(int)\n",
    "df.drop(Q_9,axis=1,inplace=True)\n",
    "\n",
    "Q_12 = ['Q12_Part_1','Q12_Part_2','Q12_Part_3','Q12_Part_4','Q12_Part_5','Q12_Part_6','Q12_Part_7','Q12_Part_8','Q12_Part_9',\n",
    "        'Q12_Part_10','Q12_Part_11','Q12_Part_12']\n",
    "df['Q12'] = df[Q_12].sum(axis=1).astype(int)\n",
    "df.drop(Q_12,axis=1,inplace=True)\n",
    "\n",
    "Q_13 = ['Q13_Part_1','Q13_Part_2','Q13_Part_3','Q13_Part_4','Q13_Part_5','Q13_Part_6','Q13_Part_7','Q13_Part_8','Q13_Part_9',\n",
    "        'Q13_Part_10','Q13_Part_11','Q13_Part_12']\n",
    "df['Q13'] = df[Q_13].sum(axis=1).astype(int)\n",
    "df.drop(Q_13,axis=1,inplace=True)\n",
    "\n",
    "Q_16 = ['Q16_Part_1','Q16_Part_2','Q16_Part_3','Q16_Part_4','Q16_Part_5','Q16_Part_6','Q16_Part_7','Q16_Part_8','Q16_Part_9',\n",
    "        'Q16_Part_10','Q16_Part_11','Q16_Part_12']\n",
    "df['Q16'] = df[Q_16].sum(axis=1).astype(int)\n",
    "df.drop(Q_16,axis=1,inplace=True)\n",
    "\n",
    "Q_17 = ['Q17_Part_1','Q17_Part_2','Q17_Part_3','Q17_Part_4','Q17_Part_5','Q17_Part_6','Q17_Part_7','Q17_Part_8','Q17_Part_9',\n",
    "        'Q17_Part_10','Q17_Part_11','Q17_Part_12']\n",
    "df['Q17'] = df[Q_17].sum(axis=1).astype(int)\n",
    "df.drop(Q_17,axis=1,inplace=True)\n",
    "\n",
    "Q_18 = ['Q18_Part_1','Q18_Part_2','Q18_Part_3','Q18_Part_4','Q18_Part_5','Q18_Part_6','Q18_Part_7','Q18_Part_8','Q18_Part_9',\n",
    "        'Q18_Part_10','Q18_Part_11','Q18_Part_12']\n",
    "df['Q18'] = df[Q_18].sum(axis=1).astype(int)\n",
    "df.drop(Q_18,axis=1,inplace=True)\n",
    "\n",
    "Q_20 = ['Q20_Part_1','Q20_Part_2','Q20_Part_3','Q20_Part_4','Q20_Part_5','Q20_Part_6','Q20_Part_7','Q20_Part_8','Q20_Part_9',\n",
    "        'Q20_Part_10','Q20_Part_11','Q20_Part_12']\n",
    "df['Q20'] = df[Q_20].sum(axis=1).astype(int)\n",
    "df.drop(Q_20,axis=1,inplace=True)\n",
    "\n",
    "Q_21 = ['Q21_Part_1','Q21_Part_2','Q21_Part_3','Q21_Part_4','Q21_Part_5']\n",
    "df['Q21'] = df[Q_21].sum(axis=1).astype(int)\n",
    "df.drop(Q_21,axis=1,inplace=True)\n",
    "\n",
    "Q_24 = ['Q24_Part_1','Q24_Part_2','Q24_Part_3','Q24_Part_4','Q24_Part_5','Q24_Part_6','Q24_Part_7','Q24_Part_8','Q24_Part_9',\n",
    "        'Q24_Part_10','Q24_Part_11','Q24_Part_12']\n",
    "df['Q24'] = df[Q_24].sum(axis=1)\n",
    "df.drop(Q_24,axis=1,inplace=True)\n",
    "\n",
    "Q_25 = ['Q25_Part_1','Q25_Part_2','Q25_Part_3','Q25_Part_4','Q25_Part_5','Q25_Part_6','Q25_Part_7','Q25_Part_8']\n",
    "df['Q25'] = df[Q_25].sum(axis=1).astype(int)\n",
    "df.drop(Q_25,axis=1,inplace=True)\n",
    "\n",
    "Q_26 = ['Q26_Part_1','Q26_Part_2','Q26_Part_3','Q26_Part_4','Q26_Part_5','Q26_Part_6','Q26_Part_7']\n",
    "df['Q26'] = df[Q_26].sum(axis=1).astype(int)\n",
    "df.drop(Q_26,axis=1,inplace=True)\n",
    "\n",
    "Q_27 = ['Q27_Part_1','Q27_Part_2','Q27_Part_3','Q27_Part_4','Q27_Part_5','Q27_Part_6']\n",
    "df['Q27'] = df[Q_27].sum(axis=1).astype(int)\n",
    "df.drop(Q_27,axis=1,inplace=True)\n",
    "\n",
    "Q_28 = ['Q28_Part_1','Q28_Part_2','Q28_Part_3','Q28_Part_4','Q28_Part_5','Q28_Part_6','Q28_Part_7','Q28_Part_8','Q28_Part_9',\n",
    "        'Q28_Part_10','Q28_Part_11','Q28_Part_12']\n",
    "df['Q28'] = df[Q_28].sum(axis=1).astype(int)\n",
    "df.drop(Q_28,axis=1,inplace=True)\n",
    "\n",
    "Q_29 = ['Q29_Part_1','Q29_Part_2','Q29_Part_3','Q29_Part_4','Q29_Part_5','Q29_Part_6','Q29_Part_7','Q29_Part_8','Q29_Part_9',\n",
    "        'Q29_Part_10','Q29_Part_11','Q29_Part_12']\n",
    "df['Q29'] = df[Q_29].sum(axis=1).astype(int)\n",
    "df.drop(Q_29,axis=1,inplace=True)\n",
    "\n",
    "Q_30 = ['Q30_Part_1','Q30_Part_2','Q30_Part_3','Q30_Part_4','Q30_Part_5','Q30_Part_6','Q30_Part_7','Q30_Part_8','Q30_Part_9',\n",
    "        'Q30_Part_10','Q30_Part_11','Q30_Part_12']\n",
    "df['Q30'] = df[Q_30].sum(axis=1).astype(int)\n",
    "df.drop(Q_30,axis=1,inplace=True)\n",
    "\n",
    "Q_31 = ['Q31_Part_1','Q31_Part_2','Q31_Part_3','Q31_Part_4','Q31_Part_5','Q31_Part_6','Q31_Part_7','Q31_Part_8','Q31_Part_9',\n",
    "        'Q31_Part_10','Q31_Part_11','Q31_Part_12']\n",
    "df['Q31'] = df[Q_31].sum(axis=1).astype(int)\n",
    "df.drop(Q_31,axis=1,inplace=True)\n",
    "\n",
    "Q_32 = ['Q32_Part_1','Q32_Part_2','Q32_Part_3','Q32_Part_4','Q32_Part_5','Q32_Part_6','Q32_Part_7','Q32_Part_8','Q32_Part_9',\n",
    "        'Q32_Part_10','Q32_Part_11','Q32_Part_12']\n",
    "df['Q32'] = df[Q_32].sum(axis=1).astype(int)\n",
    "df.drop(Q_32,axis=1,inplace=True)\n",
    "\n",
    "Q_33 = ['Q33_Part_1','Q33_Part_2','Q33_Part_3','Q33_Part_4','Q33_Part_5','Q33_Part_6','Q33_Part_7','Q33_Part_8','Q33_Part_9',\n",
    "        'Q33_Part_10','Q33_Part_11','Q33_Part_12']\n",
    "df['Q33'] = df[Q_33].sum(axis=1).astype(int)\n",
    "df.drop(Q_33,axis=1,inplace=True)\n",
    "\n",
    "Q_34 = ['Q34_Part_1','Q34_Part_2','Q34_Part_3','Q34_Part_4','Q34_Part_5','Q34_Part_6','Q34_Part_7','Q34_Part_8','Q34_Part_9',\n",
    "        'Q34_Part_10','Q34_Part_11','Q34_Part_12']\n",
    "df['Q34'] = df[Q_34].sum(axis=1).astype(int)\n",
    "df.drop(Q_34,axis=1,inplace=True)"
   ]
  },
  {
   "cell_type": "code",
   "execution_count": 13,
   "metadata": {
    "scrolled": true
   },
   "outputs": [
    {
     "data": {
      "text/html": [
       "<div>\n",
       "<style scoped>\n",
       "    .dataframe tbody tr th:only-of-type {\n",
       "        vertical-align: middle;\n",
       "    }\n",
       "\n",
       "    .dataframe tbody tr th {\n",
       "        vertical-align: top;\n",
       "    }\n",
       "\n",
       "    .dataframe thead th {\n",
       "        text-align: right;\n",
       "    }\n",
       "</style>\n",
       "<table border=\"1\" class=\"dataframe\">\n",
       "  <thead>\n",
       "    <tr style=\"text-align: right;\">\n",
       "      <th></th>\n",
       "      <th>Time from Start to Finish (seconds)</th>\n",
       "      <th>Q1</th>\n",
       "      <th>Q2</th>\n",
       "      <th>Q3</th>\n",
       "      <th>Q4</th>\n",
       "      <th>Q5</th>\n",
       "      <th>Q6</th>\n",
       "      <th>Q7</th>\n",
       "      <th>Q8</th>\n",
       "      <th>Q10</th>\n",
       "      <th>...</th>\n",
       "      <th>Q25</th>\n",
       "      <th>Q26</th>\n",
       "      <th>Q27</th>\n",
       "      <th>Q28</th>\n",
       "      <th>Q29</th>\n",
       "      <th>Q30</th>\n",
       "      <th>Q31</th>\n",
       "      <th>Q32</th>\n",
       "      <th>Q33</th>\n",
       "      <th>Q34</th>\n",
       "    </tr>\n",
       "  </thead>\n",
       "  <tbody>\n",
       "    <tr>\n",
       "      <td>0</td>\n",
       "      <td>510</td>\n",
       "      <td>22-24</td>\n",
       "      <td>Male</td>\n",
       "      <td>France</td>\n",
       "      <td>Master’s degree</td>\n",
       "      <td>Software Engineer</td>\n",
       "      <td>1000-9,999 employees</td>\n",
       "      <td>0</td>\n",
       "      <td>I do not know</td>\n",
       "      <td>30,000-39,999</td>\n",
       "      <td>...</td>\n",
       "      <td>1</td>\n",
       "      <td>0</td>\n",
       "      <td>0</td>\n",
       "      <td>1</td>\n",
       "      <td>0</td>\n",
       "      <td>0</td>\n",
       "      <td>0</td>\n",
       "      <td>0</td>\n",
       "      <td>0</td>\n",
       "      <td>0</td>\n",
       "    </tr>\n",
       "    <tr>\n",
       "      <td>1</td>\n",
       "      <td>423</td>\n",
       "      <td>40-44</td>\n",
       "      <td>Male</td>\n",
       "      <td>India</td>\n",
       "      <td>Professional degree</td>\n",
       "      <td>Software Engineer</td>\n",
       "      <td>&gt; 10,000 employees</td>\n",
       "      <td>20+</td>\n",
       "      <td>We have well established ML methods (i.e., mod...</td>\n",
       "      <td>5,000-7,499</td>\n",
       "      <td>...</td>\n",
       "      <td>0</td>\n",
       "      <td>0</td>\n",
       "      <td>0</td>\n",
       "      <td>0</td>\n",
       "      <td>0</td>\n",
       "      <td>0</td>\n",
       "      <td>0</td>\n",
       "      <td>0</td>\n",
       "      <td>0</td>\n",
       "      <td>0</td>\n",
       "    </tr>\n",
       "    <tr>\n",
       "      <td>2</td>\n",
       "      <td>391</td>\n",
       "      <td>40-44</td>\n",
       "      <td>Male</td>\n",
       "      <td>Australia</td>\n",
       "      <td>Master’s degree</td>\n",
       "      <td>Other</td>\n",
       "      <td>&gt; 10,000 employees</td>\n",
       "      <td>20+</td>\n",
       "      <td>I do not know</td>\n",
       "      <td>250,000-299,999</td>\n",
       "      <td>...</td>\n",
       "      <td>1</td>\n",
       "      <td>2</td>\n",
       "      <td>0</td>\n",
       "      <td>4</td>\n",
       "      <td>1</td>\n",
       "      <td>2</td>\n",
       "      <td>2</td>\n",
       "      <td>1</td>\n",
       "      <td>1</td>\n",
       "      <td>1</td>\n",
       "    </tr>\n",
       "    <tr>\n",
       "      <td>3</td>\n",
       "      <td>392</td>\n",
       "      <td>22-24</td>\n",
       "      <td>Male</td>\n",
       "      <td>India</td>\n",
       "      <td>Bachelor’s degree</td>\n",
       "      <td>Other</td>\n",
       "      <td>0-49 employees</td>\n",
       "      <td>0</td>\n",
       "      <td>No (we do not use ML methods)</td>\n",
       "      <td>4,000-4,999</td>\n",
       "      <td>...</td>\n",
       "      <td>1</td>\n",
       "      <td>0</td>\n",
       "      <td>0</td>\n",
       "      <td>4</td>\n",
       "      <td>0</td>\n",
       "      <td>0</td>\n",
       "      <td>0</td>\n",
       "      <td>0</td>\n",
       "      <td>0</td>\n",
       "      <td>0</td>\n",
       "    </tr>\n",
       "    <tr>\n",
       "      <td>4</td>\n",
       "      <td>470</td>\n",
       "      <td>50-54</td>\n",
       "      <td>Male</td>\n",
       "      <td>France</td>\n",
       "      <td>Master’s degree</td>\n",
       "      <td>Data Scientist</td>\n",
       "      <td>0-49 employees</td>\n",
       "      <td>3-4</td>\n",
       "      <td>We have well established ML methods (i.e., mod...</td>\n",
       "      <td>60,000-69,999</td>\n",
       "      <td>...</td>\n",
       "      <td>3</td>\n",
       "      <td>1</td>\n",
       "      <td>2</td>\n",
       "      <td>6</td>\n",
       "      <td>1</td>\n",
       "      <td>1</td>\n",
       "      <td>1</td>\n",
       "      <td>1</td>\n",
       "      <td>1</td>\n",
       "      <td>2</td>\n",
       "    </tr>\n",
       "  </tbody>\n",
       "</table>\n",
       "<p>5 rows × 42 columns</p>\n",
       "</div>"
      ],
      "text/plain": [
       "   Time from Start to Finish (seconds)     Q1    Q2         Q3  \\\n",
       "0                                  510  22-24  Male     France   \n",
       "1                                  423  40-44  Male      India   \n",
       "2                                  391  40-44  Male  Australia   \n",
       "3                                  392  22-24  Male      India   \n",
       "4                                  470  50-54  Male     France   \n",
       "\n",
       "                    Q4                 Q5                    Q6   Q7  \\\n",
       "0      Master’s degree  Software Engineer  1000-9,999 employees    0   \n",
       "1  Professional degree  Software Engineer    > 10,000 employees  20+   \n",
       "2      Master’s degree              Other    > 10,000 employees  20+   \n",
       "3    Bachelor’s degree              Other        0-49 employees    0   \n",
       "4      Master’s degree     Data Scientist        0-49 employees  3-4   \n",
       "\n",
       "                                                  Q8              Q10  ...  \\\n",
       "0                                      I do not know    30,000-39,999  ...   \n",
       "1  We have well established ML methods (i.e., mod...      5,000-7,499  ...   \n",
       "2                                      I do not know  250,000-299,999  ...   \n",
       "3                      No (we do not use ML methods)      4,000-4,999  ...   \n",
       "4  We have well established ML methods (i.e., mod...    60,000-69,999  ...   \n",
       "\n",
       "  Q25 Q26  Q27  Q28  Q29  Q30  Q31 Q32 Q33 Q34  \n",
       "0   1   0    0    1    0    0    0   0   0   0  \n",
       "1   0   0    0    0    0    0    0   0   0   0  \n",
       "2   1   2    0    4    1    2    2   1   1   1  \n",
       "3   1   0    0    4    0    0    0   0   0   0  \n",
       "4   3   1    2    6    1    1    1   1   1   2  \n",
       "\n",
       "[5 rows x 42 columns]"
      ]
     },
     "execution_count": 13,
     "metadata": {},
     "output_type": "execute_result"
    }
   ],
   "source": [
    "df.head()"
   ]
  },
  {
   "cell_type": "markdown",
   "metadata": {
    "colab_type": "text",
    "id": "TVp1n7sKFJQ-"
   },
   "source": [
    "### Insights into columns left"
   ]
  },
  {
   "cell_type": "markdown",
   "metadata": {},
   "source": [
    "        After combining the multiple choice questions, I need to deal with other columns"
   ]
  },
  {
   "cell_type": "code",
   "execution_count": 14,
   "metadata": {},
   "outputs": [
    {
     "data": {
      "text/plain": [
       "Index(['Time from Start to Finish (seconds)', 'Q1', 'Q2', 'Q3', 'Q4', 'Q5',\n",
       "       'Q6', 'Q7', 'Q8', 'Q10', 'Q11', 'Q14', 'Q14_Part_1_TEXT',\n",
       "       'Q14_Part_2_TEXT', 'Q14_Part_3_TEXT', 'Q14_Part_4_TEXT',\n",
       "       'Q14_Part_5_TEXT', 'Q15', 'Q19', 'Q22', 'Q23', 'Q10_Encoded',\n",
       "       'Q10_buckets', 'Q9', 'Q12', 'Q13', 'Q16', 'Q17', 'Q18', 'Q20', 'Q21',\n",
       "       'Q24', 'Q25', 'Q26', 'Q27', 'Q28', 'Q29', 'Q30', 'Q31', 'Q32', 'Q33',\n",
       "       'Q34'],\n",
       "      dtype='object')"
      ]
     },
     "execution_count": 14,
     "metadata": {},
     "output_type": "execute_result"
    }
   ],
   "source": [
    "df.columns"
   ]
  },
  {
   "cell_type": "code",
   "execution_count": 15,
   "metadata": {
    "colab": {
     "base_uri": "https://localhost:8080/",
     "height": 510
    },
    "colab_type": "code",
    "executionInfo": {
     "elapsed": 7416,
     "status": "ok",
     "timestamp": 1582328282260,
     "user": {
      "displayName": "Barry Xu",
      "photoUrl": "https://lh3.googleusercontent.com/a-/AAuE7mCv_JJ8qVD2k4nC_2blPyboV_YF9xsN7_IF90zs=s64",
      "userId": "17926533693346679715"
     },
     "user_tz": 300
    },
    "id": "0COhoXtfFJQ_",
    "outputId": "f166b29a-9a4c-48ef-f0db-d18d9e9350ff"
   },
   "outputs": [],
   "source": [
    "list_keep = list(df.columns)"
   ]
  },
  {
   "cell_type": "code",
   "execution_count": 16,
   "metadata": {
    "colab": {},
    "colab_type": "code",
    "id": "xHA1lJaBFJRB"
   },
   "outputs": [],
   "source": [
    "#remove columns with targets in it\n",
    "list_keep.remove('Q10')\n",
    "list_keep.remove('Q10_Encoded')\n",
    "list_keep.remove('Q10_buckets')"
   ]
  },
  {
   "cell_type": "markdown",
   "metadata": {},
   "source": [
    "**Generate New Dataframe**"
   ]
  },
  {
   "cell_type": "code",
   "execution_count": 17,
   "metadata": {
    "colab": {
     "base_uri": "https://localhost:8080/",
     "height": 1000
    },
    "colab_type": "code",
    "executionInfo": {
     "elapsed": 7764,
     "status": "ok",
     "timestamp": 1582328282641,
     "user": {
      "displayName": "Barry Xu",
      "photoUrl": "https://lh3.googleusercontent.com/a-/AAuE7mCv_JJ8qVD2k4nC_2blPyboV_YF9xsN7_IF90zs=s64",
      "userId": "17926533693346679715"
     },
     "user_tz": 300
    },
    "id": "Rko8IGFcFJRE",
    "outputId": "d57935b7-4d8e-497c-9a89-d566deca8f70",
    "scrolled": true
   },
   "outputs": [
    {
     "data": {
      "text/html": [
       "<div>\n",
       "<style scoped>\n",
       "    .dataframe tbody tr th:only-of-type {\n",
       "        vertical-align: middle;\n",
       "    }\n",
       "\n",
       "    .dataframe tbody tr th {\n",
       "        vertical-align: top;\n",
       "    }\n",
       "\n",
       "    .dataframe thead th {\n",
       "        text-align: right;\n",
       "    }\n",
       "</style>\n",
       "<table border=\"1\" class=\"dataframe\">\n",
       "  <thead>\n",
       "    <tr style=\"text-align: right;\">\n",
       "      <th></th>\n",
       "      <th>Time from Start to Finish (seconds)</th>\n",
       "      <th>Q1</th>\n",
       "      <th>Q2</th>\n",
       "      <th>Q3</th>\n",
       "      <th>Q4</th>\n",
       "      <th>Q5</th>\n",
       "      <th>Q6</th>\n",
       "      <th>Q7</th>\n",
       "      <th>Q8</th>\n",
       "      <th>Q11</th>\n",
       "      <th>...</th>\n",
       "      <th>Q25</th>\n",
       "      <th>Q26</th>\n",
       "      <th>Q27</th>\n",
       "      <th>Q28</th>\n",
       "      <th>Q29</th>\n",
       "      <th>Q30</th>\n",
       "      <th>Q31</th>\n",
       "      <th>Q32</th>\n",
       "      <th>Q33</th>\n",
       "      <th>Q34</th>\n",
       "    </tr>\n",
       "  </thead>\n",
       "  <tbody>\n",
       "    <tr>\n",
       "      <td>0</td>\n",
       "      <td>510</td>\n",
       "      <td>22-24</td>\n",
       "      <td>Male</td>\n",
       "      <td>France</td>\n",
       "      <td>Master’s degree</td>\n",
       "      <td>Software Engineer</td>\n",
       "      <td>1000-9,999 employees</td>\n",
       "      <td>0</td>\n",
       "      <td>I do not know</td>\n",
       "      <td>$0 (USD)</td>\n",
       "      <td>...</td>\n",
       "      <td>1</td>\n",
       "      <td>0</td>\n",
       "      <td>0</td>\n",
       "      <td>1</td>\n",
       "      <td>0</td>\n",
       "      <td>0</td>\n",
       "      <td>0</td>\n",
       "      <td>0</td>\n",
       "      <td>0</td>\n",
       "      <td>0</td>\n",
       "    </tr>\n",
       "    <tr>\n",
       "      <td>1</td>\n",
       "      <td>423</td>\n",
       "      <td>40-44</td>\n",
       "      <td>Male</td>\n",
       "      <td>India</td>\n",
       "      <td>Professional degree</td>\n",
       "      <td>Software Engineer</td>\n",
       "      <td>&gt; 10,000 employees</td>\n",
       "      <td>20+</td>\n",
       "      <td>We have well established ML methods (i.e., mod...</td>\n",
       "      <td>&gt; $100,000 ($USD)</td>\n",
       "      <td>...</td>\n",
       "      <td>0</td>\n",
       "      <td>0</td>\n",
       "      <td>0</td>\n",
       "      <td>0</td>\n",
       "      <td>0</td>\n",
       "      <td>0</td>\n",
       "      <td>0</td>\n",
       "      <td>0</td>\n",
       "      <td>0</td>\n",
       "      <td>0</td>\n",
       "    </tr>\n",
       "    <tr>\n",
       "      <td>2</td>\n",
       "      <td>391</td>\n",
       "      <td>40-44</td>\n",
       "      <td>Male</td>\n",
       "      <td>Australia</td>\n",
       "      <td>Master’s degree</td>\n",
       "      <td>Other</td>\n",
       "      <td>&gt; 10,000 employees</td>\n",
       "      <td>20+</td>\n",
       "      <td>I do not know</td>\n",
       "      <td>$10,000-$99,999</td>\n",
       "      <td>...</td>\n",
       "      <td>1</td>\n",
       "      <td>2</td>\n",
       "      <td>0</td>\n",
       "      <td>4</td>\n",
       "      <td>1</td>\n",
       "      <td>2</td>\n",
       "      <td>2</td>\n",
       "      <td>1</td>\n",
       "      <td>1</td>\n",
       "      <td>1</td>\n",
       "    </tr>\n",
       "    <tr>\n",
       "      <td>3</td>\n",
       "      <td>392</td>\n",
       "      <td>22-24</td>\n",
       "      <td>Male</td>\n",
       "      <td>India</td>\n",
       "      <td>Bachelor’s degree</td>\n",
       "      <td>Other</td>\n",
       "      <td>0-49 employees</td>\n",
       "      <td>0</td>\n",
       "      <td>No (we do not use ML methods)</td>\n",
       "      <td>$0 (USD)</td>\n",
       "      <td>...</td>\n",
       "      <td>1</td>\n",
       "      <td>0</td>\n",
       "      <td>0</td>\n",
       "      <td>4</td>\n",
       "      <td>0</td>\n",
       "      <td>0</td>\n",
       "      <td>0</td>\n",
       "      <td>0</td>\n",
       "      <td>0</td>\n",
       "      <td>0</td>\n",
       "    </tr>\n",
       "    <tr>\n",
       "      <td>4</td>\n",
       "      <td>470</td>\n",
       "      <td>50-54</td>\n",
       "      <td>Male</td>\n",
       "      <td>France</td>\n",
       "      <td>Master’s degree</td>\n",
       "      <td>Data Scientist</td>\n",
       "      <td>0-49 employees</td>\n",
       "      <td>3-4</td>\n",
       "      <td>We have well established ML methods (i.e., mod...</td>\n",
       "      <td>$10,000-$99,999</td>\n",
       "      <td>...</td>\n",
       "      <td>3</td>\n",
       "      <td>1</td>\n",
       "      <td>2</td>\n",
       "      <td>6</td>\n",
       "      <td>1</td>\n",
       "      <td>1</td>\n",
       "      <td>1</td>\n",
       "      <td>1</td>\n",
       "      <td>1</td>\n",
       "      <td>2</td>\n",
       "    </tr>\n",
       "  </tbody>\n",
       "</table>\n",
       "<p>5 rows × 39 columns</p>\n",
       "</div>"
      ],
      "text/plain": [
       "   Time from Start to Finish (seconds)     Q1    Q2         Q3  \\\n",
       "0                                  510  22-24  Male     France   \n",
       "1                                  423  40-44  Male      India   \n",
       "2                                  391  40-44  Male  Australia   \n",
       "3                                  392  22-24  Male      India   \n",
       "4                                  470  50-54  Male     France   \n",
       "\n",
       "                    Q4                 Q5                    Q6   Q7  \\\n",
       "0      Master’s degree  Software Engineer  1000-9,999 employees    0   \n",
       "1  Professional degree  Software Engineer    > 10,000 employees  20+   \n",
       "2      Master’s degree              Other    > 10,000 employees  20+   \n",
       "3    Bachelor’s degree              Other        0-49 employees    0   \n",
       "4      Master’s degree     Data Scientist        0-49 employees  3-4   \n",
       "\n",
       "                                                  Q8                Q11  ...  \\\n",
       "0                                      I do not know           $0 (USD)  ...   \n",
       "1  We have well established ML methods (i.e., mod...  > $100,000 ($USD)  ...   \n",
       "2                                      I do not know    $10,000-$99,999  ...   \n",
       "3                      No (we do not use ML methods)           $0 (USD)  ...   \n",
       "4  We have well established ML methods (i.e., mod...    $10,000-$99,999  ...   \n",
       "\n",
       "  Q25  Q26  Q27  Q28  Q29  Q30 Q31 Q32 Q33 Q34  \n",
       "0   1    0    0    1    0    0   0   0   0   0  \n",
       "1   0    0    0    0    0    0   0   0   0   0  \n",
       "2   1    2    0    4    1    2   2   1   1   1  \n",
       "3   1    0    0    4    0    0   0   0   0   0  \n",
       "4   3    1    2    6    1    1   1   1   1   2  \n",
       "\n",
       "[5 rows x 39 columns]"
      ]
     },
     "execution_count": 17,
     "metadata": {},
     "output_type": "execute_result"
    }
   ],
   "source": [
    "# see all columns left for analysis\n",
    "df = df[list_keep]\n",
    "df.head()"
   ]
  },
  {
   "cell_type": "markdown",
   "metadata": {},
   "source": [
    "**See Details of Features for Further Engineering**"
   ]
  },
  {
   "cell_type": "code",
   "execution_count": 18,
   "metadata": {
    "colab": {
     "base_uri": "https://localhost:8080/",
     "height": 476
    },
    "colab_type": "code",
    "executionInfo": {
     "elapsed": 7751,
     "status": "ok",
     "timestamp": 1582328282642,
     "user": {
      "displayName": "Barry Xu",
      "photoUrl": "https://lh3.googleusercontent.com/a-/AAuE7mCv_JJ8qVD2k4nC_2blPyboV_YF9xsN7_IF90zs=s64",
      "userId": "17926533693346679715"
     },
     "user_tz": 300
    },
    "id": "M00qNi4LFJRG",
    "outputId": "57b1ce4e-394c-496d-b070-95f783f39c70",
    "scrolled": true
   },
   "outputs": [
    {
     "data": {
      "text/plain": [
       "Time from Start to Finish (seconds)      int64\n",
       "Q1                                      object\n",
       "Q2                                      object\n",
       "Q3                                      object\n",
       "Q4                                      object\n",
       "Q5                                      object\n",
       "Q6                                      object\n",
       "Q7                                      object\n",
       "Q8                                      object\n",
       "Q11                                     object\n",
       "Q14                                     object\n",
       "Q14_Part_1_TEXT                          int64\n",
       "Q14_Part_2_TEXT                          int64\n",
       "Q14_Part_3_TEXT                          int64\n",
       "Q14_Part_4_TEXT                          int64\n",
       "Q14_Part_5_TEXT                          int64\n",
       "Q15                                     object\n",
       "Q19                                     object\n",
       "Q22                                     object\n",
       "Q23                                     object\n",
       "Q9                                       int64\n",
       "Q12                                      int64\n",
       "Q13                                      int64\n",
       "Q16                                      int64\n",
       "Q17                                      int64\n",
       "Q18                                      int64\n",
       "Q20                                      int64\n",
       "Q21                                      int64\n",
       "Q24                                    float64\n",
       "Q25                                      int64\n",
       "Q26                                      int64\n",
       "Q27                                      int64\n",
       "Q28                                      int64\n",
       "Q29                                      int64\n",
       "Q30                                      int64\n",
       "Q31                                      int64\n",
       "Q32                                      int64\n",
       "Q33                                      int64\n",
       "Q34                                      int64\n",
       "dtype: object"
      ]
     },
     "execution_count": 18,
     "metadata": {},
     "output_type": "execute_result"
    }
   ],
   "source": [
    "df.dtypes"
   ]
  },
  {
   "cell_type": "markdown",
   "metadata": {
    "colab_type": "text",
    "id": "v3v77JyqFJRN"
   },
   "source": [
    "        By seeing the data types in all columns left, excluding the features from MCQ questions (from Q9 to Q34),  we can see six of them are numerical features: 'Time from Start to Finish (seconds)', 'Q14_Part_1_TEXT', 'Q14_Part_2_TEXT', 'Q14_Part_3_TEXT', 'Q14_Part_4_TEXT', 'Q14_Part_5_TEXT') and other features are all categorical."
   ]
  },
  {
   "cell_type": "code",
   "execution_count": 19,
   "metadata": {
    "colab": {
     "base_uri": "https://localhost:8080/",
     "height": 476
    },
    "colab_type": "code",
    "executionInfo": {
     "elapsed": 7672,
     "status": "ok",
     "timestamp": 1582328282643,
     "user": {
      "displayName": "Barry Xu",
      "photoUrl": "https://lh3.googleusercontent.com/a-/AAuE7mCv_JJ8qVD2k4nC_2blPyboV_YF9xsN7_IF90zs=s64",
      "userId": "17926533693346679715"
     },
     "user_tz": 300
    },
    "id": "SyV74q6BFJRO",
    "outputId": "ab0185d2-9f6d-46ae-9f4e-343059d90668",
    "scrolled": true
   },
   "outputs": [
    {
     "data": {
      "text/plain": [
       "Time from Start to Finish (seconds)                                Duration (in seconds)\n",
       "Q1                                                           What is your age (# years)?\n",
       "Q2                                                What is your gender? - Selected Choice\n",
       "Q3                                             In which country do you currently reside?\n",
       "Q4                                     What is the highest level of formal education ...\n",
       "Q5                                     Select the title most similar to your current ...\n",
       "Q6                                     What is the size of the company where you are ...\n",
       "Q7                                     Approximately how many individuals are respons...\n",
       "Q8                                     Does your current employer incorporate machine...\n",
       "Q11                                    Approximately how much money have you spent on...\n",
       "Q14                                    What is the primary tool that you use at work ...\n",
       "Q14_Part_1_TEXT                        What is the primary tool that you use at work ...\n",
       "Q14_Part_2_TEXT                        What is the primary tool that you use at work ...\n",
       "Q14_Part_3_TEXT                        What is the primary tool that you use at work ...\n",
       "Q14_Part_4_TEXT                        What is the primary tool that you use at work ...\n",
       "Q14_Part_5_TEXT                        What is the primary tool that you use at work ...\n",
       "Q15                                    How long have you been writing code to analyze...\n",
       "Q19                                    What programming language would you recommend ...\n",
       "Q22                                    Have you ever used a TPU (tensor processing un...\n",
       "Q23                                    For how many years have you used machine learn...\n",
       "Q9                                                                                   NaN\n",
       "Q12                                                                                  NaN\n",
       "Q13                                                                                  NaN\n",
       "Q16                                                                                  NaN\n",
       "Q17                                                                                  NaN\n",
       "Q18                                                                                  NaN\n",
       "Q20                                                                                  NaN\n",
       "Q21                                                                                  NaN\n",
       "Q24                                                                                  NaN\n",
       "Q25                                                                                  NaN\n",
       "Q26                                                                                  NaN\n",
       "Q27                                                                                  NaN\n",
       "Q28                                                                                  NaN\n",
       "Q29                                                                                  NaN\n",
       "Q30                                                                                  NaN\n",
       "Q31                                                                                  NaN\n",
       "Q32                                                                                  NaN\n",
       "Q33                                                                                  NaN\n",
       "Q34                                                                                  NaN\n",
       "Name: 0, dtype: object"
      ]
     },
     "execution_count": 19,
     "metadata": {},
     "output_type": "execute_result"
    }
   ],
   "source": [
    "# see what questions are being asked\n",
    "df_q.loc[0,list_keep]"
   ]
  },
  {
   "cell_type": "markdown",
   "metadata": {
    "colab_type": "text",
    "id": "IksaBbENFJRR"
   },
   "source": [
    "        By seeing the questions being asked in the survey, we can see Q14 is basically asking the tool you used primarily for data analysis and each part is asking for different platforms the person used, '-1' means that person did not select anything in this category. There are many -1 in these five columns, therefore, these five columns are dropped, we only leave Q14 inside the dataframe."
   ]
  },
  {
   "cell_type": "code",
   "execution_count": 20,
   "metadata": {
    "scrolled": true
   },
   "outputs": [
    {
     "data": {
      "text/html": [
       "<div>\n",
       "<style scoped>\n",
       "    .dataframe tbody tr th:only-of-type {\n",
       "        vertical-align: middle;\n",
       "    }\n",
       "\n",
       "    .dataframe tbody tr th {\n",
       "        vertical-align: top;\n",
       "    }\n",
       "\n",
       "    .dataframe thead th {\n",
       "        text-align: right;\n",
       "    }\n",
       "</style>\n",
       "<table border=\"1\" class=\"dataframe\">\n",
       "  <thead>\n",
       "    <tr style=\"text-align: right;\">\n",
       "      <th></th>\n",
       "      <th>Q14_Part_1_TEXT</th>\n",
       "      <th>Q14_Part_2_TEXT</th>\n",
       "      <th>Q14_Part_3_TEXT</th>\n",
       "      <th>Q14_Part_4_TEXT</th>\n",
       "      <th>Q14_Part_5_TEXT</th>\n",
       "    </tr>\n",
       "  </thead>\n",
       "  <tbody>\n",
       "    <tr>\n",
       "      <td>0</td>\n",
       "      <td>What is the primary tool that you use at work ...</td>\n",
       "      <td>What is the primary tool that you use at work ...</td>\n",
       "      <td>What is the primary tool that you use at work ...</td>\n",
       "      <td>What is the primary tool that you use at work ...</td>\n",
       "      <td>What is the primary tool that you use at work ...</td>\n",
       "    </tr>\n",
       "    <tr>\n",
       "      <td>1</td>\n",
       "      <td>0</td>\n",
       "      <td>-1</td>\n",
       "      <td>-1</td>\n",
       "      <td>-1</td>\n",
       "      <td>-1</td>\n",
       "    </tr>\n",
       "    <tr>\n",
       "      <td>2</td>\n",
       "      <td>-1</td>\n",
       "      <td>-1</td>\n",
       "      <td>-1</td>\n",
       "      <td>-1</td>\n",
       "      <td>0</td>\n",
       "    </tr>\n",
       "    <tr>\n",
       "      <td>3</td>\n",
       "      <td>-1</td>\n",
       "      <td>-1</td>\n",
       "      <td>-1</td>\n",
       "      <td>-1</td>\n",
       "      <td>-1</td>\n",
       "    </tr>\n",
       "    <tr>\n",
       "      <td>4</td>\n",
       "      <td>-1</td>\n",
       "      <td>-1</td>\n",
       "      <td>-1</td>\n",
       "      <td>0</td>\n",
       "      <td>-1</td>\n",
       "    </tr>\n",
       "    <tr>\n",
       "      <td>...</td>\n",
       "      <td>...</td>\n",
       "      <td>...</td>\n",
       "      <td>...</td>\n",
       "      <td>...</td>\n",
       "      <td>...</td>\n",
       "    </tr>\n",
       "    <tr>\n",
       "      <td>19713</td>\n",
       "      <td>-1</td>\n",
       "      <td>-1</td>\n",
       "      <td>-1</td>\n",
       "      <td>-1</td>\n",
       "      <td>-1</td>\n",
       "    </tr>\n",
       "    <tr>\n",
       "      <td>19714</td>\n",
       "      <td>-1</td>\n",
       "      <td>-1</td>\n",
       "      <td>-1</td>\n",
       "      <td>28</td>\n",
       "      <td>-1</td>\n",
       "    </tr>\n",
       "    <tr>\n",
       "      <td>19715</td>\n",
       "      <td>-1</td>\n",
       "      <td>-1</td>\n",
       "      <td>-1</td>\n",
       "      <td>-1</td>\n",
       "      <td>-1</td>\n",
       "    </tr>\n",
       "    <tr>\n",
       "      <td>19716</td>\n",
       "      <td>-1</td>\n",
       "      <td>-1</td>\n",
       "      <td>-1</td>\n",
       "      <td>-1</td>\n",
       "      <td>-1</td>\n",
       "    </tr>\n",
       "    <tr>\n",
       "      <td>19717</td>\n",
       "      <td>-1</td>\n",
       "      <td>-1</td>\n",
       "      <td>-1</td>\n",
       "      <td>25</td>\n",
       "      <td>-1</td>\n",
       "    </tr>\n",
       "  </tbody>\n",
       "</table>\n",
       "<p>19718 rows × 5 columns</p>\n",
       "</div>"
      ],
      "text/plain": [
       "                                         Q14_Part_1_TEXT  \\\n",
       "0      What is the primary tool that you use at work ...   \n",
       "1                                                      0   \n",
       "2                                                     -1   \n",
       "3                                                     -1   \n",
       "4                                                     -1   \n",
       "...                                                  ...   \n",
       "19713                                                 -1   \n",
       "19714                                                 -1   \n",
       "19715                                                 -1   \n",
       "19716                                                 -1   \n",
       "19717                                                 -1   \n",
       "\n",
       "                                         Q14_Part_2_TEXT  \\\n",
       "0      What is the primary tool that you use at work ...   \n",
       "1                                                     -1   \n",
       "2                                                     -1   \n",
       "3                                                     -1   \n",
       "4                                                     -1   \n",
       "...                                                  ...   \n",
       "19713                                                 -1   \n",
       "19714                                                 -1   \n",
       "19715                                                 -1   \n",
       "19716                                                 -1   \n",
       "19717                                                 -1   \n",
       "\n",
       "                                         Q14_Part_3_TEXT  \\\n",
       "0      What is the primary tool that you use at work ...   \n",
       "1                                                     -1   \n",
       "2                                                     -1   \n",
       "3                                                     -1   \n",
       "4                                                     -1   \n",
       "...                                                  ...   \n",
       "19713                                                 -1   \n",
       "19714                                                 -1   \n",
       "19715                                                 -1   \n",
       "19716                                                 -1   \n",
       "19717                                                 -1   \n",
       "\n",
       "                                         Q14_Part_4_TEXT  \\\n",
       "0      What is the primary tool that you use at work ...   \n",
       "1                                                     -1   \n",
       "2                                                     -1   \n",
       "3                                                     -1   \n",
       "4                                                      0   \n",
       "...                                                  ...   \n",
       "19713                                                 -1   \n",
       "19714                                                 28   \n",
       "19715                                                 -1   \n",
       "19716                                                 -1   \n",
       "19717                                                 25   \n",
       "\n",
       "                                         Q14_Part_5_TEXT  \n",
       "0      What is the primary tool that you use at work ...  \n",
       "1                                                     -1  \n",
       "2                                                      0  \n",
       "3                                                     -1  \n",
       "4                                                     -1  \n",
       "...                                                  ...  \n",
       "19713                                                 -1  \n",
       "19714                                                 -1  \n",
       "19715                                                 -1  \n",
       "19716                                                 -1  \n",
       "19717                                                 -1  \n",
       "\n",
       "[19718 rows x 5 columns]"
      ]
     },
     "execution_count": 20,
     "metadata": {},
     "output_type": "execute_result"
    }
   ],
   "source": [
    "df_q[['Q14_Part_1_TEXT','Q14_Part_2_TEXT','Q14_Part_3_TEXT','Q14_Part_4_TEXT','Q14_Part_5_TEXT']]"
   ]
  },
  {
   "cell_type": "code",
   "execution_count": 21,
   "metadata": {
    "colab": {},
    "colab_type": "code",
    "id": "DWBn4WzKFJRS"
   },
   "outputs": [],
   "source": [
    "df.drop(['Q14_Part_1_TEXT','Q14_Part_2_TEXT','Q14_Part_3_TEXT','Q14_Part_4_TEXT','Q14_Part_5_TEXT'],axis=1,inplace=True)"
   ]
  },
  {
   "cell_type": "code",
   "execution_count": 22,
   "metadata": {
    "scrolled": true
   },
   "outputs": [
    {
     "data": {
      "text/html": [
       "<div>\n",
       "<style scoped>\n",
       "    .dataframe tbody tr th:only-of-type {\n",
       "        vertical-align: middle;\n",
       "    }\n",
       "\n",
       "    .dataframe tbody tr th {\n",
       "        vertical-align: top;\n",
       "    }\n",
       "\n",
       "    .dataframe thead th {\n",
       "        text-align: right;\n",
       "    }\n",
       "</style>\n",
       "<table border=\"1\" class=\"dataframe\">\n",
       "  <thead>\n",
       "    <tr style=\"text-align: right;\">\n",
       "      <th></th>\n",
       "      <th>Time from Start to Finish (seconds)</th>\n",
       "      <th>Q1</th>\n",
       "      <th>Q2</th>\n",
       "      <th>Q3</th>\n",
       "      <th>Q4</th>\n",
       "      <th>Q5</th>\n",
       "      <th>Q6</th>\n",
       "      <th>Q7</th>\n",
       "      <th>Q8</th>\n",
       "      <th>Q11</th>\n",
       "      <th>...</th>\n",
       "      <th>Q25</th>\n",
       "      <th>Q26</th>\n",
       "      <th>Q27</th>\n",
       "      <th>Q28</th>\n",
       "      <th>Q29</th>\n",
       "      <th>Q30</th>\n",
       "      <th>Q31</th>\n",
       "      <th>Q32</th>\n",
       "      <th>Q33</th>\n",
       "      <th>Q34</th>\n",
       "    </tr>\n",
       "  </thead>\n",
       "  <tbody>\n",
       "    <tr>\n",
       "      <td>0</td>\n",
       "      <td>510</td>\n",
       "      <td>22-24</td>\n",
       "      <td>Male</td>\n",
       "      <td>France</td>\n",
       "      <td>Master’s degree</td>\n",
       "      <td>Software Engineer</td>\n",
       "      <td>1000-9,999 employees</td>\n",
       "      <td>0</td>\n",
       "      <td>I do not know</td>\n",
       "      <td>$0 (USD)</td>\n",
       "      <td>...</td>\n",
       "      <td>1</td>\n",
       "      <td>0</td>\n",
       "      <td>0</td>\n",
       "      <td>1</td>\n",
       "      <td>0</td>\n",
       "      <td>0</td>\n",
       "      <td>0</td>\n",
       "      <td>0</td>\n",
       "      <td>0</td>\n",
       "      <td>0</td>\n",
       "    </tr>\n",
       "    <tr>\n",
       "      <td>1</td>\n",
       "      <td>423</td>\n",
       "      <td>40-44</td>\n",
       "      <td>Male</td>\n",
       "      <td>India</td>\n",
       "      <td>Professional degree</td>\n",
       "      <td>Software Engineer</td>\n",
       "      <td>&gt; 10,000 employees</td>\n",
       "      <td>20+</td>\n",
       "      <td>We have well established ML methods (i.e., mod...</td>\n",
       "      <td>&gt; $100,000 ($USD)</td>\n",
       "      <td>...</td>\n",
       "      <td>0</td>\n",
       "      <td>0</td>\n",
       "      <td>0</td>\n",
       "      <td>0</td>\n",
       "      <td>0</td>\n",
       "      <td>0</td>\n",
       "      <td>0</td>\n",
       "      <td>0</td>\n",
       "      <td>0</td>\n",
       "      <td>0</td>\n",
       "    </tr>\n",
       "    <tr>\n",
       "      <td>2</td>\n",
       "      <td>391</td>\n",
       "      <td>40-44</td>\n",
       "      <td>Male</td>\n",
       "      <td>Australia</td>\n",
       "      <td>Master’s degree</td>\n",
       "      <td>Other</td>\n",
       "      <td>&gt; 10,000 employees</td>\n",
       "      <td>20+</td>\n",
       "      <td>I do not know</td>\n",
       "      <td>$10,000-$99,999</td>\n",
       "      <td>...</td>\n",
       "      <td>1</td>\n",
       "      <td>2</td>\n",
       "      <td>0</td>\n",
       "      <td>4</td>\n",
       "      <td>1</td>\n",
       "      <td>2</td>\n",
       "      <td>2</td>\n",
       "      <td>1</td>\n",
       "      <td>1</td>\n",
       "      <td>1</td>\n",
       "    </tr>\n",
       "    <tr>\n",
       "      <td>3</td>\n",
       "      <td>392</td>\n",
       "      <td>22-24</td>\n",
       "      <td>Male</td>\n",
       "      <td>India</td>\n",
       "      <td>Bachelor’s degree</td>\n",
       "      <td>Other</td>\n",
       "      <td>0-49 employees</td>\n",
       "      <td>0</td>\n",
       "      <td>No (we do not use ML methods)</td>\n",
       "      <td>$0 (USD)</td>\n",
       "      <td>...</td>\n",
       "      <td>1</td>\n",
       "      <td>0</td>\n",
       "      <td>0</td>\n",
       "      <td>4</td>\n",
       "      <td>0</td>\n",
       "      <td>0</td>\n",
       "      <td>0</td>\n",
       "      <td>0</td>\n",
       "      <td>0</td>\n",
       "      <td>0</td>\n",
       "    </tr>\n",
       "    <tr>\n",
       "      <td>4</td>\n",
       "      <td>470</td>\n",
       "      <td>50-54</td>\n",
       "      <td>Male</td>\n",
       "      <td>France</td>\n",
       "      <td>Master’s degree</td>\n",
       "      <td>Data Scientist</td>\n",
       "      <td>0-49 employees</td>\n",
       "      <td>3-4</td>\n",
       "      <td>We have well established ML methods (i.e., mod...</td>\n",
       "      <td>$10,000-$99,999</td>\n",
       "      <td>...</td>\n",
       "      <td>3</td>\n",
       "      <td>1</td>\n",
       "      <td>2</td>\n",
       "      <td>6</td>\n",
       "      <td>1</td>\n",
       "      <td>1</td>\n",
       "      <td>1</td>\n",
       "      <td>1</td>\n",
       "      <td>1</td>\n",
       "      <td>2</td>\n",
       "    </tr>\n",
       "  </tbody>\n",
       "</table>\n",
       "<p>5 rows × 34 columns</p>\n",
       "</div>"
      ],
      "text/plain": [
       "   Time from Start to Finish (seconds)     Q1    Q2         Q3  \\\n",
       "0                                  510  22-24  Male     France   \n",
       "1                                  423  40-44  Male      India   \n",
       "2                                  391  40-44  Male  Australia   \n",
       "3                                  392  22-24  Male      India   \n",
       "4                                  470  50-54  Male     France   \n",
       "\n",
       "                    Q4                 Q5                    Q6   Q7  \\\n",
       "0      Master’s degree  Software Engineer  1000-9,999 employees    0   \n",
       "1  Professional degree  Software Engineer    > 10,000 employees  20+   \n",
       "2      Master’s degree              Other    > 10,000 employees  20+   \n",
       "3    Bachelor’s degree              Other        0-49 employees    0   \n",
       "4      Master’s degree     Data Scientist        0-49 employees  3-4   \n",
       "\n",
       "                                                  Q8                Q11  ...  \\\n",
       "0                                      I do not know           $0 (USD)  ...   \n",
       "1  We have well established ML methods (i.e., mod...  > $100,000 ($USD)  ...   \n",
       "2                                      I do not know    $10,000-$99,999  ...   \n",
       "3                      No (we do not use ML methods)           $0 (USD)  ...   \n",
       "4  We have well established ML methods (i.e., mod...    $10,000-$99,999  ...   \n",
       "\n",
       "  Q25 Q26 Q27 Q28 Q29  Q30  Q31  Q32  Q33  Q34  \n",
       "0   1   0   0   1   0    0    0    0    0    0  \n",
       "1   0   0   0   0   0    0    0    0    0    0  \n",
       "2   1   2   0   4   1    2    2    1    1    1  \n",
       "3   1   0   0   4   0    0    0    0    0    0  \n",
       "4   3   1   2   6   1    1    1    1    1    2  \n",
       "\n",
       "[5 rows x 34 columns]"
      ]
     },
     "execution_count": 22,
     "metadata": {},
     "output_type": "execute_result"
    }
   ],
   "source": [
    "df.head()"
   ]
  },
  {
   "cell_type": "markdown",
   "metadata": {
    "colab_type": "text",
    "id": "1zW-hSuVFJRV"
   },
   "source": [
    "### Dealing with Missing Value"
   ]
  },
  {
   "cell_type": "markdown",
   "metadata": {},
   "source": [
    "        For Categorical features, some are ordinal and some are without orders. Therefore, these two types of features will need two different engineering methods. For categorical missing values, I used MODE of this feature as the filling values. Reasons of of missing values are discussed in every part.\n",
    "    \n",
    "       * for features without any order: the missing values are directly filled with mode in that column without any preprocessing. Then, all categories will be encoded into integers by categorical encoding.\n",
    "       \n",
    "       * for Ordinal Features: A dictionary will be created, the keys for the dictionary represent the different categories in the question and values are sorted by orders and assigned to each key. Then, this dictionary is mapped to the dataframe for encoding and missing values are filled with mode."
   ]
  },
  {
   "cell_type": "code",
   "execution_count": 23,
   "metadata": {
    "colab": {
     "base_uri": "https://localhost:8080/",
     "height": 0
    },
    "colab_type": "code",
    "executionInfo": {
     "elapsed": 7596,
     "status": "ok",
     "timestamp": 1582328282643,
     "user": {
      "displayName": "Barry Xu",
      "photoUrl": "https://lh3.googleusercontent.com/a-/AAuE7mCv_JJ8qVD2k4nC_2blPyboV_YF9xsN7_IF90zs=s64",
      "userId": "17926533693346679715"
     },
     "user_tz": 300
    },
    "id": "LM5jc2ssFJRV",
    "outputId": "7e29cb16-ddd2-4215-85f7-6fd1225a8202",
    "scrolled": true
   },
   "outputs": [
    {
     "data": {
      "text/plain": [
       "Time from Start to Finish (seconds)       0\n",
       "Q1                                        0\n",
       "Q2                                        0\n",
       "Q3                                        0\n",
       "Q4                                        0\n",
       "Q5                                        0\n",
       "Q6                                        0\n",
       "Q7                                        0\n",
       "Q8                                        0\n",
       "Q11                                     247\n",
       "Q14                                    1045\n",
       "Q15                                    1075\n",
       "Q19                                    1844\n",
       "Q22                                    1947\n",
       "Q23                                    1956\n",
       "Q9                                        0\n",
       "Q12                                       0\n",
       "Q13                                       0\n",
       "Q16                                       0\n",
       "Q17                                       0\n",
       "Q18                                       0\n",
       "Q20                                       0\n",
       "Q21                                       0\n",
       "Q24                                       0\n",
       "Q25                                       0\n",
       "Q26                                       0\n",
       "Q27                                       0\n",
       "Q28                                       0\n",
       "Q29                                       0\n",
       "Q30                                       0\n",
       "Q31                                       0\n",
       "Q32                                       0\n",
       "Q33                                       0\n",
       "Q34                                       0\n",
       "dtype: int64"
      ]
     },
     "execution_count": 23,
     "metadata": {},
     "output_type": "execute_result"
    }
   ],
   "source": [
    "df.isna().sum()"
   ]
  },
  {
   "cell_type": "markdown",
   "metadata": {
    "colab_type": "text",
    "id": "1a_HnsI6FJRl"
   },
   "source": [
    "#### Categorical Features Without Orders"
   ]
  },
  {
   "cell_type": "code",
   "execution_count": 24,
   "metadata": {
    "colab": {},
    "colab_type": "code",
    "id": "1HFmGR2TFJRm"
   },
   "outputs": [],
   "source": [
    "cate_no_order = ['Q14','Q19']"
   ]
  },
  {
   "cell_type": "markdown",
   "metadata": {},
   "source": [
    "* See Questions"
   ]
  },
  {
   "cell_type": "code",
   "execution_count": 25,
   "metadata": {},
   "outputs": [
    {
     "data": {
      "text/plain": [
       "Q14    What is the primary tool that you use at work ...\n",
       "Q19    What programming language would you recommend ...\n",
       "Name: 0, dtype: object"
      ]
     },
     "execution_count": 25,
     "metadata": {},
     "output_type": "execute_result"
    }
   ],
   "source": [
    "#see questions\n",
    "df_q.loc[0,cate_no_order]"
   ]
  },
  {
   "cell_type": "markdown",
   "metadata": {},
   "source": [
    "        Some of these two questions are missing may due to people may not have language to recommend and they forgot the primary tool they used at work, or they simply don't want to answer these questions."
   ]
  },
  {
   "cell_type": "code",
   "execution_count": 26,
   "metadata": {
    "colab": {
     "base_uri": "https://localhost:8080/",
     "height": 0
    },
    "colab_type": "code",
    "executionInfo": {
     "elapsed": 7701,
     "status": "ok",
     "timestamp": 1582328282794,
     "user": {
      "displayName": "Barry Xu",
      "photoUrl": "https://lh3.googleusercontent.com/a-/AAuE7mCv_JJ8qVD2k4nC_2blPyboV_YF9xsN7_IF90zs=s64",
      "userId": "17926533693346679715"
     },
     "user_tz": 300
    },
    "id": "A8IJ4jeAFJRp",
    "outputId": "30f19b7b-cc94-4738-d387-01542ce9d95c"
   },
   "outputs": [
    {
     "data": {
      "text/html": [
       "<div>\n",
       "<style scoped>\n",
       "    .dataframe tbody tr th:only-of-type {\n",
       "        vertical-align: middle;\n",
       "    }\n",
       "\n",
       "    .dataframe tbody tr th {\n",
       "        vertical-align: top;\n",
       "    }\n",
       "\n",
       "    .dataframe thead th {\n",
       "        text-align: right;\n",
       "    }\n",
       "</style>\n",
       "<table border=\"1\" class=\"dataframe\">\n",
       "  <thead>\n",
       "    <tr style=\"text-align: right;\">\n",
       "      <th></th>\n",
       "      <th>Q14</th>\n",
       "      <th>Q19</th>\n",
       "    </tr>\n",
       "  </thead>\n",
       "  <tbody>\n",
       "    <tr>\n",
       "      <td>0</td>\n",
       "      <td>Basic statistical software (Microsoft Excel, G...</td>\n",
       "      <td>Python</td>\n",
       "    </tr>\n",
       "    <tr>\n",
       "      <td>1</td>\n",
       "      <td>Cloud-based data software &amp; APIs (AWS, GCP, Az...</td>\n",
       "      <td>NaN</td>\n",
       "    </tr>\n",
       "    <tr>\n",
       "      <td>2</td>\n",
       "      <td>Local development environments (RStudio, Jupyt...</td>\n",
       "      <td>Python</td>\n",
       "    </tr>\n",
       "    <tr>\n",
       "      <td>3</td>\n",
       "      <td>Local development environments (RStudio, Jupyt...</td>\n",
       "      <td>Python</td>\n",
       "    </tr>\n",
       "    <tr>\n",
       "      <td>4</td>\n",
       "      <td>Advanced statistical software (SPSS, SAS, etc.)</td>\n",
       "      <td>Java</td>\n",
       "    </tr>\n",
       "    <tr>\n",
       "      <td>...</td>\n",
       "      <td>...</td>\n",
       "      <td>...</td>\n",
       "    </tr>\n",
       "    <tr>\n",
       "      <td>12492</td>\n",
       "      <td>NaN</td>\n",
       "      <td>NaN</td>\n",
       "    </tr>\n",
       "    <tr>\n",
       "      <td>12493</td>\n",
       "      <td>NaN</td>\n",
       "      <td>NaN</td>\n",
       "    </tr>\n",
       "    <tr>\n",
       "      <td>12494</td>\n",
       "      <td>Local development environments (RStudio, Jupyt...</td>\n",
       "      <td>NaN</td>\n",
       "    </tr>\n",
       "    <tr>\n",
       "      <td>12495</td>\n",
       "      <td>NaN</td>\n",
       "      <td>NaN</td>\n",
       "    </tr>\n",
       "    <tr>\n",
       "      <td>12496</td>\n",
       "      <td>Local development environments (RStudio, Jupyt...</td>\n",
       "      <td>Python</td>\n",
       "    </tr>\n",
       "  </tbody>\n",
       "</table>\n",
       "<p>12497 rows × 2 columns</p>\n",
       "</div>"
      ],
      "text/plain": [
       "                                                     Q14     Q19\n",
       "0      Basic statistical software (Microsoft Excel, G...  Python\n",
       "1      Cloud-based data software & APIs (AWS, GCP, Az...     NaN\n",
       "2      Local development environments (RStudio, Jupyt...  Python\n",
       "3      Local development environments (RStudio, Jupyt...  Python\n",
       "4        Advanced statistical software (SPSS, SAS, etc.)    Java\n",
       "...                                                  ...     ...\n",
       "12492                                                NaN     NaN\n",
       "12493                                                NaN     NaN\n",
       "12494  Local development environments (RStudio, Jupyt...     NaN\n",
       "12495                                                NaN     NaN\n",
       "12496  Local development environments (RStudio, Jupyt...  Python\n",
       "\n",
       "[12497 rows x 2 columns]"
      ]
     },
     "execution_count": 26,
     "metadata": {},
     "output_type": "execute_result"
    }
   ],
   "source": [
    "#see responses\n",
    "df[cate_no_order]"
   ]
  },
  {
   "cell_type": "code",
   "execution_count": 27,
   "metadata": {
    "colab": {
     "base_uri": "https://localhost:8080/",
     "height": 0
    },
    "colab_type": "code",
    "executionInfo": {
     "elapsed": 7697,
     "status": "ok",
     "timestamp": 1582328282795,
     "user": {
      "displayName": "Barry Xu",
      "photoUrl": "https://lh3.googleusercontent.com/a-/AAuE7mCv_JJ8qVD2k4nC_2blPyboV_YF9xsN7_IF90zs=s64",
      "userId": "17926533693346679715"
     },
     "user_tz": 300
    },
    "id": "NORMGUc7FJRs",
    "outputId": "ab611158-686f-4abd-fdbd-0341d44da412"
   },
   "outputs": [
    {
     "data": {
      "text/plain": [
       "{'Advanced statistical software (SPSS, SAS, etc.)',\n",
       " 'Basic statistical software (Microsoft Excel, Google Sheets, etc.)',\n",
       " 'Business intelligence software (Salesforce, Tableau, Spotfire, etc.)',\n",
       " 'Cloud-based data software & APIs (AWS, GCP, Azure, etc.)',\n",
       " 'Local development environments (RStudio, JupyterLab, etc.)',\n",
       " 'Other',\n",
       " nan}"
      ]
     },
     "execution_count": 27,
     "metadata": {},
     "output_type": "execute_result"
    }
   ],
   "source": [
    "set(df['Q14'])"
   ]
  },
  {
   "cell_type": "code",
   "execution_count": 28,
   "metadata": {
    "colab": {
     "base_uri": "https://localhost:8080/",
     "height": 0
    },
    "colab_type": "code",
    "executionInfo": {
     "elapsed": 7691,
     "status": "ok",
     "timestamp": 1582328282795,
     "user": {
      "displayName": "Barry Xu",
      "photoUrl": "https://lh3.googleusercontent.com/a-/AAuE7mCv_JJ8qVD2k4nC_2blPyboV_YF9xsN7_IF90zs=s64",
      "userId": "17926533693346679715"
     },
     "user_tz": 300
    },
    "id": "8tZPZBbRFJRu",
    "outputId": "95e9416a-9846-43d1-c61f-c868d6b9698f"
   },
   "outputs": [
    {
     "data": {
      "text/plain": [
       "{'Bash',\n",
       " 'C',\n",
       " 'C++',\n",
       " 'Java',\n",
       " 'Javascript',\n",
       " 'MATLAB',\n",
       " 'None',\n",
       " 'Other',\n",
       " 'Python',\n",
       " 'R',\n",
       " 'SQL',\n",
       " 'TypeScript',\n",
       " nan}"
      ]
     },
     "execution_count": 28,
     "metadata": {},
     "output_type": "execute_result"
    }
   ],
   "source": [
    "set(df['Q19'])"
   ]
  },
  {
   "cell_type": "code",
   "execution_count": 29,
   "metadata": {
    "colab": {
     "base_uri": "https://localhost:8080/",
     "height": 0
    },
    "colab_type": "code",
    "executionInfo": {
     "elapsed": 7687,
     "status": "ok",
     "timestamp": 1582328282796,
     "user": {
      "displayName": "Barry Xu",
      "photoUrl": "https://lh3.googleusercontent.com/a-/AAuE7mCv_JJ8qVD2k4nC_2blPyboV_YF9xsN7_IF90zs=s64",
      "userId": "17926533693346679715"
     },
     "user_tz": 300
    },
    "id": "JLPx_SfaFJRw",
    "outputId": "092c0a39-e098-4105-a433-3941275aa25a"
   },
   "outputs": [
    {
     "data": {
      "text/plain": [
       "Q14    1045\n",
       "Q19    1844\n",
       "dtype: int64"
      ]
     },
     "execution_count": 29,
     "metadata": {},
     "output_type": "execute_result"
    }
   ],
   "source": [
    "df[cate_no_order].isna().sum()"
   ]
  },
  {
   "cell_type": "markdown",
   "metadata": {},
   "source": [
    "* Fillna with Mode for Each Category"
   ]
  },
  {
   "cell_type": "code",
   "execution_count": 30,
   "metadata": {
    "colab": {},
    "colab_type": "code",
    "id": "ciiLONhkFJR0"
   },
   "outputs": [],
   "source": [
    "# fillna with mode for each category\n",
    "df.fillna({x: df.loc[:,x].mode()[0] for x in cate_no_order}, inplace=True)"
   ]
  },
  {
   "cell_type": "code",
   "execution_count": 31,
   "metadata": {
    "colab": {
     "base_uri": "https://localhost:8080/",
     "height": 0
    },
    "colab_type": "code",
    "executionInfo": {
     "elapsed": 7676,
     "status": "ok",
     "timestamp": 1582328282797,
     "user": {
      "displayName": "Barry Xu",
      "photoUrl": "https://lh3.googleusercontent.com/a-/AAuE7mCv_JJ8qVD2k4nC_2blPyboV_YF9xsN7_IF90zs=s64",
      "userId": "17926533693346679715"
     },
     "user_tz": 300
    },
    "id": "1bJ-2sjXFJR3",
    "outputId": "6d07cdeb-5f4c-45d9-aa2e-29df1779a17a"
   },
   "outputs": [
    {
     "data": {
      "text/plain": [
       "Q14    0\n",
       "Q19    0\n",
       "dtype: int64"
      ]
     },
     "execution_count": 31,
     "metadata": {},
     "output_type": "execute_result"
    }
   ],
   "source": [
    "#check all missing values are filled\n",
    "df[cate_no_order].isna().sum()"
   ]
  },
  {
   "cell_type": "markdown",
   "metadata": {},
   "source": [
    "        Category type of data is a sequence of unique values with no missing values, it can simply encode each category a integer. Missing values will be assigned to -1 automatically by cat.codes method, therefore, categorical encoding will be used only after missing values are filled with modes."
   ]
  },
  {
   "cell_type": "code",
   "execution_count": 32,
   "metadata": {
    "colab": {},
    "colab_type": "code",
    "id": "dflBsqggFJR5"
   },
   "outputs": [],
   "source": [
    "# encode each category to a number\n",
    "for col in cate_no_order:\n",
    "    df.loc[:,col] = df.loc[:,col].astype('category')\n",
    "    df.loc[:,col] = df.loc[:,col].cat.codes"
   ]
  },
  {
   "cell_type": "code",
   "execution_count": 33,
   "metadata": {},
   "outputs": [
    {
     "data": {
      "text/html": [
       "<div>\n",
       "<style scoped>\n",
       "    .dataframe tbody tr th:only-of-type {\n",
       "        vertical-align: middle;\n",
       "    }\n",
       "\n",
       "    .dataframe tbody tr th {\n",
       "        vertical-align: top;\n",
       "    }\n",
       "\n",
       "    .dataframe thead th {\n",
       "        text-align: right;\n",
       "    }\n",
       "</style>\n",
       "<table border=\"1\" class=\"dataframe\">\n",
       "  <thead>\n",
       "    <tr style=\"text-align: right;\">\n",
       "      <th></th>\n",
       "      <th>Q14</th>\n",
       "      <th>Q19</th>\n",
       "    </tr>\n",
       "  </thead>\n",
       "  <tbody>\n",
       "    <tr>\n",
       "      <td>0</td>\n",
       "      <td>1</td>\n",
       "      <td>8</td>\n",
       "    </tr>\n",
       "    <tr>\n",
       "      <td>1</td>\n",
       "      <td>3</td>\n",
       "      <td>8</td>\n",
       "    </tr>\n",
       "    <tr>\n",
       "      <td>2</td>\n",
       "      <td>4</td>\n",
       "      <td>8</td>\n",
       "    </tr>\n",
       "    <tr>\n",
       "      <td>3</td>\n",
       "      <td>4</td>\n",
       "      <td>8</td>\n",
       "    </tr>\n",
       "    <tr>\n",
       "      <td>4</td>\n",
       "      <td>0</td>\n",
       "      <td>3</td>\n",
       "    </tr>\n",
       "  </tbody>\n",
       "</table>\n",
       "</div>"
      ],
      "text/plain": [
       "   Q14  Q19\n",
       "0    1    8\n",
       "1    3    8\n",
       "2    4    8\n",
       "3    4    8\n",
       "4    0    3"
      ]
     },
     "execution_count": 33,
     "metadata": {},
     "output_type": "execute_result"
    }
   ],
   "source": [
    "df[cate_no_order].head(5)"
   ]
  },
  {
   "cell_type": "markdown",
   "metadata": {
    "colab_type": "text",
    "id": "Yn-1kU_iFJR8"
   },
   "source": [
    "#### Categorical Features with Orders"
   ]
  },
  {
   "cell_type": "markdown",
   "metadata": {},
   "source": [
    "        Ordinal feature is more complicated than features without orders since we need to consider the orders for each category, we can not just encode each category randomly. For example, for question 15 'How long have you been writeing code to analyze data', the choices are given in year ranges such as 1-2 and 3-5 year, we can not simply encode 1-2 year as category 2 and 3-5 years as category 1 since 3-5 years is more likely to have a larger chance to get a hgiher salary since more experience in codings. Therefore, I need to see all the unique categories in these features and use dictionary to order them and then use the dictionary to encode them to integers."
   ]
  },
  {
   "cell_type": "code",
   "execution_count": 34,
   "metadata": {
    "colab": {},
    "colab_type": "code",
    "id": "a4W77mp7FJR9"
   },
   "outputs": [],
   "source": [
    "cate_order = ['Q11', 'Q15','Q22','Q23']"
   ]
  },
  {
   "cell_type": "code",
   "execution_count": 35,
   "metadata": {},
   "outputs": [
    {
     "data": {
      "text/plain": [
       "Q11    Approximately how much money have you spent on...\n",
       "Q15    How long have you been writing code to analyze...\n",
       "Q22    Have you ever used a TPU (tensor processing un...\n",
       "Q23    For how many years have you used machine learn...\n",
       "Name: 0, dtype: object"
      ]
     },
     "execution_count": 35,
     "metadata": {},
     "output_type": "execute_result"
    }
   ],
   "source": [
    "df_q.loc[0,cate_order]"
   ]
  },
  {
   "cell_type": "code",
   "execution_count": 36,
   "metadata": {
    "colab": {
     "base_uri": "https://localhost:8080/",
     "height": 0
    },
    "colab_type": "code",
    "executionInfo": {
     "elapsed": 7656,
     "status": "ok",
     "timestamp": 1582328282798,
     "user": {
      "displayName": "Barry Xu",
      "photoUrl": "https://lh3.googleusercontent.com/a-/AAuE7mCv_JJ8qVD2k4nC_2blPyboV_YF9xsN7_IF90zs=s64",
      "userId": "17926533693346679715"
     },
     "user_tz": 300
    },
    "id": "inegQ7RDFJR_",
    "outputId": "1de03c92-b20c-4258-8099-d52a08abdd3b"
   },
   "outputs": [
    {
     "data": {
      "text/plain": [
       "Q11     247\n",
       "Q15    1075\n",
       "Q22    1947\n",
       "Q23    1956\n",
       "dtype: int64"
      ]
     },
     "execution_count": 36,
     "metadata": {},
     "output_type": "execute_result"
    }
   ],
   "source": [
    "df[cate_order].isna().sum()"
   ]
  },
  {
   "cell_type": "code",
   "execution_count": 37,
   "metadata": {
    "colab": {
     "base_uri": "https://localhost:8080/",
     "height": 0
    },
    "colab_type": "code",
    "executionInfo": {
     "elapsed": 7651,
     "status": "ok",
     "timestamp": 1582328282798,
     "user": {
      "displayName": "Barry Xu",
      "photoUrl": "https://lh3.googleusercontent.com/a-/AAuE7mCv_JJ8qVD2k4nC_2blPyboV_YF9xsN7_IF90zs=s64",
      "userId": "17926533693346679715"
     },
     "user_tz": 300
    },
    "id": "t4XJDsviFJSB",
    "outputId": "d8376902-2878-4580-b032-d7a80e32cda2"
   },
   "outputs": [
    {
     "data": {
      "text/html": [
       "<div>\n",
       "<style scoped>\n",
       "    .dataframe tbody tr th:only-of-type {\n",
       "        vertical-align: middle;\n",
       "    }\n",
       "\n",
       "    .dataframe tbody tr th {\n",
       "        vertical-align: top;\n",
       "    }\n",
       "\n",
       "    .dataframe thead th {\n",
       "        text-align: right;\n",
       "    }\n",
       "</style>\n",
       "<table border=\"1\" class=\"dataframe\">\n",
       "  <thead>\n",
       "    <tr style=\"text-align: right;\">\n",
       "      <th></th>\n",
       "      <th>Q11</th>\n",
       "      <th>Q15</th>\n",
       "      <th>Q22</th>\n",
       "      <th>Q23</th>\n",
       "    </tr>\n",
       "  </thead>\n",
       "  <tbody>\n",
       "    <tr>\n",
       "      <td>0</td>\n",
       "      <td>$0 (USD)</td>\n",
       "      <td>3-5 years</td>\n",
       "      <td>Never</td>\n",
       "      <td>&lt; 1 years</td>\n",
       "    </tr>\n",
       "  </tbody>\n",
       "</table>\n",
       "</div>"
      ],
      "text/plain": [
       "        Q11        Q15    Q22        Q23\n",
       "0  $0 (USD)  3-5 years  Never  < 1 years"
      ]
     },
     "execution_count": 37,
     "metadata": {},
     "output_type": "execute_result"
    }
   ],
   "source": [
    "df[cate_order].mode()"
   ]
  },
  {
   "cell_type": "code",
   "execution_count": 38,
   "metadata": {
    "colab": {},
    "colab_type": "code",
    "id": "uhcyrz8qFJSF"
   },
   "outputs": [],
   "source": [
    "df.fillna({x: df.loc[:,x].mode()[0] for x in cate_order}, inplace=True)"
   ]
  },
  {
   "cell_type": "code",
   "execution_count": 39,
   "metadata": {
    "colab": {
     "base_uri": "https://localhost:8080/",
     "height": 0
    },
    "colab_type": "code",
    "executionInfo": {
     "elapsed": 7888,
     "status": "ok",
     "timestamp": 1582328283048,
     "user": {
      "displayName": "Barry Xu",
      "photoUrl": "https://lh3.googleusercontent.com/a-/AAuE7mCv_JJ8qVD2k4nC_2blPyboV_YF9xsN7_IF90zs=s64",
      "userId": "17926533693346679715"
     },
     "user_tz": 300
    },
    "id": "F7egWYHdFJSH",
    "outputId": "0fe60ff5-5f16-414d-999e-e81a488be15b"
   },
   "outputs": [
    {
     "data": {
      "text/plain": [
       "Q11    0\n",
       "Q15    0\n",
       "Q22    0\n",
       "Q23    0\n",
       "dtype: int64"
      ]
     },
     "execution_count": 39,
     "metadata": {},
     "output_type": "execute_result"
    }
   ],
   "source": [
    "df[cate_order].isna().sum()"
   ]
  },
  {
   "cell_type": "markdown",
   "metadata": {
    "colab_type": "text",
    "id": "yVXc38KWFJSM"
   },
   "source": [
    "Q11"
   ]
  },
  {
   "cell_type": "code",
   "execution_count": 40,
   "metadata": {
    "colab": {
     "base_uri": "https://localhost:8080/",
     "height": 0
    },
    "colab_type": "code",
    "executionInfo": {
     "elapsed": 7880,
     "status": "ok",
     "timestamp": 1582328283049,
     "user": {
      "displayName": "Barry Xu",
      "photoUrl": "https://lh3.googleusercontent.com/a-/AAuE7mCv_JJ8qVD2k4nC_2blPyboV_YF9xsN7_IF90zs=s64",
      "userId": "17926533693346679715"
     },
     "user_tz": 300
    },
    "id": "37U1zMC9FJSN",
    "outputId": "7e7d0d56-8f33-4a5e-de01-5b8a7ba2d870"
   },
   "outputs": [
    {
     "data": {
      "text/plain": [
       "array(['$0 (USD)', '> $100,000 ($USD)', '$10,000-$99,999', '$100-$999',\n",
       "       '$1000-$9,999', '$1-$99'], dtype=object)"
      ]
     },
     "execution_count": 40,
     "metadata": {},
     "output_type": "execute_result"
    }
   ],
   "source": [
    "# check categories\n",
    "df['Q11'].unique()"
   ]
  },
  {
   "cell_type": "code",
   "execution_count": 41,
   "metadata": {
    "colab": {
     "base_uri": "https://localhost:8080/",
     "height": 0
    },
    "colab_type": "code",
    "executionInfo": {
     "elapsed": 7874,
     "status": "ok",
     "timestamp": 1582328283049,
     "user": {
      "displayName": "Barry Xu",
      "photoUrl": "https://lh3.googleusercontent.com/a-/AAuE7mCv_JJ8qVD2k4nC_2blPyboV_YF9xsN7_IF90zs=s64",
      "userId": "17926533693346679715"
     },
     "user_tz": 300
    },
    "id": "2hYrAXCQFJSP",
    "outputId": "1a44aa0e-9245-4a78-913d-0dfe3ccb6e95"
   },
   "outputs": [
    {
     "data": {
      "text/plain": [
       "'Approximately how much money have you spent on machine learning and/or cloud computing products at your work in the past 5 years?'"
      ]
     },
     "execution_count": 41,
     "metadata": {},
     "output_type": "execute_result"
    }
   ],
   "source": [
    "df_q.loc[0,'Q11']"
   ]
  },
  {
   "cell_type": "code",
   "execution_count": 42,
   "metadata": {
    "colab": {},
    "colab_type": "code",
    "id": "uZFRM_-aFJSQ"
   },
   "outputs": [],
   "source": [
    "# create dictionary for mapping\n",
    "Q11_encode = {\n",
    "    '$0 (USD)': 0,\n",
    "    '$1-$99': 1,\n",
    "    '$100-$999': 2,\n",
    "    '$1000-$9,999': 3,\n",
    "    '$10,000-$99,999': 4,\n",
    "    '> $100,000 ($USD)': 5\n",
    "}"
   ]
  },
  {
   "cell_type": "code",
   "execution_count": 43,
   "metadata": {
    "colab": {
     "base_uri": "https://localhost:8080/",
     "height": 0
    },
    "colab_type": "code",
    "executionInfo": {
     "elapsed": 7863,
     "status": "ok",
     "timestamp": 1582328283050,
     "user": {
      "displayName": "Barry Xu",
      "photoUrl": "https://lh3.googleusercontent.com/a-/AAuE7mCv_JJ8qVD2k4nC_2blPyboV_YF9xsN7_IF90zs=s64",
      "userId": "17926533693346679715"
     },
     "user_tz": 300
    },
    "id": "AyuhgharFJSV",
    "outputId": "28ae9c24-96c7-489d-ca10-e6889cfd2121"
   },
   "outputs": [
    {
     "data": {
      "text/plain": [
       "array([0, 5, 4, 2, 3, 1])"
      ]
     },
     "execution_count": 43,
     "metadata": {},
     "output_type": "execute_result"
    }
   ],
   "source": [
    "df.loc[:,'Q11'] = df.loc[:,'Q11'].map(Q11_encode)\n",
    "df.loc[:,'Q11'] = df.loc[:,'Q11'].astype(int)\n",
    "df['Q11'].unique()"
   ]
  },
  {
   "cell_type": "code",
   "execution_count": 44,
   "metadata": {
    "colab": {
     "base_uri": "https://localhost:8080/",
     "height": 0
    },
    "colab_type": "code",
    "executionInfo": {
     "elapsed": 7857,
     "status": "ok",
     "timestamp": 1582328283050,
     "user": {
      "displayName": "Barry Xu",
      "photoUrl": "https://lh3.googleusercontent.com/a-/AAuE7mCv_JJ8qVD2k4nC_2blPyboV_YF9xsN7_IF90zs=s64",
      "userId": "17926533693346679715"
     },
     "user_tz": 300
    },
    "id": "6QWtg82IFJSY",
    "outputId": "51f5d6dc-9b35-4a2b-9926-2c64e8124252"
   },
   "outputs": [
    {
     "data": {
      "text/plain": [
       "0        0\n",
       "1        5\n",
       "2        4\n",
       "3        0\n",
       "4        4\n",
       "        ..\n",
       "12492    2\n",
       "12493    0\n",
       "12494    0\n",
       "12495    0\n",
       "12496    0\n",
       "Name: Q11, Length: 12497, dtype: int64"
      ]
     },
     "execution_count": 44,
     "metadata": {},
     "output_type": "execute_result"
    }
   ],
   "source": [
    "df['Q11']"
   ]
  },
  {
   "cell_type": "markdown",
   "metadata": {
    "colab_type": "text",
    "id": "AlJRWSnIFJSa"
   },
   "source": [
    "Q15"
   ]
  },
  {
   "cell_type": "code",
   "execution_count": 45,
   "metadata": {
    "colab": {
     "base_uri": "https://localhost:8080/",
     "height": 0
    },
    "colab_type": "code",
    "executionInfo": {
     "elapsed": 7852,
     "status": "ok",
     "timestamp": 1582328283051,
     "user": {
      "displayName": "Barry Xu",
      "photoUrl": "https://lh3.googleusercontent.com/a-/AAuE7mCv_JJ8qVD2k4nC_2blPyboV_YF9xsN7_IF90zs=s64",
      "userId": "17926533693346679715"
     },
     "user_tz": 300
    },
    "id": "orsmKzlCFJSc",
    "outputId": "e5a45ffd-3a4a-4578-a0d2-341c5b0a1a57"
   },
   "outputs": [
    {
     "data": {
      "text/plain": [
       "array(['1-2 years', 'I have never written code', '< 1 years', '20+ years',\n",
       "       '3-5 years', '5-10 years', '10-20 years'], dtype=object)"
      ]
     },
     "execution_count": 45,
     "metadata": {},
     "output_type": "execute_result"
    }
   ],
   "source": [
    "df['Q15'].unique()"
   ]
  },
  {
   "cell_type": "code",
   "execution_count": 46,
   "metadata": {
    "colab": {
     "base_uri": "https://localhost:8080/",
     "height": 0
    },
    "colab_type": "code",
    "executionInfo": {
     "elapsed": 7847,
     "status": "ok",
     "timestamp": 1582328283051,
     "user": {
      "displayName": "Barry Xu",
      "photoUrl": "https://lh3.googleusercontent.com/a-/AAuE7mCv_JJ8qVD2k4nC_2blPyboV_YF9xsN7_IF90zs=s64",
      "userId": "17926533693346679715"
     },
     "user_tz": 300
    },
    "id": "WelKmJhsFJSe",
    "outputId": "04a0440b-ff09-4a99-d998-ad60dbc931de"
   },
   "outputs": [
    {
     "name": "stdout",
     "output_type": "stream",
     "text": [
      "How long have you been writing code to analyze data (at work or at school)?\n"
     ]
    }
   ],
   "source": [
    "print(df_q.loc[0,'Q15'])\n",
    "Q15_encode = {\n",
    "    'I have never written code': 0,\n",
    "    '< 1 years' : 1,\n",
    "    '1-2 years': 2,\n",
    "    '3-5 years': 3,\n",
    "    '5-10 years': 4,\n",
    "    '10-20 years': 5,\n",
    "    '20+ years': 6\n",
    "}\n",
    "df.loc[:,'Q15'] = df.loc[:,'Q15'].map(Q15_encode)\n",
    "df.loc[:,'Q15'] = df.loc[:,'Q15'].astype(int)"
   ]
  },
  {
   "cell_type": "markdown",
   "metadata": {
    "colab_type": "text",
    "id": "UtZvViBvFJSj"
   },
   "source": [
    "Q22"
   ]
  },
  {
   "cell_type": "code",
   "execution_count": 47,
   "metadata": {
    "colab": {
     "base_uri": "https://localhost:8080/",
     "height": 0
    },
    "colab_type": "code",
    "executionInfo": {
     "elapsed": 7841,
     "status": "ok",
     "timestamp": 1582328283052,
     "user": {
      "displayName": "Barry Xu",
      "photoUrl": "https://lh3.googleusercontent.com/a-/AAuE7mCv_JJ8qVD2k4nC_2blPyboV_YF9xsN7_IF90zs=s64",
      "userId": "17926533693346679715"
     },
     "user_tz": 300
    },
    "id": "MZD82QcFFJSk",
    "outputId": "58e367f2-b6a4-4c9e-e181-62dc59f1530a"
   },
   "outputs": [
    {
     "data": {
      "text/plain": [
       "array(['Never', 'Once', '6-24 times', '2-5 times', '> 25 times'],\n",
       "      dtype=object)"
      ]
     },
     "execution_count": 47,
     "metadata": {},
     "output_type": "execute_result"
    }
   ],
   "source": [
    "df['Q22'].unique()"
   ]
  },
  {
   "cell_type": "code",
   "execution_count": 48,
   "metadata": {
    "colab": {
     "base_uri": "https://localhost:8080/",
     "height": 0
    },
    "colab_type": "code",
    "executionInfo": {
     "elapsed": 7835,
     "status": "ok",
     "timestamp": 1582328283052,
     "user": {
      "displayName": "Barry Xu",
      "photoUrl": "https://lh3.googleusercontent.com/a-/AAuE7mCv_JJ8qVD2k4nC_2blPyboV_YF9xsN7_IF90zs=s64",
      "userId": "17926533693346679715"
     },
     "user_tz": 300
    },
    "id": "Z7d31I7KFJSm",
    "outputId": "4da404d9-ab6a-45a1-aee1-3444e64d464f"
   },
   "outputs": [
    {
     "name": "stdout",
     "output_type": "stream",
     "text": [
      "Have you ever used a TPU (tensor processing unit)?\n"
     ]
    }
   ],
   "source": [
    "print(df_q.loc[0,'Q22'])\n",
    "Q22_encode = {\n",
    "    'Never': 0,\n",
    "    'Once': 1,\n",
    "    '2-5 times': 2,\n",
    "    '6-24 times' : 3,\n",
    "    '> 25 times': 4\n",
    "}\n",
    "df.loc[:,'Q22'] = df.loc[:,'Q22'].map(Q22_encode)\n",
    "df.loc[:,'Q22'] = df.loc[:,'Q22'].astype(int)"
   ]
  },
  {
   "cell_type": "markdown",
   "metadata": {
    "colab_type": "text",
    "id": "gzur0DOEFJSo"
   },
   "source": [
    "Q23"
   ]
  },
  {
   "cell_type": "code",
   "execution_count": 49,
   "metadata": {
    "colab": {
     "base_uri": "https://localhost:8080/",
     "height": 0
    },
    "colab_type": "code",
    "executionInfo": {
     "elapsed": 7782,
     "status": "ok",
     "timestamp": 1582328283052,
     "user": {
      "displayName": "Barry Xu",
      "photoUrl": "https://lh3.googleusercontent.com/a-/AAuE7mCv_JJ8qVD2k4nC_2blPyboV_YF9xsN7_IF90zs=s64",
      "userId": "17926533693346679715"
     },
     "user_tz": 300
    },
    "id": "Sy6mHdySFJSp",
    "outputId": "392c8f3d-5539-4eca-e2be-2ee26a3a8678"
   },
   "outputs": [
    {
     "data": {
      "text/plain": [
       "array(['1-2 years', '< 1 years', '2-3 years', '10-15 years', '3-4 years',\n",
       "       '4-5 years', '5-10 years', '20+ years'], dtype=object)"
      ]
     },
     "execution_count": 49,
     "metadata": {},
     "output_type": "execute_result"
    }
   ],
   "source": [
    "df['Q23'].unique()"
   ]
  },
  {
   "cell_type": "code",
   "execution_count": 50,
   "metadata": {
    "colab": {
     "base_uri": "https://localhost:8080/",
     "height": 0
    },
    "colab_type": "code",
    "executionInfo": {
     "elapsed": 7774,
     "status": "ok",
     "timestamp": 1582328283053,
     "user": {
      "displayName": "Barry Xu",
      "photoUrl": "https://lh3.googleusercontent.com/a-/AAuE7mCv_JJ8qVD2k4nC_2blPyboV_YF9xsN7_IF90zs=s64",
      "userId": "17926533693346679715"
     },
     "user_tz": 300
    },
    "id": "q9KGmQNsFJSr",
    "outputId": "92e5e829-7eb6-4039-b6b8-46045bc47d8b"
   },
   "outputs": [
    {
     "name": "stdout",
     "output_type": "stream",
     "text": [
      "For how many years have you used machine learning methods?\n"
     ]
    }
   ],
   "source": [
    "print(df_q.loc[0,'Q23'])\n",
    "Q23_encode = {\n",
    "    '< 1 years': 0,\n",
    "    '1-2 years': 1,\n",
    "    '2-3 years': 2,\n",
    "    '3-4 years': 3,\n",
    "    '4-5 years': 4,\n",
    "    '5-10 years': 5,\n",
    "    '10-15 years': 6,\n",
    "    '20+ years': 7\n",
    "}\n",
    "df.loc[:,'Q23'] = df.loc[:,'Q23'].map(Q23_encode)\n",
    "df.loc[:,'Q23'] = df.loc[:,'Q23'].astype(int)"
   ]
  },
  {
   "cell_type": "markdown",
   "metadata": {
    "colab_type": "text",
    "id": "UtDaLQMGFJSt"
   },
   "source": [
    "## Encoding Features without Missing Values"
   ]
  },
  {
   "cell_type": "markdown",
   "metadata": {},
   "source": [
    "        After dealing with features with missing values, I need to encode the features without any missing value. Same procedure will be followed for features without orders and with orders."
   ]
  },
  {
   "cell_type": "code",
   "execution_count": 51,
   "metadata": {
    "colab": {
     "base_uri": "https://localhost:8080/",
     "height": 0
    },
    "colab_type": "code",
    "executionInfo": {
     "elapsed": 8168,
     "status": "ok",
     "timestamp": 1582328283473,
     "user": {
      "displayName": "Barry Xu",
      "photoUrl": "https://lh3.googleusercontent.com/a-/AAuE7mCv_JJ8qVD2k4nC_2blPyboV_YF9xsN7_IF90zs=s64",
      "userId": "17926533693346679715"
     },
     "user_tz": 300
    },
    "id": "UnTjpn91FJSu",
    "outputId": "4d9156d6-82ab-4ff1-92d8-33a1434bf573",
    "scrolled": true
   },
   "outputs": [
    {
     "data": {
      "text/html": [
       "<div>\n",
       "<style scoped>\n",
       "    .dataframe tbody tr th:only-of-type {\n",
       "        vertical-align: middle;\n",
       "    }\n",
       "\n",
       "    .dataframe tbody tr th {\n",
       "        vertical-align: top;\n",
       "    }\n",
       "\n",
       "    .dataframe thead th {\n",
       "        text-align: right;\n",
       "    }\n",
       "</style>\n",
       "<table border=\"1\" class=\"dataframe\">\n",
       "  <thead>\n",
       "    <tr style=\"text-align: right;\">\n",
       "      <th></th>\n",
       "      <th>Time from Start to Finish (seconds)</th>\n",
       "      <th>Q1</th>\n",
       "      <th>Q2</th>\n",
       "      <th>Q3</th>\n",
       "      <th>Q4</th>\n",
       "      <th>Q5</th>\n",
       "      <th>Q6</th>\n",
       "      <th>Q7</th>\n",
       "      <th>Q8</th>\n",
       "      <th>Q11</th>\n",
       "      <th>...</th>\n",
       "      <th>Q25</th>\n",
       "      <th>Q26</th>\n",
       "      <th>Q27</th>\n",
       "      <th>Q28</th>\n",
       "      <th>Q29</th>\n",
       "      <th>Q30</th>\n",
       "      <th>Q31</th>\n",
       "      <th>Q32</th>\n",
       "      <th>Q33</th>\n",
       "      <th>Q34</th>\n",
       "    </tr>\n",
       "  </thead>\n",
       "  <tbody>\n",
       "    <tr>\n",
       "      <td>0</td>\n",
       "      <td>510</td>\n",
       "      <td>22-24</td>\n",
       "      <td>Male</td>\n",
       "      <td>France</td>\n",
       "      <td>Master’s degree</td>\n",
       "      <td>Software Engineer</td>\n",
       "      <td>1000-9,999 employees</td>\n",
       "      <td>0</td>\n",
       "      <td>I do not know</td>\n",
       "      <td>0</td>\n",
       "      <td>...</td>\n",
       "      <td>1</td>\n",
       "      <td>0</td>\n",
       "      <td>0</td>\n",
       "      <td>1</td>\n",
       "      <td>0</td>\n",
       "      <td>0</td>\n",
       "      <td>0</td>\n",
       "      <td>0</td>\n",
       "      <td>0</td>\n",
       "      <td>0</td>\n",
       "    </tr>\n",
       "    <tr>\n",
       "      <td>1</td>\n",
       "      <td>423</td>\n",
       "      <td>40-44</td>\n",
       "      <td>Male</td>\n",
       "      <td>India</td>\n",
       "      <td>Professional degree</td>\n",
       "      <td>Software Engineer</td>\n",
       "      <td>&gt; 10,000 employees</td>\n",
       "      <td>20+</td>\n",
       "      <td>We have well established ML methods (i.e., mod...</td>\n",
       "      <td>5</td>\n",
       "      <td>...</td>\n",
       "      <td>0</td>\n",
       "      <td>0</td>\n",
       "      <td>0</td>\n",
       "      <td>0</td>\n",
       "      <td>0</td>\n",
       "      <td>0</td>\n",
       "      <td>0</td>\n",
       "      <td>0</td>\n",
       "      <td>0</td>\n",
       "      <td>0</td>\n",
       "    </tr>\n",
       "    <tr>\n",
       "      <td>2</td>\n",
       "      <td>391</td>\n",
       "      <td>40-44</td>\n",
       "      <td>Male</td>\n",
       "      <td>Australia</td>\n",
       "      <td>Master’s degree</td>\n",
       "      <td>Other</td>\n",
       "      <td>&gt; 10,000 employees</td>\n",
       "      <td>20+</td>\n",
       "      <td>I do not know</td>\n",
       "      <td>4</td>\n",
       "      <td>...</td>\n",
       "      <td>1</td>\n",
       "      <td>2</td>\n",
       "      <td>0</td>\n",
       "      <td>4</td>\n",
       "      <td>1</td>\n",
       "      <td>2</td>\n",
       "      <td>2</td>\n",
       "      <td>1</td>\n",
       "      <td>1</td>\n",
       "      <td>1</td>\n",
       "    </tr>\n",
       "    <tr>\n",
       "      <td>3</td>\n",
       "      <td>392</td>\n",
       "      <td>22-24</td>\n",
       "      <td>Male</td>\n",
       "      <td>India</td>\n",
       "      <td>Bachelor’s degree</td>\n",
       "      <td>Other</td>\n",
       "      <td>0-49 employees</td>\n",
       "      <td>0</td>\n",
       "      <td>No (we do not use ML methods)</td>\n",
       "      <td>0</td>\n",
       "      <td>...</td>\n",
       "      <td>1</td>\n",
       "      <td>0</td>\n",
       "      <td>0</td>\n",
       "      <td>4</td>\n",
       "      <td>0</td>\n",
       "      <td>0</td>\n",
       "      <td>0</td>\n",
       "      <td>0</td>\n",
       "      <td>0</td>\n",
       "      <td>0</td>\n",
       "    </tr>\n",
       "    <tr>\n",
       "      <td>4</td>\n",
       "      <td>470</td>\n",
       "      <td>50-54</td>\n",
       "      <td>Male</td>\n",
       "      <td>France</td>\n",
       "      <td>Master’s degree</td>\n",
       "      <td>Data Scientist</td>\n",
       "      <td>0-49 employees</td>\n",
       "      <td>3-4</td>\n",
       "      <td>We have well established ML methods (i.e., mod...</td>\n",
       "      <td>4</td>\n",
       "      <td>...</td>\n",
       "      <td>3</td>\n",
       "      <td>1</td>\n",
       "      <td>2</td>\n",
       "      <td>6</td>\n",
       "      <td>1</td>\n",
       "      <td>1</td>\n",
       "      <td>1</td>\n",
       "      <td>1</td>\n",
       "      <td>1</td>\n",
       "      <td>2</td>\n",
       "    </tr>\n",
       "  </tbody>\n",
       "</table>\n",
       "<p>5 rows × 34 columns</p>\n",
       "</div>"
      ],
      "text/plain": [
       "   Time from Start to Finish (seconds)     Q1    Q2         Q3  \\\n",
       "0                                  510  22-24  Male     France   \n",
       "1                                  423  40-44  Male      India   \n",
       "2                                  391  40-44  Male  Australia   \n",
       "3                                  392  22-24  Male      India   \n",
       "4                                  470  50-54  Male     France   \n",
       "\n",
       "                    Q4                 Q5                    Q6   Q7  \\\n",
       "0      Master’s degree  Software Engineer  1000-9,999 employees    0   \n",
       "1  Professional degree  Software Engineer    > 10,000 employees  20+   \n",
       "2      Master’s degree              Other    > 10,000 employees  20+   \n",
       "3    Bachelor’s degree              Other        0-49 employees    0   \n",
       "4      Master’s degree     Data Scientist        0-49 employees  3-4   \n",
       "\n",
       "                                                  Q8  Q11  ...  Q25  Q26  Q27  \\\n",
       "0                                      I do not know    0  ...    1    0    0   \n",
       "1  We have well established ML methods (i.e., mod...    5  ...    0    0    0   \n",
       "2                                      I do not know    4  ...    1    2    0   \n",
       "3                      No (we do not use ML methods)    0  ...    1    0    0   \n",
       "4  We have well established ML methods (i.e., mod...    4  ...    3    1    2   \n",
       "\n",
       "   Q28  Q29  Q30  Q31  Q32  Q33  Q34  \n",
       "0    1    0    0    0    0    0    0  \n",
       "1    0    0    0    0    0    0    0  \n",
       "2    4    1    2    2    1    1    1  \n",
       "3    4    0    0    0    0    0    0  \n",
       "4    6    1    1    1    1    1    2  \n",
       "\n",
       "[5 rows x 34 columns]"
      ]
     },
     "execution_count": 51,
     "metadata": {},
     "output_type": "execute_result"
    }
   ],
   "source": [
    "df.head()"
   ]
  },
  {
   "cell_type": "code",
   "execution_count": 52,
   "metadata": {
    "scrolled": true
   },
   "outputs": [
    {
     "data": {
      "text/plain": [
       "Time from Start to Finish (seconds)    0\n",
       "Q1                                     0\n",
       "Q2                                     0\n",
       "Q3                                     0\n",
       "Q4                                     0\n",
       "Q5                                     0\n",
       "Q6                                     0\n",
       "Q7                                     0\n",
       "Q8                                     0\n",
       "Q11                                    0\n",
       "Q14                                    0\n",
       "Q15                                    0\n",
       "Q19                                    0\n",
       "Q22                                    0\n",
       "Q23                                    0\n",
       "Q9                                     0\n",
       "Q12                                    0\n",
       "Q13                                    0\n",
       "Q16                                    0\n",
       "Q17                                    0\n",
       "Q18                                    0\n",
       "Q20                                    0\n",
       "Q21                                    0\n",
       "Q24                                    0\n",
       "Q25                                    0\n",
       "Q26                                    0\n",
       "Q27                                    0\n",
       "Q28                                    0\n",
       "Q29                                    0\n",
       "Q30                                    0\n",
       "Q31                                    0\n",
       "Q32                                    0\n",
       "Q33                                    0\n",
       "Q34                                    0\n",
       "dtype: int64"
      ]
     },
     "execution_count": 52,
     "metadata": {},
     "output_type": "execute_result"
    }
   ],
   "source": [
    "df.isna().sum()"
   ]
  },
  {
   "cell_type": "markdown",
   "metadata": {
    "colab_type": "text",
    "id": "IVkvvQ3BFJSw"
   },
   "source": [
    "### Features Without Missing Values But With Orders"
   ]
  },
  {
   "cell_type": "markdown",
   "metadata": {
    "colab_type": "text",
    "id": "ANwGLdHAFJSx"
   },
   "source": [
    "Q6"
   ]
  },
  {
   "cell_type": "code",
   "execution_count": 53,
   "metadata": {
    "colab": {
     "base_uri": "https://localhost:8080/",
     "height": 0
    },
    "colab_type": "code",
    "executionInfo": {
     "elapsed": 8159,
     "status": "ok",
     "timestamp": 1582328283473,
     "user": {
      "displayName": "Barry Xu",
      "photoUrl": "https://lh3.googleusercontent.com/a-/AAuE7mCv_JJ8qVD2k4nC_2blPyboV_YF9xsN7_IF90zs=s64",
      "userId": "17926533693346679715"
     },
     "user_tz": 300
    },
    "id": "VMAV4VE0FJSz",
    "outputId": "e1892cec-0f5a-4f88-eddf-eee1d189d8e8"
   },
   "outputs": [
    {
     "data": {
      "text/plain": [
       "array(['1000-9,999 employees', '> 10,000 employees', '0-49 employees',\n",
       "       '50-249 employees', '250-999 employees'], dtype=object)"
      ]
     },
     "execution_count": 53,
     "metadata": {},
     "output_type": "execute_result"
    }
   ],
   "source": [
    "df['Q6'].unique()"
   ]
  },
  {
   "cell_type": "code",
   "execution_count": 54,
   "metadata": {
    "colab": {
     "base_uri": "https://localhost:8080/",
     "height": 0
    },
    "colab_type": "code",
    "executionInfo": {
     "elapsed": 8112,
     "status": "ok",
     "timestamp": 1582328283474,
     "user": {
      "displayName": "Barry Xu",
      "photoUrl": "https://lh3.googleusercontent.com/a-/AAuE7mCv_JJ8qVD2k4nC_2blPyboV_YF9xsN7_IF90zs=s64",
      "userId": "17926533693346679715"
     },
     "user_tz": 300
    },
    "id": "Nlmc5Q1sFJS2",
    "outputId": "1827ef71-5cb4-4d11-957c-e9effcf1c295"
   },
   "outputs": [
    {
     "name": "stdout",
     "output_type": "stream",
     "text": [
      "What is the size of the company where you are employed?\n"
     ]
    }
   ],
   "source": [
    "print(df_q.loc[0,'Q6'])\n",
    "Q6_encode = {\n",
    "    '0-49 employees': 0,\n",
    "    '50-249 employees': 1,\n",
    "    '250-999 employees': 2,\n",
    "    '1000-9,999 employees': 3,\n",
    "    '> 10,000 employees': 4\n",
    "}\n",
    "df.loc[:,'Q6'] = df.loc[:,'Q6'].map(Q6_encode)\n",
    "df.loc[:,'Q6'] = df.loc[:,'Q6'].astype(int)"
   ]
  },
  {
   "cell_type": "markdown",
   "metadata": {
    "colab_type": "text",
    "id": "1FYjuhIqFJS4"
   },
   "source": [
    "Q7"
   ]
  },
  {
   "cell_type": "code",
   "execution_count": 55,
   "metadata": {
    "colab": {
     "base_uri": "https://localhost:8080/",
     "height": 0
    },
    "colab_type": "code",
    "executionInfo": {
     "elapsed": 8100,
     "status": "ok",
     "timestamp": 1582328283474,
     "user": {
      "displayName": "Barry Xu",
      "photoUrl": "https://lh3.googleusercontent.com/a-/AAuE7mCv_JJ8qVD2k4nC_2blPyboV_YF9xsN7_IF90zs=s64",
      "userId": "17926533693346679715"
     },
     "user_tz": 300
    },
    "id": "Z1EytPT8FJS5",
    "outputId": "fa235537-3f34-4362-8257-70724fbf9ff0"
   },
   "outputs": [
    {
     "data": {
      "text/plain": [
       "array(['0', '20+', '3-4', '1-2', '5-9', '10-14', '15-19'], dtype=object)"
      ]
     },
     "execution_count": 55,
     "metadata": {},
     "output_type": "execute_result"
    }
   ],
   "source": [
    "df['Q7'].unique()"
   ]
  },
  {
   "cell_type": "code",
   "execution_count": 56,
   "metadata": {
    "colab": {
     "base_uri": "https://localhost:8080/",
     "height": 0
    },
    "colab_type": "code",
    "executionInfo": {
     "elapsed": 8093,
     "status": "ok",
     "timestamp": 1582328283474,
     "user": {
      "displayName": "Barry Xu",
      "photoUrl": "https://lh3.googleusercontent.com/a-/AAuE7mCv_JJ8qVD2k4nC_2blPyboV_YF9xsN7_IF90zs=s64",
      "userId": "17926533693346679715"
     },
     "user_tz": 300
    },
    "id": "KkCeQ7BoFJS7",
    "outputId": "6043ccf7-babd-4a85-e4fc-d4728a697b8f"
   },
   "outputs": [
    {
     "name": "stdout",
     "output_type": "stream",
     "text": [
      "Approximately how many individuals are responsible for data science workloads at your place of business?\n"
     ]
    }
   ],
   "source": [
    "print(df_q.loc[0,'Q7'])\n",
    "Q7_encode = {\n",
    "    '0': 0,\n",
    "    '1-2': 1,\n",
    "    '3-4': 2,\n",
    "    '5-9': 3,\n",
    "    '10-14': 4,\n",
    "    '15-19': 5,\n",
    "    '20+': 6\n",
    "}\n",
    "df.loc[:,'Q7'] = df.loc[:,'Q7'].map(Q7_encode)\n",
    "df.loc[:,'Q7'] = df.loc[:,'Q7'].astype(int)"
   ]
  },
  {
   "cell_type": "markdown",
   "metadata": {
    "colab_type": "text",
    "id": "cLvYsFsuFJS-"
   },
   "source": [
    "### Features Without Missing Values and Orders"
   ]
  },
  {
   "cell_type": "code",
   "execution_count": 57,
   "metadata": {
    "colab": {},
    "colab_type": "code",
    "id": "FPvmWoqhFJS_"
   },
   "outputs": [],
   "source": [
    "feature_left = ['Q1','Q2','Q3','Q4','Q5','Q8']"
   ]
  },
  {
   "cell_type": "code",
   "execution_count": 58,
   "metadata": {},
   "outputs": [
    {
     "data": {
      "text/html": [
       "<div>\n",
       "<style scoped>\n",
       "    .dataframe tbody tr th:only-of-type {\n",
       "        vertical-align: middle;\n",
       "    }\n",
       "\n",
       "    .dataframe tbody tr th {\n",
       "        vertical-align: top;\n",
       "    }\n",
       "\n",
       "    .dataframe thead th {\n",
       "        text-align: right;\n",
       "    }\n",
       "</style>\n",
       "<table border=\"1\" class=\"dataframe\">\n",
       "  <thead>\n",
       "    <tr style=\"text-align: right;\">\n",
       "      <th></th>\n",
       "      <th>Q1</th>\n",
       "      <th>Q2</th>\n",
       "      <th>Q3</th>\n",
       "      <th>Q4</th>\n",
       "      <th>Q5</th>\n",
       "      <th>Q8</th>\n",
       "    </tr>\n",
       "  </thead>\n",
       "  <tbody>\n",
       "    <tr>\n",
       "      <td>0</td>\n",
       "      <td>What is your age (# years)?</td>\n",
       "      <td>What is your gender? - Selected Choice</td>\n",
       "      <td>In which country do you currently reside?</td>\n",
       "      <td>What is the highest level of formal education ...</td>\n",
       "      <td>Select the title most similar to your current ...</td>\n",
       "      <td>Does your current employer incorporate machine...</td>\n",
       "    </tr>\n",
       "    <tr>\n",
       "      <td>1</td>\n",
       "      <td>22-24</td>\n",
       "      <td>Male</td>\n",
       "      <td>France</td>\n",
       "      <td>Master’s degree</td>\n",
       "      <td>Software Engineer</td>\n",
       "      <td>I do not know</td>\n",
       "    </tr>\n",
       "    <tr>\n",
       "      <td>2</td>\n",
       "      <td>40-44</td>\n",
       "      <td>Male</td>\n",
       "      <td>India</td>\n",
       "      <td>Professional degree</td>\n",
       "      <td>Software Engineer</td>\n",
       "      <td>We have well established ML methods (i.e., mod...</td>\n",
       "    </tr>\n",
       "    <tr>\n",
       "      <td>3</td>\n",
       "      <td>55-59</td>\n",
       "      <td>Female</td>\n",
       "      <td>Germany</td>\n",
       "      <td>Professional degree</td>\n",
       "      <td>NaN</td>\n",
       "      <td>NaN</td>\n",
       "    </tr>\n",
       "    <tr>\n",
       "      <td>4</td>\n",
       "      <td>40-44</td>\n",
       "      <td>Male</td>\n",
       "      <td>Australia</td>\n",
       "      <td>Master’s degree</td>\n",
       "      <td>Other</td>\n",
       "      <td>I do not know</td>\n",
       "    </tr>\n",
       "  </tbody>\n",
       "</table>\n",
       "</div>"
      ],
      "text/plain": [
       "                            Q1                                      Q2  \\\n",
       "0  What is your age (# years)?  What is your gender? - Selected Choice   \n",
       "1                        22-24                                    Male   \n",
       "2                        40-44                                    Male   \n",
       "3                        55-59                                  Female   \n",
       "4                        40-44                                    Male   \n",
       "\n",
       "                                          Q3  \\\n",
       "0  In which country do you currently reside?   \n",
       "1                                     France   \n",
       "2                                      India   \n",
       "3                                    Germany   \n",
       "4                                  Australia   \n",
       "\n",
       "                                                  Q4  \\\n",
       "0  What is the highest level of formal education ...   \n",
       "1                                    Master’s degree   \n",
       "2                                Professional degree   \n",
       "3                                Professional degree   \n",
       "4                                    Master’s degree   \n",
       "\n",
       "                                                  Q5  \\\n",
       "0  Select the title most similar to your current ...   \n",
       "1                                  Software Engineer   \n",
       "2                                  Software Engineer   \n",
       "3                                                NaN   \n",
       "4                                              Other   \n",
       "\n",
       "                                                  Q8  \n",
       "0  Does your current employer incorporate machine...  \n",
       "1                                      I do not know  \n",
       "2  We have well established ML methods (i.e., mod...  \n",
       "3                                                NaN  \n",
       "4                                      I do not know  "
      ]
     },
     "execution_count": 58,
     "metadata": {},
     "output_type": "execute_result"
    }
   ],
   "source": [
    "df_q[feature_left].head()"
   ]
  },
  {
   "cell_type": "code",
   "execution_count": 59,
   "metadata": {
    "colab": {},
    "colab_type": "code",
    "id": "qa52366wFJTA"
   },
   "outputs": [],
   "source": [
    "for col in feature_left:\n",
    "    df.loc[:,col] = df.loc[:,col].astype('category')\n",
    "    df.loc[:,col] = df.loc[:,col].cat.codes"
   ]
  },
  {
   "cell_type": "code",
   "execution_count": 60,
   "metadata": {
    "scrolled": true
   },
   "outputs": [
    {
     "data": {
      "text/html": [
       "<div>\n",
       "<style scoped>\n",
       "    .dataframe tbody tr th:only-of-type {\n",
       "        vertical-align: middle;\n",
       "    }\n",
       "\n",
       "    .dataframe tbody tr th {\n",
       "        vertical-align: top;\n",
       "    }\n",
       "\n",
       "    .dataframe thead th {\n",
       "        text-align: right;\n",
       "    }\n",
       "</style>\n",
       "<table border=\"1\" class=\"dataframe\">\n",
       "  <thead>\n",
       "    <tr style=\"text-align: right;\">\n",
       "      <th></th>\n",
       "      <th>Time from Start to Finish (seconds)</th>\n",
       "      <th>Q1</th>\n",
       "      <th>Q2</th>\n",
       "      <th>Q3</th>\n",
       "      <th>Q4</th>\n",
       "      <th>Q5</th>\n",
       "      <th>Q6</th>\n",
       "      <th>Q7</th>\n",
       "      <th>Q8</th>\n",
       "      <th>Q11</th>\n",
       "      <th>...</th>\n",
       "      <th>Q25</th>\n",
       "      <th>Q26</th>\n",
       "      <th>Q27</th>\n",
       "      <th>Q28</th>\n",
       "      <th>Q29</th>\n",
       "      <th>Q30</th>\n",
       "      <th>Q31</th>\n",
       "      <th>Q32</th>\n",
       "      <th>Q33</th>\n",
       "      <th>Q34</th>\n",
       "    </tr>\n",
       "  </thead>\n",
       "  <tbody>\n",
       "    <tr>\n",
       "      <td>0</td>\n",
       "      <td>510</td>\n",
       "      <td>1</td>\n",
       "      <td>1</td>\n",
       "      <td>15</td>\n",
       "      <td>3</td>\n",
       "      <td>8</td>\n",
       "      <td>3</td>\n",
       "      <td>0</td>\n",
       "      <td>0</td>\n",
       "      <td>0</td>\n",
       "      <td>...</td>\n",
       "      <td>1</td>\n",
       "      <td>0</td>\n",
       "      <td>0</td>\n",
       "      <td>1</td>\n",
       "      <td>0</td>\n",
       "      <td>0</td>\n",
       "      <td>0</td>\n",
       "      <td>0</td>\n",
       "      <td>0</td>\n",
       "      <td>0</td>\n",
       "    </tr>\n",
       "    <tr>\n",
       "      <td>1</td>\n",
       "      <td>423</td>\n",
       "      <td>5</td>\n",
       "      <td>1</td>\n",
       "      <td>20</td>\n",
       "      <td>5</td>\n",
       "      <td>8</td>\n",
       "      <td>4</td>\n",
       "      <td>6</td>\n",
       "      <td>3</td>\n",
       "      <td>5</td>\n",
       "      <td>...</td>\n",
       "      <td>0</td>\n",
       "      <td>0</td>\n",
       "      <td>0</td>\n",
       "      <td>0</td>\n",
       "      <td>0</td>\n",
       "      <td>0</td>\n",
       "      <td>0</td>\n",
       "      <td>0</td>\n",
       "      <td>0</td>\n",
       "      <td>0</td>\n",
       "    </tr>\n",
       "    <tr>\n",
       "      <td>2</td>\n",
       "      <td>391</td>\n",
       "      <td>5</td>\n",
       "      <td>1</td>\n",
       "      <td>2</td>\n",
       "      <td>3</td>\n",
       "      <td>5</td>\n",
       "      <td>4</td>\n",
       "      <td>6</td>\n",
       "      <td>0</td>\n",
       "      <td>4</td>\n",
       "      <td>...</td>\n",
       "      <td>1</td>\n",
       "      <td>2</td>\n",
       "      <td>0</td>\n",
       "      <td>4</td>\n",
       "      <td>1</td>\n",
       "      <td>2</td>\n",
       "      <td>2</td>\n",
       "      <td>1</td>\n",
       "      <td>1</td>\n",
       "      <td>1</td>\n",
       "    </tr>\n",
       "    <tr>\n",
       "      <td>3</td>\n",
       "      <td>392</td>\n",
       "      <td>1</td>\n",
       "      <td>1</td>\n",
       "      <td>20</td>\n",
       "      <td>0</td>\n",
       "      <td>5</td>\n",
       "      <td>0</td>\n",
       "      <td>0</td>\n",
       "      <td>1</td>\n",
       "      <td>0</td>\n",
       "      <td>...</td>\n",
       "      <td>1</td>\n",
       "      <td>0</td>\n",
       "      <td>0</td>\n",
       "      <td>4</td>\n",
       "      <td>0</td>\n",
       "      <td>0</td>\n",
       "      <td>0</td>\n",
       "      <td>0</td>\n",
       "      <td>0</td>\n",
       "      <td>0</td>\n",
       "    </tr>\n",
       "    <tr>\n",
       "      <td>4</td>\n",
       "      <td>470</td>\n",
       "      <td>7</td>\n",
       "      <td>1</td>\n",
       "      <td>15</td>\n",
       "      <td>3</td>\n",
       "      <td>4</td>\n",
       "      <td>0</td>\n",
       "      <td>2</td>\n",
       "      <td>3</td>\n",
       "      <td>4</td>\n",
       "      <td>...</td>\n",
       "      <td>3</td>\n",
       "      <td>1</td>\n",
       "      <td>2</td>\n",
       "      <td>6</td>\n",
       "      <td>1</td>\n",
       "      <td>1</td>\n",
       "      <td>1</td>\n",
       "      <td>1</td>\n",
       "      <td>1</td>\n",
       "      <td>2</td>\n",
       "    </tr>\n",
       "    <tr>\n",
       "      <td>...</td>\n",
       "      <td>...</td>\n",
       "      <td>...</td>\n",
       "      <td>...</td>\n",
       "      <td>...</td>\n",
       "      <td>...</td>\n",
       "      <td>...</td>\n",
       "      <td>...</td>\n",
       "      <td>...</td>\n",
       "      <td>...</td>\n",
       "      <td>...</td>\n",
       "      <td>...</td>\n",
       "      <td>...</td>\n",
       "      <td>...</td>\n",
       "      <td>...</td>\n",
       "      <td>...</td>\n",
       "      <td>...</td>\n",
       "      <td>...</td>\n",
       "      <td>...</td>\n",
       "      <td>...</td>\n",
       "      <td>...</td>\n",
       "      <td>...</td>\n",
       "    </tr>\n",
       "    <tr>\n",
       "      <td>12492</td>\n",
       "      <td>346</td>\n",
       "      <td>1</td>\n",
       "      <td>1</td>\n",
       "      <td>20</td>\n",
       "      <td>0</td>\n",
       "      <td>4</td>\n",
       "      <td>1</td>\n",
       "      <td>2</td>\n",
       "      <td>5</td>\n",
       "      <td>2</td>\n",
       "      <td>...</td>\n",
       "      <td>0</td>\n",
       "      <td>0</td>\n",
       "      <td>0</td>\n",
       "      <td>0</td>\n",
       "      <td>0</td>\n",
       "      <td>0</td>\n",
       "      <td>0</td>\n",
       "      <td>0</td>\n",
       "      <td>0</td>\n",
       "      <td>0</td>\n",
       "    </tr>\n",
       "    <tr>\n",
       "      <td>12493</td>\n",
       "      <td>88</td>\n",
       "      <td>2</td>\n",
       "      <td>2</td>\n",
       "      <td>3</td>\n",
       "      <td>4</td>\n",
       "      <td>4</td>\n",
       "      <td>2</td>\n",
       "      <td>1</td>\n",
       "      <td>5</td>\n",
       "      <td>0</td>\n",
       "      <td>...</td>\n",
       "      <td>0</td>\n",
       "      <td>0</td>\n",
       "      <td>0</td>\n",
       "      <td>0</td>\n",
       "      <td>0</td>\n",
       "      <td>0</td>\n",
       "      <td>0</td>\n",
       "      <td>0</td>\n",
       "      <td>0</td>\n",
       "      <td>0</td>\n",
       "    </tr>\n",
       "    <tr>\n",
       "      <td>12494</td>\n",
       "      <td>473</td>\n",
       "      <td>0</td>\n",
       "      <td>1</td>\n",
       "      <td>20</td>\n",
       "      <td>0</td>\n",
       "      <td>5</td>\n",
       "      <td>2</td>\n",
       "      <td>2</td>\n",
       "      <td>0</td>\n",
       "      <td>0</td>\n",
       "      <td>...</td>\n",
       "      <td>0</td>\n",
       "      <td>0</td>\n",
       "      <td>0</td>\n",
       "      <td>0</td>\n",
       "      <td>0</td>\n",
       "      <td>0</td>\n",
       "      <td>0</td>\n",
       "      <td>0</td>\n",
       "      <td>0</td>\n",
       "      <td>0</td>\n",
       "    </tr>\n",
       "    <tr>\n",
       "      <td>12495</td>\n",
       "      <td>176</td>\n",
       "      <td>2</td>\n",
       "      <td>1</td>\n",
       "      <td>20</td>\n",
       "      <td>3</td>\n",
       "      <td>9</td>\n",
       "      <td>1</td>\n",
       "      <td>5</td>\n",
       "      <td>4</td>\n",
       "      <td>0</td>\n",
       "      <td>...</td>\n",
       "      <td>0</td>\n",
       "      <td>0</td>\n",
       "      <td>0</td>\n",
       "      <td>0</td>\n",
       "      <td>0</td>\n",
       "      <td>0</td>\n",
       "      <td>0</td>\n",
       "      <td>0</td>\n",
       "      <td>0</td>\n",
       "      <td>0</td>\n",
       "    </tr>\n",
       "    <tr>\n",
       "      <td>12496</td>\n",
       "      <td>567</td>\n",
       "      <td>7</td>\n",
       "      <td>1</td>\n",
       "      <td>15</td>\n",
       "      <td>0</td>\n",
       "      <td>8</td>\n",
       "      <td>4</td>\n",
       "      <td>6</td>\n",
       "      <td>3</td>\n",
       "      <td>0</td>\n",
       "      <td>...</td>\n",
       "      <td>2</td>\n",
       "      <td>0</td>\n",
       "      <td>0</td>\n",
       "      <td>2</td>\n",
       "      <td>0</td>\n",
       "      <td>0</td>\n",
       "      <td>0</td>\n",
       "      <td>0</td>\n",
       "      <td>0</td>\n",
       "      <td>0</td>\n",
       "    </tr>\n",
       "  </tbody>\n",
       "</table>\n",
       "<p>12497 rows × 34 columns</p>\n",
       "</div>"
      ],
      "text/plain": [
       "       Time from Start to Finish (seconds)  Q1  Q2  Q3  Q4  Q5  Q6  Q7  Q8  \\\n",
       "0                                      510   1   1  15   3   8   3   0   0   \n",
       "1                                      423   5   1  20   5   8   4   6   3   \n",
       "2                                      391   5   1   2   3   5   4   6   0   \n",
       "3                                      392   1   1  20   0   5   0   0   1   \n",
       "4                                      470   7   1  15   3   4   0   2   3   \n",
       "...                                    ...  ..  ..  ..  ..  ..  ..  ..  ..   \n",
       "12492                                  346   1   1  20   0   4   1   2   5   \n",
       "12493                                   88   2   2   3   4   4   2   1   5   \n",
       "12494                                  473   0   1  20   0   5   2   2   0   \n",
       "12495                                  176   2   1  20   3   9   1   5   4   \n",
       "12496                                  567   7   1  15   0   8   4   6   3   \n",
       "\n",
       "       Q11  ...  Q25  Q26  Q27  Q28  Q29  Q30  Q31  Q32  Q33  Q34  \n",
       "0        0  ...    1    0    0    1    0    0    0    0    0    0  \n",
       "1        5  ...    0    0    0    0    0    0    0    0    0    0  \n",
       "2        4  ...    1    2    0    4    1    2    2    1    1    1  \n",
       "3        0  ...    1    0    0    4    0    0    0    0    0    0  \n",
       "4        4  ...    3    1    2    6    1    1    1    1    1    2  \n",
       "...    ...  ...  ...  ...  ...  ...  ...  ...  ...  ...  ...  ...  \n",
       "12492    2  ...    0    0    0    0    0    0    0    0    0    0  \n",
       "12493    0  ...    0    0    0    0    0    0    0    0    0    0  \n",
       "12494    0  ...    0    0    0    0    0    0    0    0    0    0  \n",
       "12495    0  ...    0    0    0    0    0    0    0    0    0    0  \n",
       "12496    0  ...    2    0    0    2    0    0    0    0    0    0  \n",
       "\n",
       "[12497 rows x 34 columns]"
      ]
     },
     "execution_count": 60,
     "metadata": {},
     "output_type": "execute_result"
    }
   ],
   "source": [
    "df"
   ]
  },
  {
   "cell_type": "code",
   "execution_count": 61,
   "metadata": {
    "colab": {},
    "colab_type": "code",
    "id": "dG_VL7hwFJTB"
   },
   "outputs": [],
   "source": [
    "# add labels to the end of dataframe\n",
    "df['Label'] = target"
   ]
  },
  {
   "cell_type": "code",
   "execution_count": 62,
   "metadata": {},
   "outputs": [],
   "source": [
    "# sort columns names for convenience\n",
    "col_names = ['Time from Start to Finish (seconds)', 'Q1', 'Q2', 'Q3', 'Q4', 'Q5','Q6', 'Q7', 'Q8','Q9','Q11','Q12','Q13',\n",
    "             'Q14', 'Q15','Q16', 'Q17', 'Q18','Q19','Q20', 'Q21','Q22', 'Q23','Q24', 'Q25', 'Q26', 'Q27','Q28','Q29', 'Q30',\n",
    "             'Q31', 'Q32', 'Q33', 'Q34', 'Label']"
   ]
  },
  {
   "cell_type": "code",
   "execution_count": 63,
   "metadata": {},
   "outputs": [
    {
     "data": {
      "text/html": [
       "<div>\n",
       "<style scoped>\n",
       "    .dataframe tbody tr th:only-of-type {\n",
       "        vertical-align: middle;\n",
       "    }\n",
       "\n",
       "    .dataframe tbody tr th {\n",
       "        vertical-align: top;\n",
       "    }\n",
       "\n",
       "    .dataframe thead th {\n",
       "        text-align: right;\n",
       "    }\n",
       "</style>\n",
       "<table border=\"1\" class=\"dataframe\">\n",
       "  <thead>\n",
       "    <tr style=\"text-align: right;\">\n",
       "      <th></th>\n",
       "      <th>Time from Start to Finish (seconds)</th>\n",
       "      <th>Q1</th>\n",
       "      <th>Q2</th>\n",
       "      <th>Q3</th>\n",
       "      <th>Q4</th>\n",
       "      <th>Q5</th>\n",
       "      <th>Q6</th>\n",
       "      <th>Q7</th>\n",
       "      <th>Q8</th>\n",
       "      <th>Q9</th>\n",
       "      <th>...</th>\n",
       "      <th>Q26</th>\n",
       "      <th>Q27</th>\n",
       "      <th>Q28</th>\n",
       "      <th>Q29</th>\n",
       "      <th>Q30</th>\n",
       "      <th>Q31</th>\n",
       "      <th>Q32</th>\n",
       "      <th>Q33</th>\n",
       "      <th>Q34</th>\n",
       "      <th>Label</th>\n",
       "    </tr>\n",
       "  </thead>\n",
       "  <tbody>\n",
       "    <tr>\n",
       "      <td>0</td>\n",
       "      <td>510</td>\n",
       "      <td>1</td>\n",
       "      <td>1</td>\n",
       "      <td>15</td>\n",
       "      <td>3</td>\n",
       "      <td>8</td>\n",
       "      <td>3</td>\n",
       "      <td>0</td>\n",
       "      <td>0</td>\n",
       "      <td>0</td>\n",
       "      <td>...</td>\n",
       "      <td>0</td>\n",
       "      <td>0</td>\n",
       "      <td>1</td>\n",
       "      <td>0</td>\n",
       "      <td>0</td>\n",
       "      <td>0</td>\n",
       "      <td>0</td>\n",
       "      <td>0</td>\n",
       "      <td>0</td>\n",
       "      <td>3</td>\n",
       "    </tr>\n",
       "    <tr>\n",
       "      <td>1</td>\n",
       "      <td>423</td>\n",
       "      <td>5</td>\n",
       "      <td>1</td>\n",
       "      <td>20</td>\n",
       "      <td>5</td>\n",
       "      <td>8</td>\n",
       "      <td>4</td>\n",
       "      <td>6</td>\n",
       "      <td>3</td>\n",
       "      <td>5</td>\n",
       "      <td>...</td>\n",
       "      <td>0</td>\n",
       "      <td>0</td>\n",
       "      <td>0</td>\n",
       "      <td>0</td>\n",
       "      <td>0</td>\n",
       "      <td>0</td>\n",
       "      <td>0</td>\n",
       "      <td>0</td>\n",
       "      <td>0</td>\n",
       "      <td>0</td>\n",
       "    </tr>\n",
       "    <tr>\n",
       "      <td>2</td>\n",
       "      <td>391</td>\n",
       "      <td>5</td>\n",
       "      <td>1</td>\n",
       "      <td>2</td>\n",
       "      <td>3</td>\n",
       "      <td>5</td>\n",
       "      <td>4</td>\n",
       "      <td>6</td>\n",
       "      <td>0</td>\n",
       "      <td>4</td>\n",
       "      <td>...</td>\n",
       "      <td>2</td>\n",
       "      <td>0</td>\n",
       "      <td>4</td>\n",
       "      <td>1</td>\n",
       "      <td>2</td>\n",
       "      <td>2</td>\n",
       "      <td>1</td>\n",
       "      <td>1</td>\n",
       "      <td>1</td>\n",
       "      <td>14</td>\n",
       "    </tr>\n",
       "    <tr>\n",
       "      <td>3</td>\n",
       "      <td>392</td>\n",
       "      <td>1</td>\n",
       "      <td>1</td>\n",
       "      <td>20</td>\n",
       "      <td>0</td>\n",
       "      <td>5</td>\n",
       "      <td>0</td>\n",
       "      <td>0</td>\n",
       "      <td>1</td>\n",
       "      <td>0</td>\n",
       "      <td>...</td>\n",
       "      <td>0</td>\n",
       "      <td>0</td>\n",
       "      <td>4</td>\n",
       "      <td>0</td>\n",
       "      <td>0</td>\n",
       "      <td>0</td>\n",
       "      <td>0</td>\n",
       "      <td>0</td>\n",
       "      <td>0</td>\n",
       "      <td>0</td>\n",
       "    </tr>\n",
       "    <tr>\n",
       "      <td>4</td>\n",
       "      <td>470</td>\n",
       "      <td>7</td>\n",
       "      <td>1</td>\n",
       "      <td>15</td>\n",
       "      <td>3</td>\n",
       "      <td>4</td>\n",
       "      <td>0</td>\n",
       "      <td>2</td>\n",
       "      <td>3</td>\n",
       "      <td>4</td>\n",
       "      <td>...</td>\n",
       "      <td>1</td>\n",
       "      <td>2</td>\n",
       "      <td>6</td>\n",
       "      <td>1</td>\n",
       "      <td>1</td>\n",
       "      <td>1</td>\n",
       "      <td>1</td>\n",
       "      <td>1</td>\n",
       "      <td>2</td>\n",
       "      <td>6</td>\n",
       "    </tr>\n",
       "  </tbody>\n",
       "</table>\n",
       "<p>5 rows × 35 columns</p>\n",
       "</div>"
      ],
      "text/plain": [
       "   Time from Start to Finish (seconds)  Q1  Q2  Q3  Q4  Q5  Q6  Q7  Q8  Q9  \\\n",
       "0                                  510   1   1  15   3   8   3   0   0   0   \n",
       "1                                  423   5   1  20   5   8   4   6   3   5   \n",
       "2                                  391   5   1   2   3   5   4   6   0   4   \n",
       "3                                  392   1   1  20   0   5   0   0   1   0   \n",
       "4                                  470   7   1  15   3   4   0   2   3   4   \n",
       "\n",
       "   ...  Q26  Q27  Q28  Q29  Q30  Q31  Q32  Q33  Q34  Label  \n",
       "0  ...    0    0    1    0    0    0    0    0    0      3  \n",
       "1  ...    0    0    0    0    0    0    0    0    0      0  \n",
       "2  ...    2    0    4    1    2    2    1    1    1     14  \n",
       "3  ...    0    0    4    0    0    0    0    0    0      0  \n",
       "4  ...    1    2    6    1    1    1    1    1    2      6  \n",
       "\n",
       "[5 rows x 35 columns]"
      ]
     },
     "execution_count": 63,
     "metadata": {},
     "output_type": "execute_result"
    }
   ],
   "source": [
    "df.columns = col_names\n",
    "df.head()"
   ]
  },
  {
   "cell_type": "markdown",
   "metadata": {
    "colab_type": "text",
    "id": "cCXJwpiaFJTF"
   },
   "source": [
    "### Adding Column Names for Better Understanding"
   ]
  },
  {
   "cell_type": "markdown",
   "metadata": {},
   "source": [
    "        All column names are summarized based on the questions being asked in the survey for easier understanding."
   ]
  },
  {
   "cell_type": "code",
   "execution_count": 64,
   "metadata": {
    "colab": {},
    "colab_type": "code",
    "id": "J47qMZb_FJTM"
   },
   "outputs": [],
   "source": [
    "col_sub = ['duration','age','gender','country','education','title','company_size','number_of_worker','ML','activity',\n",
    "           'Money_spent','media_source','study_platform','primary_tool','experience','IDEs','Notebook','language_using',\n",
    "           'recom_language','data_visual','hardwares','TPU','ML_experience','algorithms','ML_tools','vision_cate','NLP',\n",
    "           'ML_frame','CC_platform','CC_prod','bigdata_prod','ML_prod','autoML','database','Labels']"
   ]
  },
  {
   "cell_type": "code",
   "execution_count": 65,
   "metadata": {
    "colab": {},
    "colab_type": "code",
    "id": "5cYz8R45FJTN"
   },
   "outputs": [
    {
     "data": {
      "text/plain": [
       "(12497, 35)"
      ]
     },
     "execution_count": 65,
     "metadata": {},
     "output_type": "execute_result"
    }
   ],
   "source": [
    "df.columns = col_sub\n",
    "df.shape"
   ]
  },
  {
   "cell_type": "code",
   "execution_count": 66,
   "metadata": {
    "colab": {
     "base_uri": "https://localhost:8080/",
     "height": 0
    },
    "colab_type": "code",
    "executionInfo": {
     "elapsed": 8036,
     "status": "ok",
     "timestamp": 1582328283612,
     "user": {
      "displayName": "Barry Xu",
      "photoUrl": "https://lh3.googleusercontent.com/a-/AAuE7mCv_JJ8qVD2k4nC_2blPyboV_YF9xsN7_IF90zs=s64",
      "userId": "17926533693346679715"
     },
     "user_tz": 300
    },
    "id": "IdSrPLUgFJTP",
    "outputId": "f73d36a1-a594-4d7e-e480-7a82842a86f0"
   },
   "outputs": [
    {
     "data": {
      "text/html": [
       "<div>\n",
       "<style scoped>\n",
       "    .dataframe tbody tr th:only-of-type {\n",
       "        vertical-align: middle;\n",
       "    }\n",
       "\n",
       "    .dataframe tbody tr th {\n",
       "        vertical-align: top;\n",
       "    }\n",
       "\n",
       "    .dataframe thead th {\n",
       "        text-align: right;\n",
       "    }\n",
       "</style>\n",
       "<table border=\"1\" class=\"dataframe\">\n",
       "  <thead>\n",
       "    <tr style=\"text-align: right;\">\n",
       "      <th></th>\n",
       "      <th>duration</th>\n",
       "      <th>age</th>\n",
       "      <th>gender</th>\n",
       "      <th>country</th>\n",
       "      <th>education</th>\n",
       "      <th>title</th>\n",
       "      <th>company_size</th>\n",
       "      <th>number_of_worker</th>\n",
       "      <th>ML</th>\n",
       "      <th>activity</th>\n",
       "      <th>...</th>\n",
       "      <th>vision_cate</th>\n",
       "      <th>NLP</th>\n",
       "      <th>ML_frame</th>\n",
       "      <th>CC_platform</th>\n",
       "      <th>CC_prod</th>\n",
       "      <th>bigdata_prod</th>\n",
       "      <th>ML_prod</th>\n",
       "      <th>autoML</th>\n",
       "      <th>database</th>\n",
       "      <th>Labels</th>\n",
       "    </tr>\n",
       "  </thead>\n",
       "  <tbody>\n",
       "    <tr>\n",
       "      <td>0</td>\n",
       "      <td>510</td>\n",
       "      <td>1</td>\n",
       "      <td>1</td>\n",
       "      <td>15</td>\n",
       "      <td>3</td>\n",
       "      <td>8</td>\n",
       "      <td>3</td>\n",
       "      <td>0</td>\n",
       "      <td>0</td>\n",
       "      <td>0</td>\n",
       "      <td>...</td>\n",
       "      <td>0</td>\n",
       "      <td>0</td>\n",
       "      <td>1</td>\n",
       "      <td>0</td>\n",
       "      <td>0</td>\n",
       "      <td>0</td>\n",
       "      <td>0</td>\n",
       "      <td>0</td>\n",
       "      <td>0</td>\n",
       "      <td>3</td>\n",
       "    </tr>\n",
       "    <tr>\n",
       "      <td>1</td>\n",
       "      <td>423</td>\n",
       "      <td>5</td>\n",
       "      <td>1</td>\n",
       "      <td>20</td>\n",
       "      <td>5</td>\n",
       "      <td>8</td>\n",
       "      <td>4</td>\n",
       "      <td>6</td>\n",
       "      <td>3</td>\n",
       "      <td>5</td>\n",
       "      <td>...</td>\n",
       "      <td>0</td>\n",
       "      <td>0</td>\n",
       "      <td>0</td>\n",
       "      <td>0</td>\n",
       "      <td>0</td>\n",
       "      <td>0</td>\n",
       "      <td>0</td>\n",
       "      <td>0</td>\n",
       "      <td>0</td>\n",
       "      <td>0</td>\n",
       "    </tr>\n",
       "    <tr>\n",
       "      <td>2</td>\n",
       "      <td>391</td>\n",
       "      <td>5</td>\n",
       "      <td>1</td>\n",
       "      <td>2</td>\n",
       "      <td>3</td>\n",
       "      <td>5</td>\n",
       "      <td>4</td>\n",
       "      <td>6</td>\n",
       "      <td>0</td>\n",
       "      <td>4</td>\n",
       "      <td>...</td>\n",
       "      <td>2</td>\n",
       "      <td>0</td>\n",
       "      <td>4</td>\n",
       "      <td>1</td>\n",
       "      <td>2</td>\n",
       "      <td>2</td>\n",
       "      <td>1</td>\n",
       "      <td>1</td>\n",
       "      <td>1</td>\n",
       "      <td>14</td>\n",
       "    </tr>\n",
       "    <tr>\n",
       "      <td>3</td>\n",
       "      <td>392</td>\n",
       "      <td>1</td>\n",
       "      <td>1</td>\n",
       "      <td>20</td>\n",
       "      <td>0</td>\n",
       "      <td>5</td>\n",
       "      <td>0</td>\n",
       "      <td>0</td>\n",
       "      <td>1</td>\n",
       "      <td>0</td>\n",
       "      <td>...</td>\n",
       "      <td>0</td>\n",
       "      <td>0</td>\n",
       "      <td>4</td>\n",
       "      <td>0</td>\n",
       "      <td>0</td>\n",
       "      <td>0</td>\n",
       "      <td>0</td>\n",
       "      <td>0</td>\n",
       "      <td>0</td>\n",
       "      <td>0</td>\n",
       "    </tr>\n",
       "    <tr>\n",
       "      <td>4</td>\n",
       "      <td>470</td>\n",
       "      <td>7</td>\n",
       "      <td>1</td>\n",
       "      <td>15</td>\n",
       "      <td>3</td>\n",
       "      <td>4</td>\n",
       "      <td>0</td>\n",
       "      <td>2</td>\n",
       "      <td>3</td>\n",
       "      <td>4</td>\n",
       "      <td>...</td>\n",
       "      <td>1</td>\n",
       "      <td>2</td>\n",
       "      <td>6</td>\n",
       "      <td>1</td>\n",
       "      <td>1</td>\n",
       "      <td>1</td>\n",
       "      <td>1</td>\n",
       "      <td>1</td>\n",
       "      <td>2</td>\n",
       "      <td>6</td>\n",
       "    </tr>\n",
       "  </tbody>\n",
       "</table>\n",
       "<p>5 rows × 35 columns</p>\n",
       "</div>"
      ],
      "text/plain": [
       "   duration  age  gender  country  education  title  company_size  \\\n",
       "0       510    1       1       15          3      8             3   \n",
       "1       423    5       1       20          5      8             4   \n",
       "2       391    5       1        2          3      5             4   \n",
       "3       392    1       1       20          0      5             0   \n",
       "4       470    7       1       15          3      4             0   \n",
       "\n",
       "   number_of_worker  ML  activity  ...  vision_cate  NLP  ML_frame  \\\n",
       "0                 0   0         0  ...            0    0         1   \n",
       "1                 6   3         5  ...            0    0         0   \n",
       "2                 6   0         4  ...            2    0         4   \n",
       "3                 0   1         0  ...            0    0         4   \n",
       "4                 2   3         4  ...            1    2         6   \n",
       "\n",
       "   CC_platform  CC_prod  bigdata_prod  ML_prod  autoML  database  Labels  \n",
       "0            0        0             0        0       0         0       3  \n",
       "1            0        0             0        0       0         0       0  \n",
       "2            1        2             2        1       1         1      14  \n",
       "3            0        0             0        0       0         0       0  \n",
       "4            1        1             1        1       1         2       6  \n",
       "\n",
       "[5 rows x 35 columns]"
      ]
     },
     "execution_count": 66,
     "metadata": {},
     "output_type": "execute_result"
    }
   ],
   "source": [
    "df.head()"
   ]
  },
  {
   "cell_type": "markdown",
   "metadata": {},
   "source": [
    "# 2. Exploratory Data Analysis"
   ]
  },
  {
   "cell_type": "markdown",
   "metadata": {
    "colab_type": "text",
    "id": "-8yUGNQzFJTS"
   },
   "source": [
    "    * Three Data Visualizations\n",
    "            * Countries vs. Yearly Compensation\n",
    "            * Age vs. Yearly Compensation\n",
    "            * Level of Educations vs. Yearly Compensation\n",
    "    * Feature Importance\n",
    "            * Correlation Plot by Heatmap"
   ]
  },
  {
   "cell_type": "markdown",
   "metadata": {
    "colab_type": "text",
    "id": "08IMpy7pFJTT"
   },
   "source": [
    "### Three Data Visualizations"
   ]
  },
  {
   "cell_type": "code",
   "execution_count": 67,
   "metadata": {
    "colab": {
     "base_uri": "https://localhost:8080/",
     "height": 0
    },
    "colab_type": "code",
    "executionInfo": {
     "elapsed": 8554,
     "status": "ok",
     "timestamp": 1582328284146,
     "user": {
      "displayName": "Barry Xu",
      "photoUrl": "https://lh3.googleusercontent.com/a-/AAuE7mCv_JJ8qVD2k4nC_2blPyboV_YF9xsN7_IF90zs=s64",
      "userId": "17926533693346679715"
     },
     "user_tz": 300
    },
    "id": "CW0NVaYOFJTT",
    "outputId": "1b1a39c9-7d6b-4ae5-bdff-d4cef653f8d6",
    "scrolled": true
   },
   "outputs": [
    {
     "data": {
      "text/html": [
       "<div>\n",
       "<style scoped>\n",
       "    .dataframe tbody tr th:only-of-type {\n",
       "        vertical-align: middle;\n",
       "    }\n",
       "\n",
       "    .dataframe tbody tr th {\n",
       "        vertical-align: top;\n",
       "    }\n",
       "\n",
       "    .dataframe thead th {\n",
       "        text-align: right;\n",
       "    }\n",
       "</style>\n",
       "<table border=\"1\" class=\"dataframe\">\n",
       "  <thead>\n",
       "    <tr style=\"text-align: right;\">\n",
       "      <th></th>\n",
       "      <th>Time from Start to Finish (seconds)</th>\n",
       "      <th>Q1</th>\n",
       "      <th>Q2</th>\n",
       "      <th>Q2_OTHER_TEXT</th>\n",
       "      <th>Q3</th>\n",
       "      <th>Q4</th>\n",
       "      <th>Q5</th>\n",
       "      <th>Q5_OTHER_TEXT</th>\n",
       "      <th>Q6</th>\n",
       "      <th>Q7</th>\n",
       "      <th>...</th>\n",
       "      <th>Q34_Part_6</th>\n",
       "      <th>Q34_Part_7</th>\n",
       "      <th>Q34_Part_8</th>\n",
       "      <th>Q34_Part_9</th>\n",
       "      <th>Q34_Part_10</th>\n",
       "      <th>Q34_Part_11</th>\n",
       "      <th>Q34_Part_12</th>\n",
       "      <th>Q34_OTHER_TEXT</th>\n",
       "      <th>Q10_Encoded</th>\n",
       "      <th>Q10_buckets</th>\n",
       "    </tr>\n",
       "  </thead>\n",
       "  <tbody>\n",
       "    <tr>\n",
       "      <td>0</td>\n",
       "      <td>510</td>\n",
       "      <td>22-24</td>\n",
       "      <td>Male</td>\n",
       "      <td>-1</td>\n",
       "      <td>France</td>\n",
       "      <td>Master’s degree</td>\n",
       "      <td>Software Engineer</td>\n",
       "      <td>-1</td>\n",
       "      <td>1000-9,999 employees</td>\n",
       "      <td>0</td>\n",
       "      <td>...</td>\n",
       "      <td>NaN</td>\n",
       "      <td>NaN</td>\n",
       "      <td>NaN</td>\n",
       "      <td>NaN</td>\n",
       "      <td>NaN</td>\n",
       "      <td>NaN</td>\n",
       "      <td>NaN</td>\n",
       "      <td>-1</td>\n",
       "      <td>3</td>\n",
       "      <td>30,000-39,999</td>\n",
       "    </tr>\n",
       "    <tr>\n",
       "      <td>1</td>\n",
       "      <td>423</td>\n",
       "      <td>40-44</td>\n",
       "      <td>Male</td>\n",
       "      <td>-1</td>\n",
       "      <td>India</td>\n",
       "      <td>Professional degree</td>\n",
       "      <td>Software Engineer</td>\n",
       "      <td>-1</td>\n",
       "      <td>&gt; 10,000 employees</td>\n",
       "      <td>20+</td>\n",
       "      <td>...</td>\n",
       "      <td>NaN</td>\n",
       "      <td>NaN</td>\n",
       "      <td>NaN</td>\n",
       "      <td>NaN</td>\n",
       "      <td>NaN</td>\n",
       "      <td>NaN</td>\n",
       "      <td>NaN</td>\n",
       "      <td>-1</td>\n",
       "      <td>0</td>\n",
       "      <td>0-9,999</td>\n",
       "    </tr>\n",
       "    <tr>\n",
       "      <td>2</td>\n",
       "      <td>391</td>\n",
       "      <td>40-44</td>\n",
       "      <td>Male</td>\n",
       "      <td>-1</td>\n",
       "      <td>Australia</td>\n",
       "      <td>Master’s degree</td>\n",
       "      <td>Other</td>\n",
       "      <td>0</td>\n",
       "      <td>&gt; 10,000 employees</td>\n",
       "      <td>20+</td>\n",
       "      <td>...</td>\n",
       "      <td>NaN</td>\n",
       "      <td>NaN</td>\n",
       "      <td>NaN</td>\n",
       "      <td>Azure SQL Database</td>\n",
       "      <td>NaN</td>\n",
       "      <td>NaN</td>\n",
       "      <td>NaN</td>\n",
       "      <td>-1</td>\n",
       "      <td>14</td>\n",
       "      <td>&gt;250,000</td>\n",
       "    </tr>\n",
       "    <tr>\n",
       "      <td>3</td>\n",
       "      <td>392</td>\n",
       "      <td>22-24</td>\n",
       "      <td>Male</td>\n",
       "      <td>-1</td>\n",
       "      <td>India</td>\n",
       "      <td>Bachelor’s degree</td>\n",
       "      <td>Other</td>\n",
       "      <td>1</td>\n",
       "      <td>0-49 employees</td>\n",
       "      <td>0</td>\n",
       "      <td>...</td>\n",
       "      <td>NaN</td>\n",
       "      <td>NaN</td>\n",
       "      <td>NaN</td>\n",
       "      <td>NaN</td>\n",
       "      <td>NaN</td>\n",
       "      <td>NaN</td>\n",
       "      <td>NaN</td>\n",
       "      <td>-1</td>\n",
       "      <td>0</td>\n",
       "      <td>0-9,999</td>\n",
       "    </tr>\n",
       "    <tr>\n",
       "      <td>4</td>\n",
       "      <td>470</td>\n",
       "      <td>50-54</td>\n",
       "      <td>Male</td>\n",
       "      <td>-1</td>\n",
       "      <td>France</td>\n",
       "      <td>Master’s degree</td>\n",
       "      <td>Data Scientist</td>\n",
       "      <td>-1</td>\n",
       "      <td>0-49 employees</td>\n",
       "      <td>3-4</td>\n",
       "      <td>...</td>\n",
       "      <td>NaN</td>\n",
       "      <td>AWS Relational Database Service</td>\n",
       "      <td>NaN</td>\n",
       "      <td>NaN</td>\n",
       "      <td>NaN</td>\n",
       "      <td>NaN</td>\n",
       "      <td>NaN</td>\n",
       "      <td>-1</td>\n",
       "      <td>6</td>\n",
       "      <td>60,000-69,999</td>\n",
       "    </tr>\n",
       "    <tr>\n",
       "      <td>...</td>\n",
       "      <td>...</td>\n",
       "      <td>...</td>\n",
       "      <td>...</td>\n",
       "      <td>...</td>\n",
       "      <td>...</td>\n",
       "      <td>...</td>\n",
       "      <td>...</td>\n",
       "      <td>...</td>\n",
       "      <td>...</td>\n",
       "      <td>...</td>\n",
       "      <td>...</td>\n",
       "      <td>...</td>\n",
       "      <td>...</td>\n",
       "      <td>...</td>\n",
       "      <td>...</td>\n",
       "      <td>...</td>\n",
       "      <td>...</td>\n",
       "      <td>...</td>\n",
       "      <td>...</td>\n",
       "      <td>...</td>\n",
       "      <td>...</td>\n",
       "    </tr>\n",
       "    <tr>\n",
       "      <td>12492</td>\n",
       "      <td>346</td>\n",
       "      <td>22-24</td>\n",
       "      <td>Male</td>\n",
       "      <td>-1</td>\n",
       "      <td>India</td>\n",
       "      <td>Bachelor’s degree</td>\n",
       "      <td>Data Scientist</td>\n",
       "      <td>-1</td>\n",
       "      <td>50-249 employees</td>\n",
       "      <td>3-4</td>\n",
       "      <td>...</td>\n",
       "      <td>NaN</td>\n",
       "      <td>NaN</td>\n",
       "      <td>NaN</td>\n",
       "      <td>NaN</td>\n",
       "      <td>NaN</td>\n",
       "      <td>NaN</td>\n",
       "      <td>NaN</td>\n",
       "      <td>-1</td>\n",
       "      <td>0</td>\n",
       "      <td>0-9,999</td>\n",
       "    </tr>\n",
       "    <tr>\n",
       "      <td>12493</td>\n",
       "      <td>88</td>\n",
       "      <td>25-29</td>\n",
       "      <td>Prefer not to say</td>\n",
       "      <td>-1</td>\n",
       "      <td>Austria</td>\n",
       "      <td>No formal education past high school</td>\n",
       "      <td>Data Scientist</td>\n",
       "      <td>-1</td>\n",
       "      <td>250-999 employees</td>\n",
       "      <td>1-2</td>\n",
       "      <td>...</td>\n",
       "      <td>NaN</td>\n",
       "      <td>NaN</td>\n",
       "      <td>NaN</td>\n",
       "      <td>NaN</td>\n",
       "      <td>NaN</td>\n",
       "      <td>NaN</td>\n",
       "      <td>NaN</td>\n",
       "      <td>-1</td>\n",
       "      <td>0</td>\n",
       "      <td>0-9,999</td>\n",
       "    </tr>\n",
       "    <tr>\n",
       "      <td>12494</td>\n",
       "      <td>473</td>\n",
       "      <td>18-21</td>\n",
       "      <td>Male</td>\n",
       "      <td>-1</td>\n",
       "      <td>India</td>\n",
       "      <td>Bachelor’s degree</td>\n",
       "      <td>Other</td>\n",
       "      <td>-1</td>\n",
       "      <td>250-999 employees</td>\n",
       "      <td>3-4</td>\n",
       "      <td>...</td>\n",
       "      <td>NaN</td>\n",
       "      <td>NaN</td>\n",
       "      <td>NaN</td>\n",
       "      <td>NaN</td>\n",
       "      <td>NaN</td>\n",
       "      <td>NaN</td>\n",
       "      <td>NaN</td>\n",
       "      <td>-1</td>\n",
       "      <td>0</td>\n",
       "      <td>0-9,999</td>\n",
       "    </tr>\n",
       "    <tr>\n",
       "      <td>12495</td>\n",
       "      <td>176</td>\n",
       "      <td>25-29</td>\n",
       "      <td>Male</td>\n",
       "      <td>-1</td>\n",
       "      <td>India</td>\n",
       "      <td>Master’s degree</td>\n",
       "      <td>Statistician</td>\n",
       "      <td>-1</td>\n",
       "      <td>50-249 employees</td>\n",
       "      <td>15-19</td>\n",
       "      <td>...</td>\n",
       "      <td>NaN</td>\n",
       "      <td>NaN</td>\n",
       "      <td>NaN</td>\n",
       "      <td>NaN</td>\n",
       "      <td>NaN</td>\n",
       "      <td>NaN</td>\n",
       "      <td>NaN</td>\n",
       "      <td>-1</td>\n",
       "      <td>0</td>\n",
       "      <td>0-9,999</td>\n",
       "    </tr>\n",
       "    <tr>\n",
       "      <td>12496</td>\n",
       "      <td>567</td>\n",
       "      <td>50-54</td>\n",
       "      <td>Male</td>\n",
       "      <td>-1</td>\n",
       "      <td>France</td>\n",
       "      <td>Bachelor’s degree</td>\n",
       "      <td>Software Engineer</td>\n",
       "      <td>-1</td>\n",
       "      <td>&gt; 10,000 employees</td>\n",
       "      <td>20+</td>\n",
       "      <td>...</td>\n",
       "      <td>NaN</td>\n",
       "      <td>NaN</td>\n",
       "      <td>NaN</td>\n",
       "      <td>NaN</td>\n",
       "      <td>NaN</td>\n",
       "      <td>NaN</td>\n",
       "      <td>NaN</td>\n",
       "      <td>-1</td>\n",
       "      <td>6</td>\n",
       "      <td>60,000-69,999</td>\n",
       "    </tr>\n",
       "  </tbody>\n",
       "</table>\n",
       "<p>12497 rows × 248 columns</p>\n",
       "</div>"
      ],
      "text/plain": [
       "       Time from Start to Finish (seconds)     Q1                 Q2  \\\n",
       "0                                      510  22-24               Male   \n",
       "1                                      423  40-44               Male   \n",
       "2                                      391  40-44               Male   \n",
       "3                                      392  22-24               Male   \n",
       "4                                      470  50-54               Male   \n",
       "...                                    ...    ...                ...   \n",
       "12492                                  346  22-24               Male   \n",
       "12493                                   88  25-29  Prefer not to say   \n",
       "12494                                  473  18-21               Male   \n",
       "12495                                  176  25-29               Male   \n",
       "12496                                  567  50-54               Male   \n",
       "\n",
       "       Q2_OTHER_TEXT         Q3                                    Q4  \\\n",
       "0                 -1     France                       Master’s degree   \n",
       "1                 -1      India                   Professional degree   \n",
       "2                 -1  Australia                       Master’s degree   \n",
       "3                 -1      India                     Bachelor’s degree   \n",
       "4                 -1     France                       Master’s degree   \n",
       "...              ...        ...                                   ...   \n",
       "12492             -1      India                     Bachelor’s degree   \n",
       "12493             -1    Austria  No formal education past high school   \n",
       "12494             -1      India                     Bachelor’s degree   \n",
       "12495             -1      India                       Master’s degree   \n",
       "12496             -1     France                     Bachelor’s degree   \n",
       "\n",
       "                      Q5  Q5_OTHER_TEXT                    Q6     Q7  ...  \\\n",
       "0      Software Engineer             -1  1000-9,999 employees      0  ...   \n",
       "1      Software Engineer             -1    > 10,000 employees    20+  ...   \n",
       "2                  Other              0    > 10,000 employees    20+  ...   \n",
       "3                  Other              1        0-49 employees      0  ...   \n",
       "4         Data Scientist             -1        0-49 employees    3-4  ...   \n",
       "...                  ...            ...                   ...    ...  ...   \n",
       "12492     Data Scientist             -1      50-249 employees    3-4  ...   \n",
       "12493     Data Scientist             -1     250-999 employees    1-2  ...   \n",
       "12494              Other             -1     250-999 employees    3-4  ...   \n",
       "12495       Statistician             -1      50-249 employees  15-19  ...   \n",
       "12496  Software Engineer             -1    > 10,000 employees    20+  ...   \n",
       "\n",
       "      Q34_Part_6                       Q34_Part_7 Q34_Part_8  \\\n",
       "0            NaN                              NaN        NaN   \n",
       "1            NaN                              NaN        NaN   \n",
       "2            NaN                              NaN        NaN   \n",
       "3            NaN                              NaN        NaN   \n",
       "4            NaN  AWS Relational Database Service        NaN   \n",
       "...          ...                              ...        ...   \n",
       "12492        NaN                              NaN        NaN   \n",
       "12493        NaN                              NaN        NaN   \n",
       "12494        NaN                              NaN        NaN   \n",
       "12495        NaN                              NaN        NaN   \n",
       "12496        NaN                              NaN        NaN   \n",
       "\n",
       "               Q34_Part_9 Q34_Part_10 Q34_Part_11 Q34_Part_12 Q34_OTHER_TEXT  \\\n",
       "0                     NaN         NaN         NaN         NaN             -1   \n",
       "1                     NaN         NaN         NaN         NaN             -1   \n",
       "2      Azure SQL Database         NaN         NaN         NaN             -1   \n",
       "3                     NaN         NaN         NaN         NaN             -1   \n",
       "4                     NaN         NaN         NaN         NaN             -1   \n",
       "...                   ...         ...         ...         ...            ...   \n",
       "12492                 NaN         NaN         NaN         NaN             -1   \n",
       "12493                 NaN         NaN         NaN         NaN             -1   \n",
       "12494                 NaN         NaN         NaN         NaN             -1   \n",
       "12495                 NaN         NaN         NaN         NaN             -1   \n",
       "12496                 NaN         NaN         NaN         NaN             -1   \n",
       "\n",
       "      Q10_Encoded    Q10_buckets  \n",
       "0               3  30,000-39,999  \n",
       "1               0        0-9,999  \n",
       "2              14       >250,000  \n",
       "3               0        0-9,999  \n",
       "4               6  60,000-69,999  \n",
       "...           ...            ...  \n",
       "12492           0        0-9,999  \n",
       "12493           0        0-9,999  \n",
       "12494           0        0-9,999  \n",
       "12495           0        0-9,999  \n",
       "12496           6  60,000-69,999  \n",
       "\n",
       "[12497 rows x 248 columns]"
      ]
     },
     "execution_count": 67,
     "metadata": {},
     "output_type": "execute_result"
    }
   ],
   "source": [
    "# Re-load original dataset\n",
    "df_visual = pd.read_csv('Kaggle_Salary.csv',low_memory=False)\n",
    "df_visual"
   ]
  },
  {
   "cell_type": "markdown",
   "metadata": {
    "colab_type": "text",
    "id": "kWyrmlzMFJTW"
   },
   "source": [
    "#### Countries vs. Yearly Compensations"
   ]
  },
  {
   "cell_type": "markdown",
   "metadata": {},
   "source": [
    "        From the graph generated below, the x-axis represents different Countries and y-axis represents the categories for the salaries. In this graph, I plotted two curves: one is maximum salary and another one is modal salary in each country. Firstly, by seeing the modes in each country, Australia, Norway, Switzerland and the USA have the highest modes among all other countries which have Class 10 ($100,000-$124,999) and Philippines, Turkey, Egypt and so on have model salary at Class 0 ($0-$9999) which is pretty low, therefore, we can conclude that person from those developed countries like USA is most likely to have a salary class at 10 and those from developing countries are most likely to have a low salary class. Same thing happened in the max salaries, countries like Algeria, Czech and Iran have very low maximum salaries compared to other countries which only have classes at 4 to 6 while USA and Australia are having Class 14."
   ]
  },
  {
   "cell_type": "code",
   "execution_count": 68,
   "metadata": {
    "colab": {
     "base_uri": "https://localhost:8080/",
     "height": 0
    },
    "colab_type": "code",
    "executionInfo": {
     "elapsed": 9712,
     "status": "ok",
     "timestamp": 1582328285314,
     "user": {
      "displayName": "Barry Xu",
      "photoUrl": "https://lh3.googleusercontent.com/a-/AAuE7mCv_JJ8qVD2k4nC_2blPyboV_YF9xsN7_IF90zs=s64",
      "userId": "17926533693346679715"
     },
     "user_tz": 300
    },
    "id": "usYCE3SOFJTW",
    "outputId": "fc95d921-2412-4363-da4a-b300567a6115"
   },
   "outputs": [
    {
     "data": {
      "image/png": "[encoded data removed]",
      "text/plain": [
       "<Figure size 1080x432 with 1 Axes>"
      ]
     },
     "metadata": {
      "needs_background": "light"
     },
     "output_type": "display_data"
    }
   ],
   "source": [
    "#RELATIONSHIP BETWEEN COUNTRY AND YEARLY COMPENSATION\n",
    "df_countries = df_visual[['Q3','Q10_Encoded']]\n",
    "country_names = set(df_countries['Q3'])# get unique country names\n",
    "modes_dict1, max_dict1 = {},{}\n",
    "for name in country_names:\n",
    "    df_country = df_countries[df_countries['Q3']==name]\n",
    "    modes_dict1[name] = df_country['Q10_Encoded'].mode()#get modes for each country\n",
    "    max_dict1[name] = df_country['Q10_Encoded'].max()#get max for each country\n",
    "df_modes1 = pd.DataFrame().from_dict(modes_dict1).T.drop(columns=1)\n",
    "df_modes1.columns = ['Modes']\n",
    "df_modes1.index.name = 'Countries'\n",
    "df_max1 = pd.DataFrame(max_dict1,index=[0]).T\n",
    "df_max1.columns = ['Max']\n",
    "df_max1.index.name = 'Countries'\n",
    "df_modes_max1 = df_modes1.join(df_max1)\n",
    "\n",
    "plt.figure(figsize=(15,6))\n",
    "plt.title('Countries vs. Yearly Compensation')\n",
    "plt.xlabel('Countries')\n",
    "plt.ylabel('Category of Yearly Compensation')\n",
    "plt.xticks(rotation='vertical')\n",
    "plt.plot(df_modes1,label = 'Modes',color='g')\n",
    "plt.plot(df_max1, label='Max',color='r')\n",
    "plt.legend()\n",
    "plt.show()"
   ]
  },
  {
   "cell_type": "markdown",
   "metadata": {
    "colab_type": "text",
    "id": "4LXtuOePFJTX"
   },
   "source": [
    "#### Compensation ratios in Different Levels of Education"
   ]
  },
  {
   "cell_type": "markdown",
   "metadata": {},
   "source": [
    "        The bar plot below shows the proportions of each salary class in each education level, the salary classes could be represented by different colors: low salaries are in orange, Medium salaries are in green and High salaries are in blue, I will take Bachelor's, Master's and Doctor's Degrees as example: by comparing three bars in these three education levels we can see that Low salary class is dominating Bachelor's degree which is almost beyond 60% of the entire sample size and High salary class occupied only a small proportions; however, it's getting oppsite in the Doctor's Degree, Low salary class only have lower than 40% of the samples and almost 30% people have High salaries(>$90000); Master's Degree is in between these two educations level just discussed, a very large proportion of people are earning Medium Salaries. Therefore, we can conclude the trend in the relationship between salaries and level of education: higher education levels tend to let people get more salaries, although there is some special case in other classes such as \"No formal education past high school\" where people there have the largest proportion of (>$250000) class."
   ]
  },
  {
   "cell_type": "code",
   "execution_count": 69,
   "metadata": {
    "colab": {
     "base_uri": "https://localhost:8080/",
     "height": 0
    },
    "colab_type": "code",
    "executionInfo": {
     "elapsed": 9704,
     "status": "ok",
     "timestamp": 1582328285315,
     "user": {
      "displayName": "Barry Xu",
      "photoUrl": "https://lh3.googleusercontent.com/a-/AAuE7mCv_JJ8qVD2k4nC_2blPyboV_YF9xsN7_IF90zs=s64",
      "userId": "17926533693346679715"
     },
     "user_tz": 300
    },
    "id": "h4iTjBsfFJTY",
    "outputId": "e082ed8e-7c8e-4cb3-cfef-063733a515bf"
   },
   "outputs": [
    {
     "data": {
      "text/plain": [
       "['Master’s degree',\n",
       " 'Professional degree',\n",
       " 'Bachelor’s degree',\n",
       " 'Doctoral degree',\n",
       " 'Some college/university study without earning a bachelor’s degree',\n",
       " 'I prefer not to answer',\n",
       " 'No formal education past high school']"
      ]
     },
     "execution_count": 69,
     "metadata": {},
     "output_type": "execute_result"
    }
   ],
   "source": [
    "edu_types = list(df_visual['Q4'].unique())\n",
    "edu_types"
   ]
  },
  {
   "cell_type": "code",
   "execution_count": 70,
   "metadata": {
    "colab": {},
    "colab_type": "code",
    "id": "w-372aiSFJTZ"
   },
   "outputs": [],
   "source": [
    "label_buckets = list(df_visual['Q10_buckets'].unique())\n",
    "label_buckets = ['0-9,999','10,000-19,999','20,000-29,999','30,000-39,999','40,000-49,999','50,000-59,999','60,000-69,999',\n",
    "             '70,000-79,999','80,000-89,999','90,000-99,999','100,000-124,999','125,000-149,9991','150,000-199,999',\n",
    "             '200,000-249,999','>250,000']"
   ]
  },
  {
   "cell_type": "code",
   "execution_count": 71,
   "metadata": {
    "colab": {},
    "colab_type": "code",
    "id": "ZrM6LX-PFJTb"
   },
   "outputs": [],
   "source": [
    "counts = {}\n",
    "for i in edu_types:\n",
    "    a = df_visual[df_visual['Q4'] == i ]\n",
    "    b = len(a)\n",
    "    counts[i] = {}\n",
    "    for j in label_buckets:\n",
    "        counts[i][j] = len(a[a['Q10_buckets'] == j ])/b   #normalize proportions\n",
    "df_edu = pd.DataFrame(counts).T"
   ]
  },
  {
   "cell_type": "code",
   "execution_count": 72,
   "metadata": {
    "colab": {
     "base_uri": "https://localhost:8080/",
     "height": 0
    },
    "colab_type": "code",
    "executionInfo": {
     "elapsed": 10718,
     "status": "ok",
     "timestamp": 1582328286406,
     "user": {
      "displayName": "Barry Xu",
      "photoUrl": "https://lh3.googleusercontent.com/a-/AAuE7mCv_JJ8qVD2k4nC_2blPyboV_YF9xsN7_IF90zs=s64",
      "userId": "17926533693346679715"
     },
     "user_tz": 300
    },
    "id": "dSslMM_AFJTc",
    "outputId": "fa29a79c-d5b4-4678-af46-2bdf9dbbf2a7"
   },
   "outputs": [
    {
     "data": {
      "image/png": "[encoded data removed]",
      "text/plain": [
       "<Figure size 1080x576 with 1 Axes>"
      ]
     },
     "metadata": {
      "needs_background": "light"
     },
     "output_type": "display_data"
    }
   ],
   "source": [
    "df_edu.plot(kind='bar',stacked=True,figsize=(15,8))\n",
    "plt.title('Level of Education vs. Yearly Compensation')\n",
    "plt.xlabel('Level of Education')\n",
    "plt.ylabel('Salary Proportions')\n",
    "plt.legend()\n",
    "plt.show()"
   ]
  },
  {
   "cell_type": "markdown",
   "metadata": {
    "colab_type": "text",
    "id": "IDHAlZHuFJTe"
   },
   "source": [
    "#### Compensation vs. Age"
   ]
  },
  {
   "cell_type": "markdown",
   "metadata": {},
   "source": [
    "        Graph below shows the salary proportions in each age group of people. We can see a very clear trend in the graph. As same as the last discussion: low salaries are in orange, medium salaries are in green and high salaries are in blue. We can clearly see the orange parts of each age group are decreasing with increasing ages and blue parts are increasing with ages, however when the people get to their 70+, there is a increase trend in the low salary class and decrease in the high salary class. This means that people tend to get higher salaries with increasing ages, but the salaries goes down when they get retired (70+). For our predictions, ages could be a indicator for the salary prediction: we can conclude that older people are tending to have high salary classes and younger people tend to have low classes."
   ]
  },
  {
   "cell_type": "code",
   "execution_count": 73,
   "metadata": {
    "colab": {},
    "colab_type": "code",
    "id": "DewT3ysxFJTe"
   },
   "outputs": [],
   "source": [
    "age_types = list(df_visual['Q1'].unique())\n",
    "age_types = ['18-21','22-24','25-29','30-34','35-39','40-44','45-49','50-54','55-59','60-69','70+']"
   ]
  },
  {
   "cell_type": "code",
   "execution_count": 74,
   "metadata": {
    "colab": {},
    "colab_type": "code",
    "id": "x6Podj7yFJTg"
   },
   "outputs": [],
   "source": [
    "counts_age = {}\n",
    "for i in age_types:\n",
    "    a = df_visual[df_visual['Q1'] == i ]\n",
    "    b = len(a)\n",
    "    counts_age[i] = {}\n",
    "    for j in label_buckets:\n",
    "        counts_age[i][j] = len(a[a['Q10_buckets'] == j ])/b  #normalize proportions\n",
    "df_age = pd.DataFrame(counts_age).T"
   ]
  },
  {
   "cell_type": "code",
   "execution_count": 75,
   "metadata": {
    "colab": {
     "base_uri": "https://localhost:8080/",
     "height": 0
    },
    "colab_type": "code",
    "executionInfo": {
     "elapsed": 11888,
     "status": "ok",
     "timestamp": 1582328287636,
     "user": {
      "displayName": "Barry Xu",
      "photoUrl": "https://lh3.googleusercontent.com/a-/AAuE7mCv_JJ8qVD2k4nC_2blPyboV_YF9xsN7_IF90zs=s64",
      "userId": "17926533693346679715"
     },
     "user_tz": 300
    },
    "id": "hKlxEek4FJTi",
    "outputId": "af989bac-2a0a-48e9-8c46-4a0c204e2172"
   },
   "outputs": [
    {
     "data": {
      "image/png": "[encoded data removed]",
      "text/plain": [
       "<Figure size 1080x576 with 1 Axes>"
      ]
     },
     "metadata": {
      "needs_background": "light"
     },
     "output_type": "display_data"
    }
   ],
   "source": [
    "df_age.plot(kind='bar',stacked=True,figsize=(15,8))\n",
    "plt.xlabel('Age')\n",
    "plt.ylabel('Salary Proportions')\n",
    "plt.title('Age vs. Yearly Compensation')\n",
    "plt.legend()\n",
    "plt.show()"
   ]
  },
  {
   "cell_type": "markdown",
   "metadata": {
    "colab_type": "text",
    "id": "5v4WfSwSFJTk"
   },
   "source": [
    "### Correlation Plot"
   ]
  },
  {
   "cell_type": "markdown",
   "metadata": {},
   "source": [
    "        The pairwise correlations between features could be calculated by df.corr() function and it will return a symmetric matrix with each feature as a single column and a single row; correlation is a statistical term which refers to how close two variables are to having a linear relationship with each other. Features with high correlation are more linearly dependent and hence have almost the same effect on the target. \n",
    "        \n",
    "        The correlations are plotted in the heatmap, and we can see the warm colors such as yellow, orange and red represent high correlations and cold colors such as green and purple represent low correlation. The diagonal shows the correlations of features with themselves which is always 1. From the heatmap, we can see 'ML_frame' and 'algorithm' have very high correlations with each other and features 'CC_platform','CC_prod','bigdata_prod','ML_prod','autoML','database','Labels' all have strong correlations which means those features are highly dependent with each other and may have same effect on the model."
   ]
  },
  {
   "cell_type": "code",
   "execution_count": 76,
   "metadata": {},
   "outputs": [],
   "source": [
    "df_corr = df.corr()"
   ]
  },
  {
   "cell_type": "code",
   "execution_count": 77,
   "metadata": {
    "colab": {
     "base_uri": "https://localhost:8080/",
     "height": 0
    },
    "colab_type": "code",
    "executionInfo": {
     "elapsed": 14973,
     "status": "ok",
     "timestamp": 1582328290781,
     "user": {
      "displayName": "Barry Xu",
      "photoUrl": "https://lh3.googleusercontent.com/a-/AAuE7mCv_JJ8qVD2k4nC_2blPyboV_YF9xsN7_IF90zs=s64",
      "userId": "17926533693346679715"
     },
     "user_tz": 300
    },
    "id": "KRv52YZOFJTo",
    "outputId": "50baf2f4-0b48-40d5-c099-aca1f36a4011"
   },
   "outputs": [
    {
     "data": {
      "text/html": [
       "<div>\n",
       "<style scoped>\n",
       "    .dataframe tbody tr th:only-of-type {\n",
       "        vertical-align: middle;\n",
       "    }\n",
       "\n",
       "    .dataframe tbody tr th {\n",
       "        vertical-align: top;\n",
       "    }\n",
       "\n",
       "    .dataframe thead th {\n",
       "        text-align: right;\n",
       "    }\n",
       "</style>\n",
       "<table border=\"1\" class=\"dataframe\">\n",
       "  <thead>\n",
       "    <tr style=\"text-align: right;\">\n",
       "      <th></th>\n",
       "      <th>index</th>\n",
       "      <th>Labels</th>\n",
       "    </tr>\n",
       "  </thead>\n",
       "  <tbody>\n",
       "    <tr>\n",
       "      <td>34</td>\n",
       "      <td>Labels</td>\n",
       "      <td>1.000000</td>\n",
       "    </tr>\n",
       "    <tr>\n",
       "      <td>11</td>\n",
       "      <td>media_source</td>\n",
       "      <td>0.412654</td>\n",
       "    </tr>\n",
       "    <tr>\n",
       "      <td>14</td>\n",
       "      <td>experience</td>\n",
       "      <td>0.373715</td>\n",
       "    </tr>\n",
       "    <tr>\n",
       "      <td>1</td>\n",
       "      <td>age</td>\n",
       "      <td>0.370352</td>\n",
       "    </tr>\n",
       "    <tr>\n",
       "      <td>3</td>\n",
       "      <td>country</td>\n",
       "      <td>0.356506</td>\n",
       "    </tr>\n",
       "    <tr>\n",
       "      <td>9</td>\n",
       "      <td>activity</td>\n",
       "      <td>0.339666</td>\n",
       "    </tr>\n",
       "    <tr>\n",
       "      <td>15</td>\n",
       "      <td>IDEs</td>\n",
       "      <td>0.268527</td>\n",
       "    </tr>\n",
       "    <tr>\n",
       "      <td>7</td>\n",
       "      <td>number_of_worker</td>\n",
       "      <td>0.222678</td>\n",
       "    </tr>\n",
       "    <tr>\n",
       "      <td>6</td>\n",
       "      <td>company_size</td>\n",
       "      <td>0.193800</td>\n",
       "    </tr>\n",
       "    <tr>\n",
       "      <td>8</td>\n",
       "      <td>ML</td>\n",
       "      <td>0.177196</td>\n",
       "    </tr>\n",
       "    <tr>\n",
       "      <td>29</td>\n",
       "      <td>CC_prod</td>\n",
       "      <td>0.144835</td>\n",
       "    </tr>\n",
       "    <tr>\n",
       "      <td>30</td>\n",
       "      <td>bigdata_prod</td>\n",
       "      <td>0.138182</td>\n",
       "    </tr>\n",
       "    <tr>\n",
       "      <td>23</td>\n",
       "      <td>algorithms</td>\n",
       "      <td>0.136729</td>\n",
       "    </tr>\n",
       "    <tr>\n",
       "      <td>28</td>\n",
       "      <td>CC_platform</td>\n",
       "      <td>0.130765</td>\n",
       "    </tr>\n",
       "    <tr>\n",
       "      <td>33</td>\n",
       "      <td>database</td>\n",
       "      <td>0.128443</td>\n",
       "    </tr>\n",
       "    <tr>\n",
       "      <td>20</td>\n",
       "      <td>hardwares</td>\n",
       "      <td>0.116429</td>\n",
       "    </tr>\n",
       "    <tr>\n",
       "      <td>22</td>\n",
       "      <td>ML_experience</td>\n",
       "      <td>0.113517</td>\n",
       "    </tr>\n",
       "    <tr>\n",
       "      <td>32</td>\n",
       "      <td>autoML</td>\n",
       "      <td>0.104443</td>\n",
       "    </tr>\n",
       "    <tr>\n",
       "      <td>27</td>\n",
       "      <td>ML_frame</td>\n",
       "      <td>0.097327</td>\n",
       "    </tr>\n",
       "    <tr>\n",
       "      <td>21</td>\n",
       "      <td>TPU</td>\n",
       "      <td>0.089335</td>\n",
       "    </tr>\n",
       "    <tr>\n",
       "      <td>31</td>\n",
       "      <td>ML_prod</td>\n",
       "      <td>0.081267</td>\n",
       "    </tr>\n",
       "    <tr>\n",
       "      <td>18</td>\n",
       "      <td>recom_language</td>\n",
       "      <td>0.073507</td>\n",
       "    </tr>\n",
       "    <tr>\n",
       "      <td>2</td>\n",
       "      <td>gender</td>\n",
       "      <td>0.066288</td>\n",
       "    </tr>\n",
       "    <tr>\n",
       "      <td>24</td>\n",
       "      <td>ML_tools</td>\n",
       "      <td>0.061961</td>\n",
       "    </tr>\n",
       "    <tr>\n",
       "      <td>26</td>\n",
       "      <td>NLP</td>\n",
       "      <td>0.057603</td>\n",
       "    </tr>\n",
       "    <tr>\n",
       "      <td>16</td>\n",
       "      <td>Notebook</td>\n",
       "      <td>0.048957</td>\n",
       "    </tr>\n",
       "    <tr>\n",
       "      <td>12</td>\n",
       "      <td>study_platform</td>\n",
       "      <td>0.047172</td>\n",
       "    </tr>\n",
       "    <tr>\n",
       "      <td>17</td>\n",
       "      <td>language_using</td>\n",
       "      <td>0.045603</td>\n",
       "    </tr>\n",
       "    <tr>\n",
       "      <td>10</td>\n",
       "      <td>Money_spent</td>\n",
       "      <td>0.044354</td>\n",
       "    </tr>\n",
       "    <tr>\n",
       "      <td>4</td>\n",
       "      <td>education</td>\n",
       "      <td>0.032289</td>\n",
       "    </tr>\n",
       "    <tr>\n",
       "      <td>13</td>\n",
       "      <td>primary_tool</td>\n",
       "      <td>0.030021</td>\n",
       "    </tr>\n",
       "    <tr>\n",
       "      <td>25</td>\n",
       "      <td>vision_cate</td>\n",
       "      <td>0.026467</td>\n",
       "    </tr>\n",
       "    <tr>\n",
       "      <td>19</td>\n",
       "      <td>data_visual</td>\n",
       "      <td>0.002848</td>\n",
       "    </tr>\n",
       "    <tr>\n",
       "      <td>5</td>\n",
       "      <td>title</td>\n",
       "      <td>-0.011005</td>\n",
       "    </tr>\n",
       "    <tr>\n",
       "      <td>0</td>\n",
       "      <td>duration</td>\n",
       "      <td>-0.013725</td>\n",
       "    </tr>\n",
       "  </tbody>\n",
       "</table>\n",
       "</div>"
      ],
      "text/plain": [
       "               index    Labels\n",
       "34            Labels  1.000000\n",
       "11      media_source  0.412654\n",
       "14        experience  0.373715\n",
       "1                age  0.370352\n",
       "3            country  0.356506\n",
       "9           activity  0.339666\n",
       "15              IDEs  0.268527\n",
       "7   number_of_worker  0.222678\n",
       "6       company_size  0.193800\n",
       "8                 ML  0.177196\n",
       "29           CC_prod  0.144835\n",
       "30      bigdata_prod  0.138182\n",
       "23        algorithms  0.136729\n",
       "28       CC_platform  0.130765\n",
       "33          database  0.128443\n",
       "20         hardwares  0.116429\n",
       "22     ML_experience  0.113517\n",
       "32            autoML  0.104443\n",
       "27          ML_frame  0.097327\n",
       "21               TPU  0.089335\n",
       "31           ML_prod  0.081267\n",
       "18    recom_language  0.073507\n",
       "2             gender  0.066288\n",
       "24          ML_tools  0.061961\n",
       "26               NLP  0.057603\n",
       "16          Notebook  0.048957\n",
       "12    study_platform  0.047172\n",
       "17    language_using  0.045603\n",
       "10       Money_spent  0.044354\n",
       "4          education  0.032289\n",
       "13      primary_tool  0.030021\n",
       "25       vision_cate  0.026467\n",
       "19       data_visual  0.002848\n",
       "5              title -0.011005\n",
       "0           duration -0.013725"
      ]
     },
     "execution_count": 77,
     "metadata": {},
     "output_type": "execute_result"
    }
   ],
   "source": [
    "dd = df_corr[\"Labels\"].reset_index().sort_values(by = [\"Labels\"],ascending=False)\n",
    "dd"
   ]
  },
  {
   "cell_type": "code",
   "execution_count": 78,
   "metadata": {
    "colab": {
     "base_uri": "https://localhost:8080/",
     "height": 0
    },
    "colab_type": "code",
    "executionInfo": {
     "elapsed": 14986,
     "status": "ok",
     "timestamp": 1582328290781,
     "user": {
      "displayName": "Barry Xu",
      "photoUrl": "https://lh3.googleusercontent.com/a-/AAuE7mCv_JJ8qVD2k4nC_2blPyboV_YF9xsN7_IF90zs=s64",
      "userId": "17926533693346679715"
     },
     "user_tz": 300
    },
    "id": "FQ-IwtV-FJTn",
    "outputId": "eaa03df1-52bf-4a42-fdb0-89cca25818f5"
   },
   "outputs": [
    {
     "data": {
      "image/png": "[encoded data removed]",
      "text/plain": [
       "<Figure size 1440x1080 with 2 Axes>"
      ]
     },
     "metadata": {
      "needs_background": "light"
     },
     "output_type": "display_data"
    }
   ],
   "source": [
    "sns.heatmap(df_corr,cmap='rainbow')\n",
    "fig=plt.gcf()\n",
    "fig.set_size_inches(20,15)\n",
    "plt.show()"
   ]
  },
  {
   "cell_type": "markdown",
   "metadata": {},
   "source": [
    "### Feature Importance"
   ]
  },
  {
   "cell_type": "markdown",
   "metadata": {},
   "source": [
    "        From the feature importance plot, we can see top 5 most related features are media_source, experience, age, country and activity."
   ]
  },
  {
   "cell_type": "code",
   "execution_count": 79,
   "metadata": {
    "colab": {
     "base_uri": "https://localhost:8080/",
     "height": 0
    },
    "colab_type": "code",
    "executionInfo": {
     "elapsed": 15189,
     "status": "ok",
     "timestamp": 1582328291030,
     "user": {
      "displayName": "Barry Xu",
      "photoUrl": "https://lh3.googleusercontent.com/a-/AAuE7mCv_JJ8qVD2k4nC_2blPyboV_YF9xsN7_IF90zs=s64",
      "userId": "17926533693346679715"
     },
     "user_tz": 300
    },
    "id": "qz4ONNovFJTr",
    "outputId": "57347e57-eef7-4f8b-9536-5fdf5a04be30"
   },
   "outputs": [
    {
     "data": {
      "image/png": "[encoded data removed]",
      "text/plain": [
       "<Figure size 1080x576 with 1 Axes>"
      ]
     },
     "metadata": {
      "needs_background": "light"
     },
     "output_type": "display_data"
    }
   ],
   "source": [
    "correlation = df_corr.Labels.apply(lambda x:abs(x)).sort_values()\n",
    "ax = (correlation.plot(kind=\"barh\",figsize=(15,8),title=\"Importance of features\"))\n",
    "ax.set_ylabel('Absolute correlation with YearlyCompensation')\n",
    "plt.show()"
   ]
  },
  {
   "cell_type": "markdown",
   "metadata": {
    "colab_type": "text",
    "id": "lfSrnK_-FJTt"
   },
   "source": [
    "# 3. Feature Selection"
   ]
  },
  {
   "cell_type": "markdown",
   "metadata": {
    "colab_type": "text",
    "id": "IKpawbB2FJTw"
   },
   "source": [
    "        Many features will present original data with very high dimensionality, models trainings usually choke because:\n",
    "            * Training time can increase exponentially with number of features;\n",
    "            * Models will have increasing risk of overfitting with increasing number of features.\n",
    "        Feature Selection methods can helps with these problems by reducing the dimensions without much loss of the total information. It also helps to make sense of the features and its importance.\n",
    "        \n",
    "        In this assignment, we are dealing with categorical data, therefore, we can use statistical tests to determine whether the feature is dependent or independent of the input variables. If independent, the feature may be irrelevant to the target and removed from the dataset.\n",
    "        \n",
    "        The chi-square test is a statistical test of independence to determine the dependency between two variables. However, chi-square test is only applicable to categorical features and the test calculates a statistic that has a chi-squared distribution, the judgement of the importance of a feature can be summarized as:\n",
    "\n",
    "     * If Statistic >= Critical Value: significant result, reject null hypothesis (H0), dependent.\n",
    "     * If Statistic < Critical Value: not significant result, fail to reject null hypothesis (H0), independent.\n",
    "\n",
    "        From the definition of chi-square, we can easily deduce the application of chi-square technique in feature selection. Suppose you have a target and some other categorical features that describes each sample of the data. Now, we calculate chi-square statistics between every feature and the target and observe the existence of a relationship between the features and the target. If the target variable is independent of the feature variable, we can discard that feature variable. If they are dependent, the feature variable is very important."
   ]
  },
  {
   "cell_type": "code",
   "execution_count": 80,
   "metadata": {
    "colab": {},
    "colab_type": "code",
    "id": "Bv9XEKoQFJTt"
   },
   "outputs": [],
   "source": [
    "y = df[\"Labels\"]\n",
    "X = df.drop('Labels',axis=1)\n",
    "cols = X.columns"
   ]
  },
  {
   "cell_type": "code",
   "execution_count": 81,
   "metadata": {
    "colab": {
     "base_uri": "https://localhost:8080/",
     "height": 221
    },
    "colab_type": "code",
    "executionInfo": {
     "elapsed": 15144,
     "status": "ok",
     "timestamp": 1582328291031,
     "user": {
      "displayName": "Barry Xu",
      "photoUrl": "https://lh3.googleusercontent.com/a-/AAuE7mCv_JJ8qVD2k4nC_2blPyboV_YF9xsN7_IF90zs=s64",
      "userId": "17926533693346679715"
     },
     "user_tz": 300
    },
    "id": "HhFHJNxgFJTv",
    "outputId": "5418773b-1dc4-48aa-cb07-c3ec45d8c192"
   },
   "outputs": [
    {
     "data": {
      "text/html": [
       "<div>\n",
       "<style scoped>\n",
       "    .dataframe tbody tr th:only-of-type {\n",
       "        vertical-align: middle;\n",
       "    }\n",
       "\n",
       "    .dataframe tbody tr th {\n",
       "        vertical-align: top;\n",
       "    }\n",
       "\n",
       "    .dataframe thead th {\n",
       "        text-align: right;\n",
       "    }\n",
       "</style>\n",
       "<table border=\"1\" class=\"dataframe\">\n",
       "  <thead>\n",
       "    <tr style=\"text-align: right;\">\n",
       "      <th></th>\n",
       "      <th>0</th>\n",
       "      <th>1</th>\n",
       "    </tr>\n",
       "  </thead>\n",
       "  <tbody>\n",
       "    <tr>\n",
       "      <td>0</td>\n",
       "      <td>5.551522e+06</td>\n",
       "      <td>0.000000e+00</td>\n",
       "    </tr>\n",
       "    <tr>\n",
       "      <td>1</td>\n",
       "      <td>2.322366e+03</td>\n",
       "      <td>0.000000e+00</td>\n",
       "    </tr>\n",
       "    <tr>\n",
       "      <td>2</td>\n",
       "      <td>1.550150e+01</td>\n",
       "      <td>3.447540e-01</td>\n",
       "    </tr>\n",
       "    <tr>\n",
       "      <td>3</td>\n",
       "      <td>1.754608e+04</td>\n",
       "      <td>0.000000e+00</td>\n",
       "    </tr>\n",
       "    <tr>\n",
       "      <td>4</td>\n",
       "      <td>6.257125e+01</td>\n",
       "      <td>4.133507e-08</td>\n",
       "    </tr>\n",
       "    <tr>\n",
       "      <td>5</td>\n",
       "      <td>2.489824e+01</td>\n",
       "      <td>3.558534e-02</td>\n",
       "    </tr>\n",
       "    <tr>\n",
       "      <td>6</td>\n",
       "      <td>7.346875e+02</td>\n",
       "      <td>1.011297e-147</td>\n",
       "    </tr>\n",
       "    <tr>\n",
       "      <td>7</td>\n",
       "      <td>1.106669e+03</td>\n",
       "      <td>1.973347e-227</td>\n",
       "    </tr>\n",
       "    <tr>\n",
       "      <td>8</td>\n",
       "      <td>4.023011e+02</td>\n",
       "      <td>4.152438e-77</td>\n",
       "    </tr>\n",
       "    <tr>\n",
       "      <td>9</td>\n",
       "      <td>2.256408e+03</td>\n",
       "      <td>0.000000e+00</td>\n",
       "    </tr>\n",
       "    <tr>\n",
       "      <td>10</td>\n",
       "      <td>2.875968e+01</td>\n",
       "      <td>1.126079e-02</td>\n",
       "    </tr>\n",
       "    <tr>\n",
       "      <td>11</td>\n",
       "      <td>1.636305e+03</td>\n",
       "      <td>0.000000e+00</td>\n",
       "    </tr>\n",
       "    <tr>\n",
       "      <td>12</td>\n",
       "      <td>1.128820e+01</td>\n",
       "      <td>6.632618e-01</td>\n",
       "    </tr>\n",
       "    <tr>\n",
       "      <td>13</td>\n",
       "      <td>8.497276e+01</td>\n",
       "      <td>3.348462e-12</td>\n",
       "    </tr>\n",
       "    <tr>\n",
       "      <td>14</td>\n",
       "      <td>3.890375e+03</td>\n",
       "      <td>0.000000e+00</td>\n",
       "    </tr>\n",
       "    <tr>\n",
       "      <td>15</td>\n",
       "      <td>1.579727e+03</td>\n",
       "      <td>0.000000e+00</td>\n",
       "    </tr>\n",
       "    <tr>\n",
       "      <td>16</td>\n",
       "      <td>5.667578e+01</td>\n",
       "      <td>4.451577e-07</td>\n",
       "    </tr>\n",
       "    <tr>\n",
       "      <td>17</td>\n",
       "      <td>1.006592e+02</td>\n",
       "      <td>3.544879e-15</td>\n",
       "    </tr>\n",
       "    <tr>\n",
       "      <td>18</td>\n",
       "      <td>1.605567e+02</td>\n",
       "      <td>5.483817e-27</td>\n",
       "    </tr>\n",
       "    <tr>\n",
       "      <td>19</td>\n",
       "      <td>1.609174e+01</td>\n",
       "      <td>3.078039e-01</td>\n",
       "    </tr>\n",
       "    <tr>\n",
       "      <td>20</td>\n",
       "      <td>2.589507e+02</td>\n",
       "      <td>4.034588e-47</td>\n",
       "    </tr>\n",
       "    <tr>\n",
       "      <td>21</td>\n",
       "      <td>1.865465e+02</td>\n",
       "      <td>3.031725e-32</td>\n",
       "    </tr>\n",
       "    <tr>\n",
       "      <td>22</td>\n",
       "      <td>1.047569e+02</td>\n",
       "      <td>5.775482e-16</td>\n",
       "    </tr>\n",
       "    <tr>\n",
       "      <td>23</td>\n",
       "      <td>4.725957e+02</td>\n",
       "      <td>5.911504e-92</td>\n",
       "    </tr>\n",
       "    <tr>\n",
       "      <td>24</td>\n",
       "      <td>4.505244e+01</td>\n",
       "      <td>4.000185e-05</td>\n",
       "    </tr>\n",
       "    <tr>\n",
       "      <td>25</td>\n",
       "      <td>5.324976e+01</td>\n",
       "      <td>1.725038e-06</td>\n",
       "    </tr>\n",
       "    <tr>\n",
       "      <td>26</td>\n",
       "      <td>1.405771e+02</td>\n",
       "      <td>5.447247e-23</td>\n",
       "    </tr>\n",
       "    <tr>\n",
       "      <td>27</td>\n",
       "      <td>3.217892e+02</td>\n",
       "      <td>3.331818e-60</td>\n",
       "    </tr>\n",
       "    <tr>\n",
       "      <td>28</td>\n",
       "      <td>2.368114e+02</td>\n",
       "      <td>1.521733e-42</td>\n",
       "    </tr>\n",
       "    <tr>\n",
       "      <td>29</td>\n",
       "      <td>4.382446e+02</td>\n",
       "      <td>1.084387e-84</td>\n",
       "    </tr>\n",
       "    <tr>\n",
       "      <td>30</td>\n",
       "      <td>3.000351e+02</td>\n",
       "      <td>1.162302e-55</td>\n",
       "    </tr>\n",
       "    <tr>\n",
       "      <td>31</td>\n",
       "      <td>1.180017e+02</td>\n",
       "      <td>1.547986e-18</td>\n",
       "    </tr>\n",
       "    <tr>\n",
       "      <td>32</td>\n",
       "      <td>1.458298e+02</td>\n",
       "      <td>4.895136e-24</td>\n",
       "    </tr>\n",
       "    <tr>\n",
       "      <td>33</td>\n",
       "      <td>4.039027e+02</td>\n",
       "      <td>1.909078e-77</td>\n",
       "    </tr>\n",
       "  </tbody>\n",
       "</table>\n",
       "</div>"
      ],
      "text/plain": [
       "               0              1\n",
       "0   5.551522e+06   0.000000e+00\n",
       "1   2.322366e+03   0.000000e+00\n",
       "2   1.550150e+01   3.447540e-01\n",
       "3   1.754608e+04   0.000000e+00\n",
       "4   6.257125e+01   4.133507e-08\n",
       "5   2.489824e+01   3.558534e-02\n",
       "6   7.346875e+02  1.011297e-147\n",
       "7   1.106669e+03  1.973347e-227\n",
       "8   4.023011e+02   4.152438e-77\n",
       "9   2.256408e+03   0.000000e+00\n",
       "10  2.875968e+01   1.126079e-02\n",
       "11  1.636305e+03   0.000000e+00\n",
       "12  1.128820e+01   6.632618e-01\n",
       "13  8.497276e+01   3.348462e-12\n",
       "14  3.890375e+03   0.000000e+00\n",
       "15  1.579727e+03   0.000000e+00\n",
       "16  5.667578e+01   4.451577e-07\n",
       "17  1.006592e+02   3.544879e-15\n",
       "18  1.605567e+02   5.483817e-27\n",
       "19  1.609174e+01   3.078039e-01\n",
       "20  2.589507e+02   4.034588e-47\n",
       "21  1.865465e+02   3.031725e-32\n",
       "22  1.047569e+02   5.775482e-16\n",
       "23  4.725957e+02   5.911504e-92\n",
       "24  4.505244e+01   4.000185e-05\n",
       "25  5.324976e+01   1.725038e-06\n",
       "26  1.405771e+02   5.447247e-23\n",
       "27  3.217892e+02   3.331818e-60\n",
       "28  2.368114e+02   1.521733e-42\n",
       "29  4.382446e+02   1.084387e-84\n",
       "30  3.000351e+02   1.162302e-55\n",
       "31  1.180017e+02   1.547986e-18\n",
       "32  1.458298e+02   4.895136e-24\n",
       "33  4.039027e+02   1.909078e-77"
      ]
     },
     "execution_count": 81,
     "metadata": {},
     "output_type": "execute_result"
    }
   ],
   "source": [
    "#    Here first array represents chi square values and second array represnts p-values\n",
    "chi_scores = chi2(X,y)\n",
    "pd.DataFrame(chi_scores).T"
   ]
  },
  {
   "cell_type": "code",
   "execution_count": 82,
   "metadata": {
    "colab": {},
    "colab_type": "code",
    "id": "yE_rMfr_FJTx"
   },
   "outputs": [],
   "source": [
    "p_values = pd.Series(chi_scores[1],index = X.columns)\n",
    "p_values.sort_values(ascending = False , inplace = True)"
   ]
  },
  {
   "cell_type": "code",
   "execution_count": 83,
   "metadata": {
    "colab": {
     "base_uri": "https://localhost:8080/",
     "height": 541
    },
    "colab_type": "code",
    "executionInfo": {
     "elapsed": 15863,
     "status": "ok",
     "timestamp": 1582328291768,
     "user": {
      "displayName": "Barry Xu",
      "photoUrl": "https://lh3.googleusercontent.com/a-/AAuE7mCv_JJ8qVD2k4nC_2blPyboV_YF9xsN7_IF90zs=s64",
      "userId": "17926533693346679715"
     },
     "user_tz": 300
    },
    "id": "d7MvDK6KFJTy",
    "outputId": "2d650b3f-b840-49e3-d408-fb440ffd1f34"
   },
   "outputs": [
    {
     "data": {
      "image/png": "[encoded data removed]",
      "text/plain": [
       "<Figure size 1080x504 with 1 Axes>"
      ]
     },
     "metadata": {
      "needs_background": "light"
     },
     "output_type": "display_data"
    }
   ],
   "source": [
    "plt.figure(figsize=(15,7))\n",
    "p_values.plot.bar()\n",
    "plt.xlabel('Features')\n",
    "plt.ylabel('P Values')\n",
    "plt.title('P Values for Each Feature')\n",
    "plt.show()"
   ]
  },
  {
   "cell_type": "markdown",
   "metadata": {
    "colab_type": "text",
    "id": "kIsrQnTKFJTz"
   },
   "source": [
    "        Chi-square function in Python will take two arguments as input: features and target, and the returned result will two arrays: first array represents the chi-square values and second one shows the corresponding p-values, these two values have inverse relationship: larger chi-square values have smaller p-values and vice versa. Features with high chi-square values have high dependence on the targets, so independent features have larger p values. From above graph, since 'study_platform', 'data_visual', 'title' , 'Money_spent' and 'gender' have higher p-value, it says that these five features are independent of the target and will not be considered for model training."
   ]
  },
  {
   "cell_type": "code",
   "execution_count": 84,
   "metadata": {
    "colab": {
     "base_uri": "https://localhost:8080/",
     "height": 439
    },
    "colab_type": "code",
    "executionInfo": {
     "elapsed": 15851,
     "status": "ok",
     "timestamp": 1582328291769,
     "user": {
      "displayName": "Barry Xu",
      "photoUrl": "https://lh3.googleusercontent.com/a-/AAuE7mCv_JJ8qVD2k4nC_2blPyboV_YF9xsN7_IF90zs=s64",
      "userId": "17926533693346679715"
     },
     "user_tz": 300
    },
    "id": "rKItsw6AFJT0",
    "outputId": "30605449-d56e-4bd8-8338-3f047f33cb43"
   },
   "outputs": [
    {
     "data": {
      "text/html": [
       "<div>\n",
       "<style scoped>\n",
       "    .dataframe tbody tr th:only-of-type {\n",
       "        vertical-align: middle;\n",
       "    }\n",
       "\n",
       "    .dataframe tbody tr th {\n",
       "        vertical-align: top;\n",
       "    }\n",
       "\n",
       "    .dataframe thead th {\n",
       "        text-align: right;\n",
       "    }\n",
       "</style>\n",
       "<table border=\"1\" class=\"dataframe\">\n",
       "  <thead>\n",
       "    <tr style=\"text-align: right;\">\n",
       "      <th></th>\n",
       "      <th>duration</th>\n",
       "      <th>age</th>\n",
       "      <th>country</th>\n",
       "      <th>education</th>\n",
       "      <th>company_size</th>\n",
       "      <th>number_of_worker</th>\n",
       "      <th>ML</th>\n",
       "      <th>activity</th>\n",
       "      <th>media_source</th>\n",
       "      <th>primary_tool</th>\n",
       "      <th>...</th>\n",
       "      <th>vision_cate</th>\n",
       "      <th>NLP</th>\n",
       "      <th>ML_frame</th>\n",
       "      <th>CC_platform</th>\n",
       "      <th>CC_prod</th>\n",
       "      <th>bigdata_prod</th>\n",
       "      <th>ML_prod</th>\n",
       "      <th>autoML</th>\n",
       "      <th>database</th>\n",
       "      <th>Labels</th>\n",
       "    </tr>\n",
       "  </thead>\n",
       "  <tbody>\n",
       "    <tr>\n",
       "      <td>0</td>\n",
       "      <td>510</td>\n",
       "      <td>1</td>\n",
       "      <td>15</td>\n",
       "      <td>3</td>\n",
       "      <td>3</td>\n",
       "      <td>0</td>\n",
       "      <td>0</td>\n",
       "      <td>0</td>\n",
       "      <td>2</td>\n",
       "      <td>0</td>\n",
       "      <td>...</td>\n",
       "      <td>0</td>\n",
       "      <td>0</td>\n",
       "      <td>1</td>\n",
       "      <td>0</td>\n",
       "      <td>0</td>\n",
       "      <td>0</td>\n",
       "      <td>0</td>\n",
       "      <td>0</td>\n",
       "      <td>0</td>\n",
       "      <td>3</td>\n",
       "    </tr>\n",
       "    <tr>\n",
       "      <td>1</td>\n",
       "      <td>423</td>\n",
       "      <td>5</td>\n",
       "      <td>20</td>\n",
       "      <td>5</td>\n",
       "      <td>4</td>\n",
       "      <td>6</td>\n",
       "      <td>3</td>\n",
       "      <td>5</td>\n",
       "      <td>0</td>\n",
       "      <td>0</td>\n",
       "      <td>...</td>\n",
       "      <td>0</td>\n",
       "      <td>0</td>\n",
       "      <td>0</td>\n",
       "      <td>0</td>\n",
       "      <td>0</td>\n",
       "      <td>0</td>\n",
       "      <td>0</td>\n",
       "      <td>0</td>\n",
       "      <td>0</td>\n",
       "      <td>0</td>\n",
       "    </tr>\n",
       "    <tr>\n",
       "      <td>2</td>\n",
       "      <td>391</td>\n",
       "      <td>5</td>\n",
       "      <td>2</td>\n",
       "      <td>3</td>\n",
       "      <td>4</td>\n",
       "      <td>6</td>\n",
       "      <td>0</td>\n",
       "      <td>4</td>\n",
       "      <td>2</td>\n",
       "      <td>1</td>\n",
       "      <td>...</td>\n",
       "      <td>2</td>\n",
       "      <td>0</td>\n",
       "      <td>4</td>\n",
       "      <td>1</td>\n",
       "      <td>2</td>\n",
       "      <td>2</td>\n",
       "      <td>1</td>\n",
       "      <td>1</td>\n",
       "      <td>1</td>\n",
       "      <td>14</td>\n",
       "    </tr>\n",
       "    <tr>\n",
       "      <td>3</td>\n",
       "      <td>392</td>\n",
       "      <td>1</td>\n",
       "      <td>20</td>\n",
       "      <td>0</td>\n",
       "      <td>0</td>\n",
       "      <td>0</td>\n",
       "      <td>1</td>\n",
       "      <td>0</td>\n",
       "      <td>1</td>\n",
       "      <td>0</td>\n",
       "      <td>...</td>\n",
       "      <td>0</td>\n",
       "      <td>0</td>\n",
       "      <td>4</td>\n",
       "      <td>0</td>\n",
       "      <td>0</td>\n",
       "      <td>0</td>\n",
       "      <td>0</td>\n",
       "      <td>0</td>\n",
       "      <td>0</td>\n",
       "      <td>0</td>\n",
       "    </tr>\n",
       "    <tr>\n",
       "      <td>4</td>\n",
       "      <td>470</td>\n",
       "      <td>7</td>\n",
       "      <td>15</td>\n",
       "      <td>3</td>\n",
       "      <td>0</td>\n",
       "      <td>2</td>\n",
       "      <td>3</td>\n",
       "      <td>4</td>\n",
       "      <td>6</td>\n",
       "      <td>0</td>\n",
       "      <td>...</td>\n",
       "      <td>1</td>\n",
       "      <td>2</td>\n",
       "      <td>6</td>\n",
       "      <td>1</td>\n",
       "      <td>1</td>\n",
       "      <td>1</td>\n",
       "      <td>1</td>\n",
       "      <td>1</td>\n",
       "      <td>2</td>\n",
       "      <td>6</td>\n",
       "    </tr>\n",
       "    <tr>\n",
       "      <td>...</td>\n",
       "      <td>...</td>\n",
       "      <td>...</td>\n",
       "      <td>...</td>\n",
       "      <td>...</td>\n",
       "      <td>...</td>\n",
       "      <td>...</td>\n",
       "      <td>...</td>\n",
       "      <td>...</td>\n",
       "      <td>...</td>\n",
       "      <td>...</td>\n",
       "      <td>...</td>\n",
       "      <td>...</td>\n",
       "      <td>...</td>\n",
       "      <td>...</td>\n",
       "      <td>...</td>\n",
       "      <td>...</td>\n",
       "      <td>...</td>\n",
       "      <td>...</td>\n",
       "      <td>...</td>\n",
       "      <td>...</td>\n",
       "      <td>...</td>\n",
       "    </tr>\n",
       "    <tr>\n",
       "      <td>12492</td>\n",
       "      <td>346</td>\n",
       "      <td>1</td>\n",
       "      <td>20</td>\n",
       "      <td>0</td>\n",
       "      <td>1</td>\n",
       "      <td>2</td>\n",
       "      <td>5</td>\n",
       "      <td>2</td>\n",
       "      <td>3</td>\n",
       "      <td>0</td>\n",
       "      <td>...</td>\n",
       "      <td>0</td>\n",
       "      <td>0</td>\n",
       "      <td>0</td>\n",
       "      <td>0</td>\n",
       "      <td>0</td>\n",
       "      <td>0</td>\n",
       "      <td>0</td>\n",
       "      <td>0</td>\n",
       "      <td>0</td>\n",
       "      <td>0</td>\n",
       "    </tr>\n",
       "    <tr>\n",
       "      <td>12493</td>\n",
       "      <td>88</td>\n",
       "      <td>2</td>\n",
       "      <td>3</td>\n",
       "      <td>4</td>\n",
       "      <td>2</td>\n",
       "      <td>1</td>\n",
       "      <td>5</td>\n",
       "      <td>0</td>\n",
       "      <td>3</td>\n",
       "      <td>0</td>\n",
       "      <td>...</td>\n",
       "      <td>0</td>\n",
       "      <td>0</td>\n",
       "      <td>0</td>\n",
       "      <td>0</td>\n",
       "      <td>0</td>\n",
       "      <td>0</td>\n",
       "      <td>0</td>\n",
       "      <td>0</td>\n",
       "      <td>0</td>\n",
       "      <td>0</td>\n",
       "    </tr>\n",
       "    <tr>\n",
       "      <td>12494</td>\n",
       "      <td>473</td>\n",
       "      <td>0</td>\n",
       "      <td>20</td>\n",
       "      <td>0</td>\n",
       "      <td>2</td>\n",
       "      <td>2</td>\n",
       "      <td>0</td>\n",
       "      <td>0</td>\n",
       "      <td>2</td>\n",
       "      <td>0</td>\n",
       "      <td>...</td>\n",
       "      <td>0</td>\n",
       "      <td>0</td>\n",
       "      <td>0</td>\n",
       "      <td>0</td>\n",
       "      <td>0</td>\n",
       "      <td>0</td>\n",
       "      <td>0</td>\n",
       "      <td>0</td>\n",
       "      <td>0</td>\n",
       "      <td>0</td>\n",
       "    </tr>\n",
       "    <tr>\n",
       "      <td>12495</td>\n",
       "      <td>176</td>\n",
       "      <td>2</td>\n",
       "      <td>20</td>\n",
       "      <td>3</td>\n",
       "      <td>1</td>\n",
       "      <td>5</td>\n",
       "      <td>4</td>\n",
       "      <td>0</td>\n",
       "      <td>3</td>\n",
       "      <td>0</td>\n",
       "      <td>...</td>\n",
       "      <td>0</td>\n",
       "      <td>0</td>\n",
       "      <td>0</td>\n",
       "      <td>0</td>\n",
       "      <td>0</td>\n",
       "      <td>0</td>\n",
       "      <td>0</td>\n",
       "      <td>0</td>\n",
       "      <td>0</td>\n",
       "      <td>0</td>\n",
       "    </tr>\n",
       "    <tr>\n",
       "      <td>12496</td>\n",
       "      <td>567</td>\n",
       "      <td>7</td>\n",
       "      <td>15</td>\n",
       "      <td>0</td>\n",
       "      <td>4</td>\n",
       "      <td>6</td>\n",
       "      <td>3</td>\n",
       "      <td>0</td>\n",
       "      <td>3</td>\n",
       "      <td>0</td>\n",
       "      <td>...</td>\n",
       "      <td>0</td>\n",
       "      <td>0</td>\n",
       "      <td>2</td>\n",
       "      <td>0</td>\n",
       "      <td>0</td>\n",
       "      <td>0</td>\n",
       "      <td>0</td>\n",
       "      <td>0</td>\n",
       "      <td>0</td>\n",
       "      <td>6</td>\n",
       "    </tr>\n",
       "  </tbody>\n",
       "</table>\n",
       "<p>12497 rows × 30 columns</p>\n",
       "</div>"
      ],
      "text/plain": [
       "       duration  age  country  education  company_size  number_of_worker  ML  \\\n",
       "0           510    1       15          3             3                 0   0   \n",
       "1           423    5       20          5             4                 6   3   \n",
       "2           391    5        2          3             4                 6   0   \n",
       "3           392    1       20          0             0                 0   1   \n",
       "4           470    7       15          3             0                 2   3   \n",
       "...         ...  ...      ...        ...           ...               ...  ..   \n",
       "12492       346    1       20          0             1                 2   5   \n",
       "12493        88    2        3          4             2                 1   5   \n",
       "12494       473    0       20          0             2                 2   0   \n",
       "12495       176    2       20          3             1                 5   4   \n",
       "12496       567    7       15          0             4                 6   3   \n",
       "\n",
       "       activity  media_source  primary_tool  ...  vision_cate  NLP  ML_frame  \\\n",
       "0             0             2             0  ...            0    0         1   \n",
       "1             5             0             0  ...            0    0         0   \n",
       "2             4             2             1  ...            2    0         4   \n",
       "3             0             1             0  ...            0    0         4   \n",
       "4             4             6             0  ...            1    2         6   \n",
       "...         ...           ...           ...  ...          ...  ...       ...   \n",
       "12492         2             3             0  ...            0    0         0   \n",
       "12493         0             3             0  ...            0    0         0   \n",
       "12494         0             2             0  ...            0    0         0   \n",
       "12495         0             3             0  ...            0    0         0   \n",
       "12496         0             3             0  ...            0    0         2   \n",
       "\n",
       "       CC_platform  CC_prod  bigdata_prod  ML_prod  autoML  database  Labels  \n",
       "0                0        0             0        0       0         0       3  \n",
       "1                0        0             0        0       0         0       0  \n",
       "2                1        2             2        1       1         1      14  \n",
       "3                0        0             0        0       0         0       0  \n",
       "4                1        1             1        1       1         2       6  \n",
       "...            ...      ...           ...      ...     ...       ...     ...  \n",
       "12492            0        0             0        0       0         0       0  \n",
       "12493            0        0             0        0       0         0       0  \n",
       "12494            0        0             0        0       0         0       0  \n",
       "12495            0        0             0        0       0         0       0  \n",
       "12496            0        0             0        0       0         0       6  \n",
       "\n",
       "[12497 rows x 30 columns]"
      ]
     },
     "execution_count": 84,
     "metadata": {},
     "output_type": "execute_result"
    }
   ],
   "source": [
    "# drop recom_language and gender\n",
    "df.drop(['study_platform','data_visual','title' ,'Money_spent','gender'],axis=1,inplace=True)\n",
    "df"
   ]
  },
  {
   "cell_type": "markdown",
   "metadata": {
    "colab_type": "text",
    "id": "XTd-AQRlFJT1"
   },
   "source": [
    "# 4. Model Implementation"
   ]
  },
  {
   "cell_type": "markdown",
   "metadata": {},
   "source": [
    "        In this assignment, I used two methods of implementation and I found very similar results: one is using Logistic Regression diretly with built in parameter \"One-vs-Rest\" to predict multi-class labels; another one is using binary classifications for multiple times to predict ordinal multiclass targets. Both methods are implemented with 10 folds cross validations.\n",
    "        \n",
    "        1. OVR Built In: For Logistic regression, there are two built in parameters using in the multiclass classification: multinomial and One-vs-rest. OVR has separate classifiers to each classes. In this assignment, we have 15 classes in the salary prediction, therefore, there will be 15 separate binary classfiers in total to make the predictions, the class that gives the maximum probability score from each score function will be selected as the class. However, in multinational case it has only one same classifier and you will get a range of score values to each class.\n",
    "        \n",
    "        2. Ordinal Multi-class Classifications: I created a fucntion below called 'multi_class', some important logics are commented. The process is basically same as OVR, but the difference is the ordinal multiclass needs the multiple binary classification in orders. There are 15 classes in total, everytime I make the first n class targets as 0 and the rest as 1 to make binary predictions, then I use the probability of n classes to minus the results got from last step (n-1 targets as 0) to get the probabilty for the new class added; for class 14, the probability is just directly retrieved from class 1 in the last binary classifier. Then the probability for each observation is done, then the class with maximum probability for each observation is selected to finish the multi-class predictions.\n",
    "        \n",
    "        The accuracy in training data from two different methods are very similar, ordinal classification is slightly better than OVR as shown below. OVR achieved a mean accuracy of 34.559% with variance 0.03% and Ordinal Multi-class calssification achieved a mean accuracy 34.596% with a variance of 0.026%. The reason behind this may be OVR does not consider orders in the targets but order matters in this assignment, however, both accuracy are very low since the classes are too many to predict and Logistic Regression are not that good at it."
   ]
  },
  {
   "cell_type": "markdown",
   "metadata": {
    "colab_type": "text",
    "id": "BuzypCbLFJT1"
   },
   "source": [
    "### Accuracy by Using 'OVR' on training data"
   ]
  },
  {
   "cell_type": "code",
   "execution_count": 85,
   "metadata": {
    "colab": {},
    "colab_type": "code",
    "id": "Orgc-DP2FJT2"
   },
   "outputs": [],
   "source": [
    "y = df[\"Labels\"]\n",
    "X = df.drop('Labels',axis=1)"
   ]
  },
  {
   "cell_type": "code",
   "execution_count": 86,
   "metadata": {
    "colab": {
     "base_uri": "https://localhost:8080/",
     "height": 204
    },
    "colab_type": "code",
    "executionInfo": {
     "elapsed": 28268,
     "status": "ok",
     "timestamp": 1582328304231,
     "user": {
      "displayName": "Barry Xu",
      "photoUrl": "https://lh3.googleusercontent.com/a-/AAuE7mCv_JJ8qVD2k4nC_2blPyboV_YF9xsN7_IF90zs=s64",
      "userId": "17926533693346679715"
     },
     "user_tz": 300
    },
    "id": "nenWgfNUFJT4",
    "outputId": "006b9ad1-11a2-44bd-c3dc-90722cd581b8"
   },
   "outputs": [
    {
     "name": "stdout",
     "output_type": "stream",
     "text": [
      "Fold 1: Accuracy: 34.658%\n",
      "Fold 2: Accuracy: 34.454%\n",
      "Fold 3: Accuracy: 34.498%\n",
      "Fold 4: Accuracy: 34.711%\n",
      "Fold 5: Accuracy: 34.64%\n",
      "Fold 6: Accuracy: 34.258%\n",
      "Fold 7: Accuracy: 34.596%\n",
      "Fold 8: Accuracy: 34.282%\n",
      "Fold 9: Accuracy: 34.691%\n",
      "Fold 10: Accuracy: 34.806%\n",
      "Average Score: 34.559%(0.03%)\n"
     ]
    }
   ],
   "source": [
    "clf = LogisticRegression(multi_class='ovr')\n",
    "scaler = StandardScaler()\n",
    "kfold = KFold(n_splits=10,random_state=42,shuffle=True)  # 10 folds cross validation with shuffle to increase randomness\n",
    "kfold.get_n_splits(X)\n",
    "accuracy = np.zeros(10)\n",
    "np_idx = 0\n",
    "\n",
    "for train_idx, test_idx in kfold.split(X):\n",
    "    X_train, X_test = X.values[train_idx], X.values[test_idx]\n",
    "    y_train, y_test = y.values[train_idx], y.values[test_idx]\n",
    "    \n",
    "    X_train = scaler.fit_transform(X_train) #standardize training and test features\n",
    "    X_test = scaler.transform(X_test)\n",
    "    \n",
    "    clf.fit(X_train, y_train)  #fit training data\n",
    "    \n",
    "    predictions = clf.predict(X_train)  # predict labels from training data\n",
    "    \n",
    "    ACC = accuracy_score(y_train,predictions)*100   # get the classification accuracy\n",
    "    \n",
    "    accuracy[np_idx] = ACC\n",
    "    \n",
    "    np_idx += 1\n",
    "    \n",
    "    print (\"Fold {}: Accuracy: {}%\".format(np_idx, round(ACC,3)))   \n",
    "\n",
    "print (\"Average Score: {}%({}%)\".format(round(np.mean(accuracy),3),round(np.var(accuracy),3)))"
   ]
  },
  {
   "cell_type": "markdown",
   "metadata": {},
   "source": [
    "        There is no certain pattern in the trainin accuracy in the 10 folds of cross validation and the accuracy have very small variance (0.03%), this is because I used Shuffle during each fold and it may increase the randomness in the dataset so that accuracy are very similar."
   ]
  },
  {
   "cell_type": "markdown",
   "metadata": {},
   "source": [
    "### Prediction Probability Dataframe with OVR Build In"
   ]
  },
  {
   "cell_type": "code",
   "execution_count": 87,
   "metadata": {},
   "outputs": [
    {
     "data": {
      "text/html": [
       "<div>\n",
       "<style scoped>\n",
       "    .dataframe tbody tr th:only-of-type {\n",
       "        vertical-align: middle;\n",
       "    }\n",
       "\n",
       "    .dataframe tbody tr th {\n",
       "        vertical-align: top;\n",
       "    }\n",
       "\n",
       "    .dataframe thead th {\n",
       "        text-align: right;\n",
       "    }\n",
       "</style>\n",
       "<table border=\"1\" class=\"dataframe\">\n",
       "  <thead>\n",
       "    <tr style=\"text-align: right;\">\n",
       "      <th></th>\n",
       "      <th>0</th>\n",
       "      <th>1</th>\n",
       "      <th>2</th>\n",
       "      <th>3</th>\n",
       "      <th>4</th>\n",
       "      <th>5</th>\n",
       "      <th>6</th>\n",
       "      <th>7</th>\n",
       "      <th>8</th>\n",
       "      <th>9</th>\n",
       "      <th>10</th>\n",
       "      <th>11</th>\n",
       "      <th>12</th>\n",
       "      <th>13</th>\n",
       "      <th>14</th>\n",
       "    </tr>\n",
       "  </thead>\n",
       "  <tbody>\n",
       "    <tr>\n",
       "      <td>0</td>\n",
       "      <td>0.460292</td>\n",
       "      <td>0.171732</td>\n",
       "      <td>0.093316</td>\n",
       "      <td>0.063888</td>\n",
       "      <td>0.045426</td>\n",
       "      <td>0.061543</td>\n",
       "      <td>0.026177</td>\n",
       "      <td>0.024200</td>\n",
       "      <td>0.019641</td>\n",
       "      <td>0.012375</td>\n",
       "      <td>0.015030</td>\n",
       "      <td>0.004946</td>\n",
       "      <td>0.000677</td>\n",
       "      <td>0.000200</td>\n",
       "      <td>0.000559</td>\n",
       "    </tr>\n",
       "    <tr>\n",
       "      <td>1</td>\n",
       "      <td>0.125298</td>\n",
       "      <td>0.130710</td>\n",
       "      <td>0.097918</td>\n",
       "      <td>0.059075</td>\n",
       "      <td>0.055449</td>\n",
       "      <td>0.078014</td>\n",
       "      <td>0.066294</td>\n",
       "      <td>0.055959</td>\n",
       "      <td>0.049680</td>\n",
       "      <td>0.060427</td>\n",
       "      <td>0.072287</td>\n",
       "      <td>0.029571</td>\n",
       "      <td>0.021869</td>\n",
       "      <td>0.020315</td>\n",
       "      <td>0.077134</td>\n",
       "    </tr>\n",
       "    <tr>\n",
       "      <td>2</td>\n",
       "      <td>0.170033</td>\n",
       "      <td>0.147584</td>\n",
       "      <td>0.126291</td>\n",
       "      <td>0.050609</td>\n",
       "      <td>0.070748</td>\n",
       "      <td>0.107267</td>\n",
       "      <td>0.069452</td>\n",
       "      <td>0.066188</td>\n",
       "      <td>0.048077</td>\n",
       "      <td>0.036192</td>\n",
       "      <td>0.054675</td>\n",
       "      <td>0.014457</td>\n",
       "      <td>0.004705</td>\n",
       "      <td>0.001702</td>\n",
       "      <td>0.032020</td>\n",
       "    </tr>\n",
       "    <tr>\n",
       "      <td>3</td>\n",
       "      <td>0.593139</td>\n",
       "      <td>0.149365</td>\n",
       "      <td>0.065098</td>\n",
       "      <td>0.034693</td>\n",
       "      <td>0.042336</td>\n",
       "      <td>0.039241</td>\n",
       "      <td>0.023953</td>\n",
       "      <td>0.020191</td>\n",
       "      <td>0.011391</td>\n",
       "      <td>0.006893</td>\n",
       "      <td>0.008851</td>\n",
       "      <td>0.003116</td>\n",
       "      <td>0.000914</td>\n",
       "      <td>0.000361</td>\n",
       "      <td>0.000458</td>\n",
       "    </tr>\n",
       "    <tr>\n",
       "      <td>4</td>\n",
       "      <td>0.220867</td>\n",
       "      <td>0.091764</td>\n",
       "      <td>0.077704</td>\n",
       "      <td>0.079955</td>\n",
       "      <td>0.061350</td>\n",
       "      <td>0.052601</td>\n",
       "      <td>0.050434</td>\n",
       "      <td>0.041656</td>\n",
       "      <td>0.047240</td>\n",
       "      <td>0.045280</td>\n",
       "      <td>0.076647</td>\n",
       "      <td>0.056912</td>\n",
       "      <td>0.064726</td>\n",
       "      <td>0.016628</td>\n",
       "      <td>0.016235</td>\n",
       "    </tr>\n",
       "    <tr>\n",
       "      <td>...</td>\n",
       "      <td>...</td>\n",
       "      <td>...</td>\n",
       "      <td>...</td>\n",
       "      <td>...</td>\n",
       "      <td>...</td>\n",
       "      <td>...</td>\n",
       "      <td>...</td>\n",
       "      <td>...</td>\n",
       "      <td>...</td>\n",
       "      <td>...</td>\n",
       "      <td>...</td>\n",
       "      <td>...</td>\n",
       "      <td>...</td>\n",
       "      <td>...</td>\n",
       "      <td>...</td>\n",
       "    </tr>\n",
       "    <tr>\n",
       "      <td>11243</td>\n",
       "      <td>0.468156</td>\n",
       "      <td>0.132862</td>\n",
       "      <td>0.078283</td>\n",
       "      <td>0.059704</td>\n",
       "      <td>0.032577</td>\n",
       "      <td>0.049526</td>\n",
       "      <td>0.039233</td>\n",
       "      <td>0.040053</td>\n",
       "      <td>0.029287</td>\n",
       "      <td>0.025414</td>\n",
       "      <td>0.024883</td>\n",
       "      <td>0.008429</td>\n",
       "      <td>0.004468</td>\n",
       "      <td>0.001103</td>\n",
       "      <td>0.006021</td>\n",
       "    </tr>\n",
       "    <tr>\n",
       "      <td>11244</td>\n",
       "      <td>0.506519</td>\n",
       "      <td>0.135252</td>\n",
       "      <td>0.076467</td>\n",
       "      <td>0.065662</td>\n",
       "      <td>0.051728</td>\n",
       "      <td>0.048005</td>\n",
       "      <td>0.045801</td>\n",
       "      <td>0.022132</td>\n",
       "      <td>0.016927</td>\n",
       "      <td>0.011895</td>\n",
       "      <td>0.012588</td>\n",
       "      <td>0.002753</td>\n",
       "      <td>0.001842</td>\n",
       "      <td>0.000918</td>\n",
       "      <td>0.001509</td>\n",
       "    </tr>\n",
       "    <tr>\n",
       "      <td>11245</td>\n",
       "      <td>0.610365</td>\n",
       "      <td>0.143421</td>\n",
       "      <td>0.083267</td>\n",
       "      <td>0.051217</td>\n",
       "      <td>0.027191</td>\n",
       "      <td>0.029729</td>\n",
       "      <td>0.019130</td>\n",
       "      <td>0.006733</td>\n",
       "      <td>0.006592</td>\n",
       "      <td>0.010109</td>\n",
       "      <td>0.006861</td>\n",
       "      <td>0.003560</td>\n",
       "      <td>0.000924</td>\n",
       "      <td>0.000144</td>\n",
       "      <td>0.000757</td>\n",
       "    </tr>\n",
       "    <tr>\n",
       "      <td>11246</td>\n",
       "      <td>0.553193</td>\n",
       "      <td>0.107109</td>\n",
       "      <td>0.078014</td>\n",
       "      <td>0.044307</td>\n",
       "      <td>0.050082</td>\n",
       "      <td>0.034940</td>\n",
       "      <td>0.041998</td>\n",
       "      <td>0.021969</td>\n",
       "      <td>0.017331</td>\n",
       "      <td>0.013198</td>\n",
       "      <td>0.018489</td>\n",
       "      <td>0.006916</td>\n",
       "      <td>0.004748</td>\n",
       "      <td>0.002810</td>\n",
       "      <td>0.004897</td>\n",
       "    </tr>\n",
       "    <tr>\n",
       "      <td>11247</td>\n",
       "      <td>0.103823</td>\n",
       "      <td>0.107996</td>\n",
       "      <td>0.108040</td>\n",
       "      <td>0.054413</td>\n",
       "      <td>0.087038</td>\n",
       "      <td>0.097421</td>\n",
       "      <td>0.082134</td>\n",
       "      <td>0.067343</td>\n",
       "      <td>0.072217</td>\n",
       "      <td>0.071492</td>\n",
       "      <td>0.079534</td>\n",
       "      <td>0.025692</td>\n",
       "      <td>0.013303</td>\n",
       "      <td>0.005383</td>\n",
       "      <td>0.024171</td>\n",
       "    </tr>\n",
       "  </tbody>\n",
       "</table>\n",
       "<p>11248 rows × 15 columns</p>\n",
       "</div>"
      ],
      "text/plain": [
       "              0         1         2         3         4         5         6  \\\n",
       "0      0.460292  0.171732  0.093316  0.063888  0.045426  0.061543  0.026177   \n",
       "1      0.125298  0.130710  0.097918  0.059075  0.055449  0.078014  0.066294   \n",
       "2      0.170033  0.147584  0.126291  0.050609  0.070748  0.107267  0.069452   \n",
       "3      0.593139  0.149365  0.065098  0.034693  0.042336  0.039241  0.023953   \n",
       "4      0.220867  0.091764  0.077704  0.079955  0.061350  0.052601  0.050434   \n",
       "...         ...       ...       ...       ...       ...       ...       ...   \n",
       "11243  0.468156  0.132862  0.078283  0.059704  0.032577  0.049526  0.039233   \n",
       "11244  0.506519  0.135252  0.076467  0.065662  0.051728  0.048005  0.045801   \n",
       "11245  0.610365  0.143421  0.083267  0.051217  0.027191  0.029729  0.019130   \n",
       "11246  0.553193  0.107109  0.078014  0.044307  0.050082  0.034940  0.041998   \n",
       "11247  0.103823  0.107996  0.108040  0.054413  0.087038  0.097421  0.082134   \n",
       "\n",
       "              7         8         9        10        11        12        13  \\\n",
       "0      0.024200  0.019641  0.012375  0.015030  0.004946  0.000677  0.000200   \n",
       "1      0.055959  0.049680  0.060427  0.072287  0.029571  0.021869  0.020315   \n",
       "2      0.066188  0.048077  0.036192  0.054675  0.014457  0.004705  0.001702   \n",
       "3      0.020191  0.011391  0.006893  0.008851  0.003116  0.000914  0.000361   \n",
       "4      0.041656  0.047240  0.045280  0.076647  0.056912  0.064726  0.016628   \n",
       "...         ...       ...       ...       ...       ...       ...       ...   \n",
       "11243  0.040053  0.029287  0.025414  0.024883  0.008429  0.004468  0.001103   \n",
       "11244  0.022132  0.016927  0.011895  0.012588  0.002753  0.001842  0.000918   \n",
       "11245  0.006733  0.006592  0.010109  0.006861  0.003560  0.000924  0.000144   \n",
       "11246  0.021969  0.017331  0.013198  0.018489  0.006916  0.004748  0.002810   \n",
       "11247  0.067343  0.072217  0.071492  0.079534  0.025692  0.013303  0.005383   \n",
       "\n",
       "             14  \n",
       "0      0.000559  \n",
       "1      0.077134  \n",
       "2      0.032020  \n",
       "3      0.000458  \n",
       "4      0.016235  \n",
       "...         ...  \n",
       "11243  0.006021  \n",
       "11244  0.001509  \n",
       "11245  0.000757  \n",
       "11246  0.004897  \n",
       "11247  0.024171  \n",
       "\n",
       "[11248 rows x 15 columns]"
      ]
     },
     "execution_count": 87,
     "metadata": {},
     "output_type": "execute_result"
    }
   ],
   "source": [
    "pd.DataFrame(clf.predict_proba(X_train))"
   ]
  },
  {
   "cell_type": "markdown",
   "metadata": {
    "colab_type": "text",
    "id": "jnbvKPxfFJT5"
   },
   "source": [
    "### Accuracy by Multiple Binary Classifications on training data"
   ]
  },
  {
   "cell_type": "code",
   "execution_count": 88,
   "metadata": {},
   "outputs": [],
   "source": [
    "def multi_class_train(X_train, y_train,X_test,param):\n",
    "    \n",
    "    model = LogisticRegression(C=param) \n",
    "    prob_train = []\n",
    "    prob_0 = 0\n",
    "    \n",
    "    for i in range(14):\n",
    "        \n",
    "        if i != 13:\n",
    "\n",
    "            y_01 = list(map(lambda x: 0 if x <= i else 1, y_train)) # binary encoding\n",
    "            model.fit(X_train, y_01)\n",
    "            prob_minus = model.predict_proba(X_train)[:,0].reshape(len(X_train),1) # get the probabilities for class 0\n",
    "            prob_1 = prob_minus - prob_0 # get probability for this class by minusing last probability\n",
    "            prob_train.append(prob_1)\n",
    "            prob_0 = prob_minus # update prob_0\n",
    "        \n",
    "        else:  #last binary classfier\n",
    "            \n",
    "            y_01 = list(map(lambda x: 0 if x <= i else 1, y_train))\n",
    "            model.fit(X_train, y_01)\n",
    "            prob_minus = model.predict_proba(X_train)[:,0].reshape(len(X_train),1)\n",
    "            prob_14 = model.predict_proba(X_train)[:,1].reshape(len(X_train),1) #directly get probability for class 14\n",
    "            prob_1 = prob_minus - prob_0\n",
    "            prob_train.append(prob_1)\n",
    "            prob_train.append(prob_14)\n",
    "            \n",
    "    prob_train = np.array(prob_train).reshape(15,len(X_train)).T\n",
    "    \n",
    "    return prob_train"
   ]
  },
  {
   "cell_type": "code",
   "execution_count": 89,
   "metadata": {},
   "outputs": [
    {
     "name": "stdout",
     "output_type": "stream",
     "text": [
      "Fold 1: Accuracy: 34.587%\n",
      "Fold 2: Accuracy: 34.525%\n",
      "Fold 3: Accuracy: 34.667%\n",
      "Fold 4: Accuracy: 34.836%\n",
      "Fold 5: Accuracy: 34.711%\n",
      "Fold 6: Accuracy: 34.383%\n",
      "Fold 7: Accuracy: 34.649%\n",
      "Fold 8: Accuracy: 34.273%\n",
      "Fold 9: Accuracy: 34.584%\n",
      "Fold 10: Accuracy: 34.744%\n",
      "Average Score: 34.596%(0.026%)\n"
     ]
    }
   ],
   "source": [
    "clf = LogisticRegression()\n",
    "scaler = StandardScaler()\n",
    "kfold = KFold(n_splits=10,random_state=42,shuffle=True)\n",
    "kfold.get_n_splits(X)\n",
    "accuracy = np.zeros(10)\n",
    "np_idx = 0\n",
    "\n",
    "for train_idx, test_idx in kfold.split(X):\n",
    "    \n",
    "    X_train, X_test = X.values[train_idx], X.values[test_idx]\n",
    "    y_train, y_test = y.values[train_idx], y.values[test_idx]\n",
    "    \n",
    "    X_train = scaler.fit_transform(X_train)\n",
    "    X_test = scaler.transform(X_test)\n",
    "    \n",
    "    clf.fit(X_train, y_train)\n",
    "    \n",
    "    predictions = clf.predict(X_train)\n",
    "    \n",
    "    p_train = multi_class_train(X_train,y_train,X_test,1) #call function\n",
    "    \n",
    "    class_index = np.argmax(p_train,axis=1)  #get the class index by finding the maximum probability in each row\n",
    "    \n",
    "    ACC = accuracy_score(y_train,class_index)*100\n",
    "    \n",
    "    accuracy[np_idx] = ACC\n",
    "    \n",
    "    np_idx += 1\n",
    "    \n",
    "    print (\"Fold {}: Accuracy: {}%\".format(np_idx, round(ACC,3)))   \n",
    "print (\"Average Score: {}%({}%)\".format(round(np.mean(accuracy),3),round(np.var(accuracy),3)))"
   ]
  },
  {
   "cell_type": "markdown",
   "metadata": {},
   "source": [
    "### Prediction Probability Dataframe with Multiple Binary Classifications"
   ]
  },
  {
   "cell_type": "code",
   "execution_count": 90,
   "metadata": {},
   "outputs": [
    {
     "data": {
      "text/html": [
       "<div>\n",
       "<style scoped>\n",
       "    .dataframe tbody tr th:only-of-type {\n",
       "        vertical-align: middle;\n",
       "    }\n",
       "\n",
       "    .dataframe tbody tr th {\n",
       "        vertical-align: top;\n",
       "    }\n",
       "\n",
       "    .dataframe thead th {\n",
       "        text-align: right;\n",
       "    }\n",
       "</style>\n",
       "<table border=\"1\" class=\"dataframe\">\n",
       "  <thead>\n",
       "    <tr style=\"text-align: right;\">\n",
       "      <th></th>\n",
       "      <th>0</th>\n",
       "      <th>1</th>\n",
       "      <th>2</th>\n",
       "      <th>3</th>\n",
       "      <th>4</th>\n",
       "      <th>5</th>\n",
       "      <th>6</th>\n",
       "      <th>7</th>\n",
       "      <th>8</th>\n",
       "      <th>9</th>\n",
       "      <th>10</th>\n",
       "      <th>11</th>\n",
       "      <th>12</th>\n",
       "      <th>13</th>\n",
       "      <th>14</th>\n",
       "    </tr>\n",
       "  </thead>\n",
       "  <tbody>\n",
       "    <tr>\n",
       "      <td>0</td>\n",
       "      <td>0.552210</td>\n",
       "      <td>0.197084</td>\n",
       "      <td>0.088106</td>\n",
       "      <td>0.049341</td>\n",
       "      <td>0.032135</td>\n",
       "      <td>0.035076</td>\n",
       "      <td>0.015502</td>\n",
       "      <td>0.010959</td>\n",
       "      <td>0.007672</td>\n",
       "      <td>0.004484</td>\n",
       "      <td>0.004889</td>\n",
       "      <td>0.001592</td>\n",
       "      <td>0.000247</td>\n",
       "      <td>0.000032</td>\n",
       "      <td>0.000670</td>\n",
       "    </tr>\n",
       "    <tr>\n",
       "      <td>1</td>\n",
       "      <td>0.111505</td>\n",
       "      <td>0.092638</td>\n",
       "      <td>0.086990</td>\n",
       "      <td>0.059749</td>\n",
       "      <td>0.055549</td>\n",
       "      <td>0.085853</td>\n",
       "      <td>0.076707</td>\n",
       "      <td>0.070808</td>\n",
       "      <td>0.063891</td>\n",
       "      <td>0.075861</td>\n",
       "      <td>0.093661</td>\n",
       "      <td>0.032304</td>\n",
       "      <td>0.005867</td>\n",
       "      <td>0.019975</td>\n",
       "      <td>0.068643</td>\n",
       "    </tr>\n",
       "    <tr>\n",
       "      <td>2</td>\n",
       "      <td>0.144032</td>\n",
       "      <td>0.123082</td>\n",
       "      <td>0.130307</td>\n",
       "      <td>0.061587</td>\n",
       "      <td>0.085792</td>\n",
       "      <td>0.127303</td>\n",
       "      <td>0.084738</td>\n",
       "      <td>0.075348</td>\n",
       "      <td>0.051948</td>\n",
       "      <td>0.036948</td>\n",
       "      <td>0.048564</td>\n",
       "      <td>0.012982</td>\n",
       "      <td>-0.001549</td>\n",
       "      <td>-0.008204</td>\n",
       "      <td>0.027124</td>\n",
       "    </tr>\n",
       "    <tr>\n",
       "      <td>3</td>\n",
       "      <td>0.765278</td>\n",
       "      <td>0.108144</td>\n",
       "      <td>0.036552</td>\n",
       "      <td>0.017161</td>\n",
       "      <td>0.021936</td>\n",
       "      <td>0.018979</td>\n",
       "      <td>0.011393</td>\n",
       "      <td>0.007558</td>\n",
       "      <td>0.004384</td>\n",
       "      <td>0.002613</td>\n",
       "      <td>0.003357</td>\n",
       "      <td>0.001313</td>\n",
       "      <td>0.000485</td>\n",
       "      <td>0.000256</td>\n",
       "      <td>0.000591</td>\n",
       "    </tr>\n",
       "    <tr>\n",
       "      <td>4</td>\n",
       "      <td>0.181542</td>\n",
       "      <td>0.086078</td>\n",
       "      <td>0.082584</td>\n",
       "      <td>0.090308</td>\n",
       "      <td>0.070624</td>\n",
       "      <td>0.060239</td>\n",
       "      <td>0.059431</td>\n",
       "      <td>0.048002</td>\n",
       "      <td>0.057101</td>\n",
       "      <td>0.053625</td>\n",
       "      <td>0.077686</td>\n",
       "      <td>0.052950</td>\n",
       "      <td>0.052892</td>\n",
       "      <td>0.013595</td>\n",
       "      <td>0.013344</td>\n",
       "    </tr>\n",
       "    <tr>\n",
       "      <td>...</td>\n",
       "      <td>...</td>\n",
       "      <td>...</td>\n",
       "      <td>...</td>\n",
       "      <td>...</td>\n",
       "      <td>...</td>\n",
       "      <td>...</td>\n",
       "      <td>...</td>\n",
       "      <td>...</td>\n",
       "      <td>...</td>\n",
       "      <td>...</td>\n",
       "      <td>...</td>\n",
       "      <td>...</td>\n",
       "      <td>...</td>\n",
       "      <td>...</td>\n",
       "      <td>...</td>\n",
       "    </tr>\n",
       "    <tr>\n",
       "      <td>11243</td>\n",
       "      <td>0.498598</td>\n",
       "      <td>0.164305</td>\n",
       "      <td>0.086393</td>\n",
       "      <td>0.057575</td>\n",
       "      <td>0.026433</td>\n",
       "      <td>0.046058</td>\n",
       "      <td>0.035050</td>\n",
       "      <td>0.027655</td>\n",
       "      <td>0.018536</td>\n",
       "      <td>0.013956</td>\n",
       "      <td>0.012659</td>\n",
       "      <td>0.004383</td>\n",
       "      <td>0.002428</td>\n",
       "      <td>-0.000441</td>\n",
       "      <td>0.006412</td>\n",
       "    </tr>\n",
       "    <tr>\n",
       "      <td>11244</td>\n",
       "      <td>0.630220</td>\n",
       "      <td>0.139878</td>\n",
       "      <td>0.064676</td>\n",
       "      <td>0.047235</td>\n",
       "      <td>0.034391</td>\n",
       "      <td>0.028915</td>\n",
       "      <td>0.022494</td>\n",
       "      <td>0.009897</td>\n",
       "      <td>0.007232</td>\n",
       "      <td>0.004939</td>\n",
       "      <td>0.005290</td>\n",
       "      <td>0.001089</td>\n",
       "      <td>0.001029</td>\n",
       "      <td>0.000838</td>\n",
       "      <td>0.001878</td>\n",
       "    </tr>\n",
       "    <tr>\n",
       "      <td>11245</td>\n",
       "      <td>0.802015</td>\n",
       "      <td>0.095294</td>\n",
       "      <td>0.040863</td>\n",
       "      <td>0.020058</td>\n",
       "      <td>0.010118</td>\n",
       "      <td>0.011230</td>\n",
       "      <td>0.007280</td>\n",
       "      <td>0.001958</td>\n",
       "      <td>0.002599</td>\n",
       "      <td>0.003326</td>\n",
       "      <td>0.002490</td>\n",
       "      <td>0.001467</td>\n",
       "      <td>0.000483</td>\n",
       "      <td>-0.000175</td>\n",
       "      <td>0.000994</td>\n",
       "    </tr>\n",
       "    <tr>\n",
       "      <td>11246</td>\n",
       "      <td>0.611105</td>\n",
       "      <td>0.113819</td>\n",
       "      <td>0.074536</td>\n",
       "      <td>0.037158</td>\n",
       "      <td>0.041888</td>\n",
       "      <td>0.027766</td>\n",
       "      <td>0.031828</td>\n",
       "      <td>0.014892</td>\n",
       "      <td>0.011703</td>\n",
       "      <td>0.008714</td>\n",
       "      <td>0.011447</td>\n",
       "      <td>0.004060</td>\n",
       "      <td>0.002854</td>\n",
       "      <td>0.002820</td>\n",
       "      <td>0.005410</td>\n",
       "    </tr>\n",
       "    <tr>\n",
       "      <td>11247</td>\n",
       "      <td>0.084363</td>\n",
       "      <td>0.069353</td>\n",
       "      <td>0.088629</td>\n",
       "      <td>0.055919</td>\n",
       "      <td>0.090947</td>\n",
       "      <td>0.110818</td>\n",
       "      <td>0.099436</td>\n",
       "      <td>0.089122</td>\n",
       "      <td>0.088577</td>\n",
       "      <td>0.077764</td>\n",
       "      <td>0.085631</td>\n",
       "      <td>0.026506</td>\n",
       "      <td>0.010065</td>\n",
       "      <td>0.003229</td>\n",
       "      <td>0.019640</td>\n",
       "    </tr>\n",
       "  </tbody>\n",
       "</table>\n",
       "<p>11248 rows × 15 columns</p>\n",
       "</div>"
      ],
      "text/plain": [
       "              0         1         2         3         4         5         6  \\\n",
       "0      0.552210  0.197084  0.088106  0.049341  0.032135  0.035076  0.015502   \n",
       "1      0.111505  0.092638  0.086990  0.059749  0.055549  0.085853  0.076707   \n",
       "2      0.144032  0.123082  0.130307  0.061587  0.085792  0.127303  0.084738   \n",
       "3      0.765278  0.108144  0.036552  0.017161  0.021936  0.018979  0.011393   \n",
       "4      0.181542  0.086078  0.082584  0.090308  0.070624  0.060239  0.059431   \n",
       "...         ...       ...       ...       ...       ...       ...       ...   \n",
       "11243  0.498598  0.164305  0.086393  0.057575  0.026433  0.046058  0.035050   \n",
       "11244  0.630220  0.139878  0.064676  0.047235  0.034391  0.028915  0.022494   \n",
       "11245  0.802015  0.095294  0.040863  0.020058  0.010118  0.011230  0.007280   \n",
       "11246  0.611105  0.113819  0.074536  0.037158  0.041888  0.027766  0.031828   \n",
       "11247  0.084363  0.069353  0.088629  0.055919  0.090947  0.110818  0.099436   \n",
       "\n",
       "              7         8         9        10        11        12        13  \\\n",
       "0      0.010959  0.007672  0.004484  0.004889  0.001592  0.000247  0.000032   \n",
       "1      0.070808  0.063891  0.075861  0.093661  0.032304  0.005867  0.019975   \n",
       "2      0.075348  0.051948  0.036948  0.048564  0.012982 -0.001549 -0.008204   \n",
       "3      0.007558  0.004384  0.002613  0.003357  0.001313  0.000485  0.000256   \n",
       "4      0.048002  0.057101  0.053625  0.077686  0.052950  0.052892  0.013595   \n",
       "...         ...       ...       ...       ...       ...       ...       ...   \n",
       "11243  0.027655  0.018536  0.013956  0.012659  0.004383  0.002428 -0.000441   \n",
       "11244  0.009897  0.007232  0.004939  0.005290  0.001089  0.001029  0.000838   \n",
       "11245  0.001958  0.002599  0.003326  0.002490  0.001467  0.000483 -0.000175   \n",
       "11246  0.014892  0.011703  0.008714  0.011447  0.004060  0.002854  0.002820   \n",
       "11247  0.089122  0.088577  0.077764  0.085631  0.026506  0.010065  0.003229   \n",
       "\n",
       "             14  \n",
       "0      0.000670  \n",
       "1      0.068643  \n",
       "2      0.027124  \n",
       "3      0.000591  \n",
       "4      0.013344  \n",
       "...         ...  \n",
       "11243  0.006412  \n",
       "11244  0.001878  \n",
       "11245  0.000994  \n",
       "11246  0.005410  \n",
       "11247  0.019640  \n",
       "\n",
       "[11248 rows x 15 columns]"
      ]
     },
     "execution_count": 90,
     "metadata": {},
     "output_type": "execute_result"
    }
   ],
   "source": [
    "pd.DataFrame(p_train)"
   ]
  },
  {
   "cell_type": "code",
   "execution_count": 91,
   "metadata": {},
   "outputs": [
    {
     "data": {
      "text/plain": [
       "0.8976706970128022"
      ]
     },
     "execution_count": 91,
     "metadata": {},
     "output_type": "execute_result"
    }
   ],
   "source": [
    "# check number of predictions are same from two different method\n",
    "np.sum(predictions==class_index)/len(predictions)"
   ]
  },
  {
   "cell_type": "markdown",
   "metadata": {
    "colab_type": "text",
    "id": "7bMHjSTaFJUJ"
   },
   "source": [
    "### Bias-Variance Tradeoff"
   ]
  },
  {
   "cell_type": "markdown",
   "metadata": {},
   "source": [
    "        Prediction errors can be decomposed into three components: bias squared, variance and an irreducible error. Bias indicated how much predicted result differ from the true target, variance shows how predictions made on the same value vary on different realizations of the model. Bias-variance always related to the most serious problem in machine learning - overfitting, which means model is getting too complex to generalize in the new data and make predictions accurate. Overfitting will induce a low bias but a very high variance, and underfitting will cause a low variance but a very high bias. To visualize the bias-variance tradeoff in this assignment, I used multiple inverse regularization constants (C). C is a very important hyperparameter in logistic regression, it controls whether the model is too complex to generalize or too simple to capture important structures in the dataset, when C gets bigger, the penalty on large weights will be smaller, therefore, the model tends to getting more complex and vice versa for underfitting.\n",
    "        \n",
    "        I treat each different C in logistic regression as a new model to make predictions and record its bias and variance for every model. The detailed implementation is shown below. As we can see from the graph, when C is getting larger, variance is increasing and bias is decreasing which means: when the model has s small C, the regularization is very strong and penalty on large weights is very large and make the model to simple to describe certain structures inside the dataset, therefore, the prediction is very bad and bias will be very large; however, when C is getting larger, the regularization becomes weaker and model tends to get overfit which make the predictions very accurate but very variant with each other."
   ]
  },
  {
   "cell_type": "code",
   "execution_count": 92,
   "metadata": {
    "colab": {},
    "colab_type": "code",
    "id": "8LdAjgQ1FJUK"
   },
   "outputs": [],
   "source": [
    "def bias_compute(y_pred, y_test):\n",
    "    \n",
    "    y_pred = np.array(y_pred)\n",
    "    y_test = np.array(y_test)\n",
    "    avg1 = np.mean(y_pred)\n",
    "    avg2 = np.mean(y_test)\n",
    "    \n",
    "    return np.power((avg1 - avg2),2)#bias squared"
   ]
  },
  {
   "cell_type": "code",
   "execution_count": 93,
   "metadata": {
    "colab": {},
    "colab_type": "code",
    "id": "F0q7Tym1FJUM"
   },
   "outputs": [],
   "source": [
    "scaler = StandardScaler()\n",
    "kfold = KFold(n_splits=10,random_state=42,shuffle=True)\n",
    "kfold.get_n_splits(X)\n",
    "accuracy = np.zeros(10)\n",
    "np_idx = 0\n",
    "\n",
    "bias_list, var_list= [],[]\n",
    "C = [1e-4,1e-3,1e-2,1e-1,1,10]\n",
    "for c in C:    \n",
    "    \n",
    "        np_idx = 0\n",
    "        variance, bias = [],[]\n",
    "\n",
    "        clf = LogisticRegression(C=c,multi_class='ovr',solver='sag')\n",
    "        \n",
    "        for train_idx, test_idx in kfold.split(X):\n",
    "            X_train, X_test = X.values[train_idx], X.values[test_idx]\n",
    "            y_train, y_test = y.values[train_idx], y.values[test_idx]\n",
    "\n",
    "            X_train = scaler.fit_transform(X_train)\n",
    "            X_test = scaler.fit_transform(X_test)\n",
    "            \n",
    "            clf.fit(X_train, y_train)\n",
    "            pred = clf.predict(X_train)\n",
    "            \n",
    "            bias.append(bias_compute(pred,y_train))\n",
    "            variance.append(np.var(pred))\n",
    "            \n",
    "        bias_list.append(np.average(bias))\n",
    "        var_list = np.append(var_list, np.average(variance))"
   ]
  },
  {
   "cell_type": "code",
   "execution_count": 94,
   "metadata": {
    "colab": {},
    "colab_type": "code",
    "id": "FOMImFcBFJUN",
    "outputId": "356c9141-d620-4e9f-e6b9-4769ce55fa32"
   },
   "outputs": [
    {
     "data": {
      "image/png": "[encoded data removed]",
      "text/plain": [
       "<Figure size 1080x504 with 1 Axes>"
      ]
     },
     "metadata": {
      "needs_background": "light"
     },
     "output_type": "display_data"
    }
   ],
   "source": [
    "plt.figure(figsize=(15,7))\n",
    "plt.plot(C, bias_list, color=\"r\",label=\"Bias\",linewidth = 2)\n",
    "plt.plot(C, var_list, color=\"g\", label=\"Variance\", linewidth = 2)\n",
    "plt.plot(C, var_list, color=\"g\", label=\"Variance\", linewidth = 2)\n",
    "plt.semilogx()\n",
    "plt.legend()\n",
    "plt.title(\"Bias-Variance Trade Off\")\n",
    "plt.xlabel('Model Complexity')\n",
    "plt.ylabel('Error')\n",
    "plt.show()"
   ]
  },
  {
   "cell_type": "markdown",
   "metadata": {
    "colab_type": "text",
    "id": "EVRp1iT2FJUS"
   },
   "source": [
    "# 5. Model Tuning"
   ]
  },
  {
   "cell_type": "markdown",
   "metadata": {},
   "source": [
    "        By comparing Multiple Binary Classification method and OVR built in method, we conclude the similar results. Therefore, I will use OVR built in method in hyperparameter tuning for convenience. For regularizer, I used default L2 regularizer since it can penalize more on large weights and it is differentiable in the case of gradient descent which is preferred; for multi_class, I used OVR to perform one-vs-rest algorithm. Therefore, there are two parameters to tune in this case: C is 'Inverse of regularization strength' which must be a positive float. Smaller values of C specify stronger regularization which make the model more simple and vice versa; solver can be tuned to change the optimization algorithm, for multiclass problems, only ‘newton-cg’, ‘sag’, ‘saga’ and ‘lbfgs’ can be used for both OVR and L2 regularization."
   ]
  },
  {
   "cell_type": "code",
   "execution_count": 95,
   "metadata": {
    "colab": {},
    "colab_type": "code",
    "id": "6cYCAj13FJUT"
   },
   "outputs": [],
   "source": [
    "clf = LogisticRegression(penalty='l2',multi_class='ovr',solver='sag',max_iter=1000)"
   ]
  },
  {
   "cell_type": "code",
   "execution_count": 96,
   "metadata": {
    "colab": {},
    "colab_type": "code",
    "id": "us29oo_LFJUU"
   },
   "outputs": [],
   "source": [
    "# create dictionary for tunable parameters\n",
    "param = {'penalty':['l2'],\n",
    "        'C':[0.001,0.01,0.1,0.5,1,5,10,100],\n",
    "        'solver':['newton-cg','saga','sag','lbfgs'],\n",
    "        'multi_class':['ovr']}"
   ]
  },
  {
   "cell_type": "markdown",
   "metadata": {},
   "source": [
    "### GridSearchCV()"
   ]
  },
  {
   "cell_type": "markdown",
   "metadata": {},
   "source": [
    "        By using GridSearchCV, I can try different combinations of predfined parameters with cross-validation, it can directly return the best parameters could be used in this model. A scoring metric must be defined in order to compare each model, in this problem, accuracy will be used for classification problems, it is same as accuracy_score function used in above evaluations. GridSearchCV model is fitted in the training data to get the model with highest accuracy score."
   ]
  },
  {
   "cell_type": "code",
   "execution_count": 97,
   "metadata": {
    "colab": {},
    "colab_type": "code",
    "id": "Tw2V8xccFJUV"
   },
   "outputs": [],
   "source": [
    "grid_clf = GridSearchCV(clf, param_grid=param, cv=10, scoring='accuracy')\n",
    "best_model = grid_clf.fit(X_train,y_train)"
   ]
  },
  {
   "cell_type": "code",
   "execution_count": 98,
   "metadata": {
    "colab": {},
    "colab_type": "code",
    "id": "o1r0I7CKFJUW",
    "outputId": "699088ae-9f45-44d4-d3f4-23011f53fa47"
   },
   "outputs": [
    {
     "data": {
      "text/plain": [
       "{'C': 0.1,\n",
       " 'class_weight': None,\n",
       " 'dual': False,\n",
       " 'fit_intercept': True,\n",
       " 'intercept_scaling': 1,\n",
       " 'l1_ratio': None,\n",
       " 'max_iter': 1000,\n",
       " 'multi_class': 'ovr',\n",
       " 'n_jobs': None,\n",
       " 'penalty': 'l2',\n",
       " 'random_state': None,\n",
       " 'solver': 'newton-cg',\n",
       " 'tol': 0.0001,\n",
       " 'verbose': 0,\n",
       " 'warm_start': False}"
      ]
     },
     "execution_count": 98,
     "metadata": {},
     "output_type": "execute_result"
    }
   ],
   "source": [
    "best_model.best_estimator_.get_params()"
   ]
  },
  {
   "cell_type": "markdown",
   "metadata": {},
   "source": [
    "# 6. Testing and Discussion"
   ]
  },
  {
   "cell_type": "markdown",
   "metadata": {},
   "source": [
    "        Best model is returned by GridSearchCV and used to make predictions on test dataset. Cross-validation is also used to get more accurate results, we can see the average accuracy for test data is lower than the training accuracy but the difference is not too big.(33.848% vs. 34.541%). Both OVR built in and multiple binary classifications achieved very similar accuracy results as shown below."
   ]
  },
  {
   "cell_type": "markdown",
   "metadata": {},
   "source": [
    "### OVR built in"
   ]
  },
  {
   "cell_type": "code",
   "execution_count": 99,
   "metadata": {},
   "outputs": [
    {
     "name": "stdout",
     "output_type": "stream",
     "text": [
      "Fold 1: Accuracy: 32.96%\n",
      "Fold 2: Accuracy: 35.12%\n",
      "Fold 3: Accuracy: 34.0%\n",
      "Fold 4: Accuracy: 32.32%\n",
      "Fold 5: Accuracy: 33.76%\n",
      "Fold 6: Accuracy: 35.6%\n",
      "Fold 7: Accuracy: 32.56%\n",
      "Fold 8: Accuracy: 36.189%\n",
      "Fold 9: Accuracy: 34.428%\n",
      "Fold 10: Accuracy: 32.346%\n",
      "Average Score: 33.928%(1.751%)\n"
     ]
    }
   ],
   "source": [
    "best_clf = LogisticRegression(C=0.1,penalty='l2',solver='newton-cg',multi_class='ovr')\n",
    "scaler = StandardScaler()\n",
    "kfold = KFold(n_splits=10,random_state=42,shuffle=True)\n",
    "kfold.get_n_splits(X)\n",
    "accuracy = np.zeros(10)\n",
    "np_idx = 0\n",
    "\n",
    "for train_idx, test_idx in kfold.split(X):\n",
    "    X_train, X_test = X.values[train_idx], X.values[test_idx]\n",
    "    y_train, y_test = y.values[train_idx], y.values[test_idx]\n",
    "    \n",
    "    X_train = scaler.fit_transform(X_train)\n",
    "    X_test = scaler.transform(X_test)\n",
    "    \n",
    "    best_clf.fit(X_train, y_train)\n",
    "    \n",
    "    predictions = best_clf.predict(X_test)\n",
    "    \n",
    "    ACC = accuracy_score(y_test,predictions)*100\n",
    "    \n",
    "    accuracy[np_idx] = ACC\n",
    "    \n",
    "    np_idx += 1\n",
    "    \n",
    "    print (\"Fold {}: Accuracy: {}%\".format(np_idx, round(ACC,3)))   \n",
    "\n",
    "print (\"Average Score: {}%({}%)\".format(round(np.mean(accuracy),3),round(np.var(accuracy),3)))"
   ]
  },
  {
   "cell_type": "markdown",
   "metadata": {},
   "source": [
    "### Multiple Binary Classfications"
   ]
  },
  {
   "cell_type": "code",
   "execution_count": 100,
   "metadata": {},
   "outputs": [],
   "source": [
    "def multi_class_test(X_train, y_train,X_test,param):\n",
    "    \n",
    "    model = LogisticRegression(C=param) \n",
    "    prob_test = []\n",
    "    prob_0 = 0\n",
    "    \n",
    "    for i in range(14):\n",
    "        \n",
    "        if i != 13:\n",
    "\n",
    "            y_01 = list(map(lambda x: 0 if x <= i else 1, y_train)) # binary encoding\n",
    "            model.fit(X_train, y_01)\n",
    "            prob_minus = model.predict_proba(X_test)[:,0].reshape(len(X_test),1) # get the probabilities for class 0\n",
    "            prob_1 = prob_minus - prob_0 # get probability for this class by minusing last probability\n",
    "            prob_test.append(prob_1)\n",
    "            prob_0 = prob_minus # update prob_0\n",
    "        \n",
    "        else:\n",
    "            \n",
    "            y_01 = list(map(lambda x: 0 if x <= i else 1, y_train))\n",
    "            model.fit(X_train, y_01)\n",
    "            prob_minus = model.predict_proba(X_test)[:,0].reshape(len(X_test),1)\n",
    "            prob_14 = model.predict_proba(X_test)[:,1].reshape(len(X_test),1)\n",
    "            prob_1 = prob_minus - prob_0\n",
    "            prob_test.append(prob_1)\n",
    "            prob_test.append(prob_14)\n",
    "            \n",
    "    prob_test = np.array(prob_test).reshape(15,len(X_test)).T\n",
    "    \n",
    "    return prob_test"
   ]
  },
  {
   "cell_type": "code",
   "execution_count": 101,
   "metadata": {},
   "outputs": [
    {
     "name": "stdout",
     "output_type": "stream",
     "text": [
      "Fold 1: Accuracy: 33.52%\n",
      "Fold 2: Accuracy: 35.36%\n",
      "Fold 3: Accuracy: 32.96%\n",
      "Fold 4: Accuracy: 32.4%\n",
      "Fold 5: Accuracy: 33.92%\n",
      "Fold 6: Accuracy: 34.96%\n",
      "Fold 7: Accuracy: 33.6%\n",
      "Fold 8: Accuracy: 36.429%\n",
      "Fold 9: Accuracy: 34.107%\n",
      "Fold 10: Accuracy: 33.066%\n",
      "Average Score: 34.032%(1.358%)\n"
     ]
    }
   ],
   "source": [
    "clf = LogisticRegression(C=0.1,penalty='l2',solver='newton-cg',multi_class='ovr')\n",
    "scaler = StandardScaler()\n",
    "kfold = KFold(n_splits=10,random_state=42,shuffle=True)\n",
    "kfold.get_n_splits(X)\n",
    "accuracy = np.zeros(10)\n",
    "np_idx = 0\n",
    "\n",
    "for train_idx, test_idx in kfold.split(X):\n",
    "    \n",
    "    X_train, X_test = X.values[train_idx], X.values[test_idx]\n",
    "    y_train, y_test = y.values[train_idx], y.values[test_idx]\n",
    "    \n",
    "    X_train = scaler.fit_transform(X_train)\n",
    "    X_test = scaler.transform(X_test)\n",
    "    \n",
    "    clf.fit(X_train, y_train)\n",
    "    \n",
    "    predictions = clf.predict(X_train)\n",
    "    \n",
    "    p_test = multi_class_test(X_train,y_train,X_test,0.1) #call function\n",
    "    \n",
    "    class_index_test = np.argmax(p_test,axis=1)\n",
    "    \n",
    "    ACC = accuracy_score(y_test,class_index_test)*100\n",
    "    \n",
    "    accuracy[np_idx] = ACC\n",
    "    \n",
    "    np_idx += 1\n",
    "    \n",
    "    print (\"Fold {}: Accuracy: {}%\".format(np_idx, round(ACC,3)))   \n",
    "print (\"Average Score: {}%({}%)\".format(round(np.mean(accuracy),3),round(np.var(accuracy),3)))"
   ]
  },
  {
   "cell_type": "markdown",
   "metadata": {},
   "source": [
    "### Distribution of Predictions and Targets"
   ]
  },
  {
   "cell_type": "markdown",
   "metadata": {},
   "source": [
    "        By looking at the number of each class in both predictions and targets. For Target distribution, we can see every class has some observations, however, this is not happening in Prediction distribution, we can clearly see the predictions do not inlcude classes 1, 3, 4, 5, 6, 13 and 14, most of the predictions are on the Class 0 since class 0 has the most number of observations (32% as shown below) in the entire dataset and the model may be getting biased to class 0 and make bad predictions on other classes."
   ]
  },
  {
   "cell_type": "code",
   "execution_count": 102,
   "metadata": {},
   "outputs": [
    {
     "data": {
      "text/plain": [
       "0.323277586620789"
      ]
     },
     "execution_count": 102,
     "metadata": {},
     "output_type": "execute_result"
    }
   ],
   "source": [
    "len(df[df[\"Labels\"]==0])/len(df)"
   ]
  },
  {
   "cell_type": "code",
   "execution_count": 103,
   "metadata": {},
   "outputs": [
    {
     "data": {
      "image/png": "[encoded data removed]",
      "text/plain": [
       "<Figure size 1080x504 with 2 Axes>"
      ]
     },
     "metadata": {
      "needs_background": "light"
     },
     "output_type": "display_data"
    }
   ],
   "source": [
    "df_plot = pd.DataFrame()\n",
    "df_plot['True'] = y_test\n",
    "df_plot['Pred'] = class_index_test\n",
    "\n",
    "plt.figure(figsize=(15,7))\n",
    "plt.subplot(2,1,1)\n",
    "plt.hist(df_plot['Pred'], bins=15,  color=\"r\",label='Predicted Salary') # create histogram for each class\n",
    "plt.title('Prediction Distribution')\n",
    "plt.subplot(2,1,2)\n",
    "plt.hist(df_plot['True'], bins=15, color=\"b\",label='True Salary')\n",
    "plt.title('Target Distribution')\n",
    "plt.show()"
   ]
  },
  {
   "cell_type": "markdown",
   "metadata": {},
   "source": [
    "### Distribution of top three observation in test set as an example"
   ]
  },
  {
   "cell_type": "markdown",
   "metadata": {},
   "source": [
    "        The distributions of top three observations are plotted below, we can see the model chooses the max probability as the predicted class."
   ]
  },
  {
   "cell_type": "code",
   "execution_count": 104,
   "metadata": {},
   "outputs": [
    {
     "data": {
      "text/plain": [
       "0     0.063754\n",
       "1     0.047386\n",
       "2     0.074948\n",
       "3     0.047487\n",
       "4     0.110825\n",
       "5     0.104143\n",
       "6     0.087832\n",
       "7     0.085335\n",
       "8     0.043891\n",
       "9     0.059159\n",
       "10    0.081256\n",
       "11    0.046734\n",
       "12    0.069436\n",
       "13    0.025583\n",
       "14    0.052232\n",
       "Name: 0, dtype: float64"
      ]
     },
     "execution_count": 104,
     "metadata": {},
     "output_type": "execute_result"
    }
   ],
   "source": [
    "prob_test = pd.DataFrame(best_clf.predict_proba(X_test))\n",
    "prob_test.iloc[0,:]"
   ]
  },
  {
   "cell_type": "code",
   "execution_count": 105,
   "metadata": {},
   "outputs": [
    {
     "data": {
      "text/plain": [
       "array([0, 1, 0])"
      ]
     },
     "execution_count": 105,
     "metadata": {},
     "output_type": "execute_result"
    }
   ],
   "source": [
    "predictions[:3]"
   ]
  },
  {
   "cell_type": "code",
   "execution_count": 106,
   "metadata": {},
   "outputs": [
    {
     "data": {
      "image/png": "[encoded data removed]",
      "text/plain": [
       "<Figure size 1080x504 with 3 Axes>"
      ]
     },
     "metadata": {
      "needs_background": "light"
     },
     "output_type": "display_data"
    }
   ],
   "source": [
    "plt.figure(figsize=(15,7))\n",
    "plt.subplot(3,1,1)\n",
    "plt.bar(range(15),height=prob_test.iloc[0,:])\n",
    "plt.title('Distribution of First Observation')\n",
    "plt.xlabel('Classes')\n",
    "plt.ylabel('Probability')\n",
    "\n",
    "plt.subplot(3,1,2)\n",
    "plt.bar(range(15),height=prob_test.iloc[1,:])\n",
    "plt.title('Distribution of First Observation')\n",
    "plt.xlabel('Classes')\n",
    "plt.ylabel('Probability')\n",
    "\n",
    "plt.subplot(3,1,3)\n",
    "plt.bar(range(15),height=prob_test.iloc[2,:])\n",
    "plt.title('Distribution of First Observation')\n",
    "plt.xlabel('Classes')\n",
    "plt.ylabel('Probability')\n",
    "plt.tight_layout()\n",
    "plt.show()"
   ]
  },
  {
   "cell_type": "markdown",
   "metadata": {},
   "source": [
    "### Overfitting vs. Underfitting"
   ]
  },
  {
   "cell_type": "markdown",
   "metadata": {},
   "source": [
    "        Logistic Regression has one important hyper-parameter C called 'Inverse of regularization strength', the smaller the values of C, the stronger the regularization is, just opposite to the parameter lambda in rugularizer. Therefore, the smaller the C is, there will be underfitting since all weights are penalized by the regularization; and overfitting will occur when C gets bigger since penalty on weights is getting smaller and the model is most likely learned everything from training and may not generalize into new test data. At underfitting, training accuracy and test accuracy are both increasing but that of training will be higher; at overfitting, there will be a large difference between these two since test accuracy drops.\n",
    "        \n",
    "        From the graph generated below, we can see the training accuracy is increasing with C and almost staying constant after C gets to 10; test accuracy increases at the beginning and reach to a highest value at C = 0.01, then it drops to a constant value in the end. We can conclude that our model (C=0.1) is kind of overfitting by looking at the graph."
   ]
  },
  {
   "cell_type": "code",
   "execution_count": 107,
   "metadata": {},
   "outputs": [],
   "source": [
    "scaler = StandardScaler()\n",
    "kfold = KFold(n_splits=10,random_state=42,shuffle=True)\n",
    "kfold.get_n_splits(X)\n",
    "accuracy = np.zeros(10)\n",
    "np_idx = 0\n",
    "\n",
    "result_list = []\n",
    "C = [1e-4,1e-3,1e-2,1e-1,1,10]\n",
    "\n",
    "for c in C:    \n",
    "    \n",
    "        np_idx = 0\n",
    "        \n",
    "        clf = LogisticRegression(C=c,multi_class='ovr',solver='sag')\n",
    "        \n",
    "        for train_idx, test_idx in kfold.split(X):\n",
    "            X_train, X_test = X.values[train_idx], X.values[test_idx]\n",
    "            y_train, y_test = y.values[train_idx], y.values[test_idx]\n",
    "\n",
    "            X_train = scaler.fit_transform(X_train)\n",
    "            X_test = scaler.fit_transform(X_test)\n",
    "\n",
    "            clf.fit(X_train, y_train)# fit by training data\n",
    "            \n",
    "            y_train_predict = clf.predict(X_train)#predict training data\n",
    "\n",
    "            y_test_predict = clf.predict(X_test)#predict test data\n",
    "\n",
    "            train_accuracy = accuracy_score(y_train,y_train_predict)#get accuracy for training data\n",
    "        \n",
    "            test_accuracy = accuracy_score(y_test,y_test_predict)#get accuracy for test data\n",
    "            \n",
    "        result_list.append((c, train_accuracy.mean(), test_accuracy.mean()))"
   ]
  },
  {
   "cell_type": "code",
   "execution_count": 108,
   "metadata": {},
   "outputs": [
    {
     "data": {
      "image/png": "[encoded data removed]",
      "text/plain": [
       "<Figure size 1080x504 with 1 Axes>"
      ]
     },
     "metadata": {
      "needs_background": "light"
     },
     "output_type": "display_data"
    }
   ],
   "source": [
    "result_df = pd.DataFrame(result_list, columns=[\"C\", \"train_accuracy\", \"test_accuracy\"])\n",
    "result_df.plot(x=\"C\", y=[\"train_accuracy\", \"test_accuracy\"], logx=True,figsize=(15,7))\n",
    "plt.title('Training Accuracy vs. Test Accuracy')\n",
    "plt.xlabel('Model Complexity')\n",
    "plt.ylabel('Accuracy')\n",
    "plt.show()"
   ]
  },
  {
   "cell_type": "markdown",
   "metadata": {},
   "source": [
    "### Method to Increase Accuracy"
   ]
  },
  {
   "cell_type": "markdown",
   "metadata": {},
   "source": [
    "        For ordinal classification problems, it is important to have similar proportions of data from each class, in this assignment, we have class 0 in the one third of entire dataset and it may let the training process bias to class 0 and make the predictions less accurate, it is helpful if we have a more balanced dataset.\n",
    "        \n",
    "        Stronger algorithms could also help increase accuracy such as ensembles like boostings: it increases accuracy by bettering decisions made by last step in every iteration. They are generally more complex than traditional methods and the traditional methods give you a good base level from which you can improve and draw from to create your ensembles."
   ]
  }
 ],
 "metadata": {
  "colab": {
   "collapsed_sections": [
    "1zW-hSuVFJRV",
    "BZYW-OZ7FJRY",
    "1a_HnsI6FJRl",
    "Yn-1kU_iFJR8",
    "yVXc38KWFJSM",
    "AlJRWSnIFJSa",
    "UtZvViBvFJSj",
    "gzur0DOEFJSo",
    "UtDaLQMGFJSt",
    "IVkvvQ3BFJSw",
    "ANwGLdHAFJSx",
    "1FYjuhIqFJS4",
    "cLvYsFsuFJS-",
    "cCXJwpiaFJTF",
    "08IMpy7pFJTT",
    "kWyrmlzMFJTW",
    "4LXtuOePFJTX",
    "IDHAlZHuFJTe",
    "5v4WfSwSFJTk",
    "7bMHjSTaFJUJ"
   ],
   "name": "A1.ipynb",
   "provenance": []
  },
  "kernelspec": {
   "display_name": "Python 3",
   "language": "python",
   "name": "python3"
  },
  "language_info": {
   "codemirror_mode": {
    "name": "ipython",
    "version": 3
   },
   "file_extension": ".py",
   "mimetype": "text/x-python",
   "name": "python",
   "nbconvert_exporter": "python",
   "pygments_lexer": "ipython3",
   "version": "3.7.4"
  }
 },
 "nbformat": 4,
 "nbformat_minor": 1
}
